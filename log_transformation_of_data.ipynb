{
  "cells": [
    {
      "cell_type": "markdown",
      "metadata": {
        "id": "view-in-github",
        "colab_type": "text"
      },
      "source": [
        "<a href=\"https://colab.research.google.com/github/utopian18/ML_in_Textile/blob/main/log_transformation_of_data.ipynb\" target=\"_parent\"><img src=\"https://colab.research.google.com/assets/colab-badge.svg\" alt=\"Open In Colab\"/></a>"
      ]
    },
    {
      "cell_type": "code",
      "execution_count": null,
      "metadata": {
        "id": "6750376b"
      },
      "outputs": [],
      "source": [
        "#loading the basic packages\n",
        "import numpy as np\n",
        "import pandas as pd"
      ],
      "id": "6750376b"
    },
    {
      "cell_type": "code",
      "execution_count": null,
      "metadata": {
        "id": "2710182c"
      },
      "outputs": [],
      "source": [
        "#this data is already cleaned and we will do some processing\n",
        "df = pd.read_csv('textile_rejection_prediction.csv')"
      ],
      "id": "2710182c"
    },
    {
      "cell_type": "code",
      "execution_count": null,
      "metadata": {
        "colab": {
          "base_uri": "https://localhost:8080/",
          "height": 340
        },
        "id": "22dcedb1",
        "outputId": "69444531-72fa-4e68-b66f-7e78321cbe7d"
      },
      "outputs": [
        {
          "output_type": "execute_result",
          "data": {
            "text/html": [
              "\n",
              "  <div id=\"df-0097d0d0-ccac-4bf0-8dc7-e7e8cc47bf15\">\n",
              "    <div class=\"colab-df-container\">\n",
              "      <div>\n",
              "<style scoped>\n",
              "    .dataframe tbody tr th:only-of-type {\n",
              "        vertical-align: middle;\n",
              "    }\n",
              "\n",
              "    .dataframe tbody tr th {\n",
              "        vertical-align: top;\n",
              "    }\n",
              "\n",
              "    .dataframe thead th {\n",
              "        text-align: right;\n",
              "    }\n",
              "</style>\n",
              "<table border=\"1\" class=\"dataframe\">\n",
              "  <thead>\n",
              "    <tr style=\"text-align: right;\">\n",
              "      <th></th>\n",
              "      <th>Sl</th>\n",
              "      <th>lot_no.</th>\n",
              "      <th>warp_count</th>\n",
              "      <th>weft_count</th>\n",
              "      <th>epi</th>\n",
              "      <th>ppi</th>\n",
              "      <th>remark</th>\n",
              "      <th>F.Ord.(Yds)</th>\n",
              "      <th>Delivery</th>\n",
              "      <th>Req. Grey Qtv (Yds)</th>\n",
              "      <th>Shrin%</th>\n",
              "      <th>Req. Beam L(yds)</th>\n",
              "      <th>Recv. Beam L(Yds)</th>\n",
              "      <th>Deliverd Yds</th>\n",
              "      <th>Rej.Yds</th>\n",
              "      <th>Total Prod Yds</th>\n",
              "      <th>Short/Ex. Yds</th>\n",
              "      <th>Total loss%</th>\n",
              "    </tr>\n",
              "  </thead>\n",
              "  <tbody>\n",
              "    <tr>\n",
              "      <th>0</th>\n",
              "      <td>1</td>\n",
              "      <td>12207</td>\n",
              "      <td>40</td>\n",
              "      <td>40</td>\n",
              "      <td>110</td>\n",
              "      <td>80</td>\n",
              "      <td>double beam</td>\n",
              "      <td>31300</td>\n",
              "      <td>6.000360</td>\n",
              "      <td>33298</td>\n",
              "      <td>12.500542</td>\n",
              "      <td>38055.0928</td>\n",
              "      <td>38286.9360</td>\n",
              "      <td>34668</td>\n",
              "      <td>301.0</td>\n",
              "      <td>34969.0</td>\n",
              "      <td>1671.0</td>\n",
              "      <td>8.665974</td>\n",
              "    </tr>\n",
              "    <tr>\n",
              "      <th>1</th>\n",
              "      <td>2</td>\n",
              "      <td>12213</td>\n",
              "      <td>40</td>\n",
              "      <td>40</td>\n",
              "      <td>110</td>\n",
              "      <td>90</td>\n",
              "      <td>normal</td>\n",
              "      <td>54600</td>\n",
              "      <td>6.998927</td>\n",
              "      <td>58709</td>\n",
              "      <td>14.500689</td>\n",
              "      <td>68666.0504</td>\n",
              "      <td>69634.9800</td>\n",
              "      <td>59019</td>\n",
              "      <td>505.0</td>\n",
              "      <td>59524.0</td>\n",
              "      <td>815.0</td>\n",
              "      <td>14.519973</td>\n",
              "    </tr>\n",
              "    <tr>\n",
              "      <th>2</th>\n",
              "      <td>3</td>\n",
              "      <td>12313</td>\n",
              "      <td>40</td>\n",
              "      <td>40</td>\n",
              "      <td>110</td>\n",
              "      <td>90</td>\n",
              "      <td>normal</td>\n",
              "      <td>64715</td>\n",
              "      <td>6.999971</td>\n",
              "      <td>69586</td>\n",
              "      <td>14.499654</td>\n",
              "      <td>81386.8056</td>\n",
              "      <td>82556.9576</td>\n",
              "      <td>70613</td>\n",
              "      <td>341.0</td>\n",
              "      <td>70954.0</td>\n",
              "      <td>1368.0</td>\n",
              "      <td>14.054488</td>\n",
              "    </tr>\n",
              "    <tr>\n",
              "      <th>3</th>\n",
              "      <td>4</td>\n",
              "      <td>12315</td>\n",
              "      <td>40</td>\n",
              "      <td>40</td>\n",
              "      <td>110</td>\n",
              "      <td>90</td>\n",
              "      <td>normal</td>\n",
              "      <td>25500</td>\n",
              "      <td>6.998796</td>\n",
              "      <td>27419</td>\n",
              "      <td>14.502171</td>\n",
              "      <td>32069.8200</td>\n",
              "      <td>32353.0624</td>\n",
              "      <td>27820</td>\n",
              "      <td>0.0</td>\n",
              "      <td>27820.0</td>\n",
              "      <td>401.0</td>\n",
              "      <td>14.011231</td>\n",
              "    </tr>\n",
              "    <tr>\n",
              "      <th>4</th>\n",
              "      <td>5</td>\n",
              "      <td>12317</td>\n",
              "      <td>50</td>\n",
              "      <td>50</td>\n",
              "      <td>140</td>\n",
              "      <td>70</td>\n",
              "      <td>normal</td>\n",
              "      <td>20700</td>\n",
              "      <td>8.000000</td>\n",
              "      <td>22500</td>\n",
              "      <td>8.999734</td>\n",
              "      <td>24725.2024</td>\n",
              "      <td>24917.6760</td>\n",
              "      <td>22631</td>\n",
              "      <td>369.0</td>\n",
              "      <td>23000.0</td>\n",
              "      <td>500.0</td>\n",
              "      <td>7.696047</td>\n",
              "    </tr>\n",
              "  </tbody>\n",
              "</table>\n",
              "</div>\n",
              "      <button class=\"colab-df-convert\" onclick=\"convertToInteractive('df-0097d0d0-ccac-4bf0-8dc7-e7e8cc47bf15')\"\n",
              "              title=\"Convert this dataframe to an interactive table.\"\n",
              "              style=\"display:none;\">\n",
              "        \n",
              "  <svg xmlns=\"http://www.w3.org/2000/svg\" height=\"24px\"viewBox=\"0 0 24 24\"\n",
              "       width=\"24px\">\n",
              "    <path d=\"M0 0h24v24H0V0z\" fill=\"none\"/>\n",
              "    <path d=\"M18.56 5.44l.94 2.06.94-2.06 2.06-.94-2.06-.94-.94-2.06-.94 2.06-2.06.94zm-11 1L8.5 8.5l.94-2.06 2.06-.94-2.06-.94L8.5 2.5l-.94 2.06-2.06.94zm10 10l.94 2.06.94-2.06 2.06-.94-2.06-.94-.94-2.06-.94 2.06-2.06.94z\"/><path d=\"M17.41 7.96l-1.37-1.37c-.4-.4-.92-.59-1.43-.59-.52 0-1.04.2-1.43.59L10.3 9.45l-7.72 7.72c-.78.78-.78 2.05 0 2.83L4 21.41c.39.39.9.59 1.41.59.51 0 1.02-.2 1.41-.59l7.78-7.78 2.81-2.81c.8-.78.8-2.07 0-2.86zM5.41 20L4 18.59l7.72-7.72 1.47 1.35L5.41 20z\"/>\n",
              "  </svg>\n",
              "      </button>\n",
              "      \n",
              "  <style>\n",
              "    .colab-df-container {\n",
              "      display:flex;\n",
              "      flex-wrap:wrap;\n",
              "      gap: 12px;\n",
              "    }\n",
              "\n",
              "    .colab-df-convert {\n",
              "      background-color: #E8F0FE;\n",
              "      border: none;\n",
              "      border-radius: 50%;\n",
              "      cursor: pointer;\n",
              "      display: none;\n",
              "      fill: #1967D2;\n",
              "      height: 32px;\n",
              "      padding: 0 0 0 0;\n",
              "      width: 32px;\n",
              "    }\n",
              "\n",
              "    .colab-df-convert:hover {\n",
              "      background-color: #E2EBFA;\n",
              "      box-shadow: 0px 1px 2px rgba(60, 64, 67, 0.3), 0px 1px 3px 1px rgba(60, 64, 67, 0.15);\n",
              "      fill: #174EA6;\n",
              "    }\n",
              "\n",
              "    [theme=dark] .colab-df-convert {\n",
              "      background-color: #3B4455;\n",
              "      fill: #D2E3FC;\n",
              "    }\n",
              "\n",
              "    [theme=dark] .colab-df-convert:hover {\n",
              "      background-color: #434B5C;\n",
              "      box-shadow: 0px 1px 3px 1px rgba(0, 0, 0, 0.15);\n",
              "      filter: drop-shadow(0px 1px 2px rgba(0, 0, 0, 0.3));\n",
              "      fill: #FFFFFF;\n",
              "    }\n",
              "  </style>\n",
              "\n",
              "      <script>\n",
              "        const buttonEl =\n",
              "          document.querySelector('#df-0097d0d0-ccac-4bf0-8dc7-e7e8cc47bf15 button.colab-df-convert');\n",
              "        buttonEl.style.display =\n",
              "          google.colab.kernel.accessAllowed ? 'block' : 'none';\n",
              "\n",
              "        async function convertToInteractive(key) {\n",
              "          const element = document.querySelector('#df-0097d0d0-ccac-4bf0-8dc7-e7e8cc47bf15');\n",
              "          const dataTable =\n",
              "            await google.colab.kernel.invokeFunction('convertToInteractive',\n",
              "                                                     [key], {});\n",
              "          if (!dataTable) return;\n",
              "\n",
              "          const docLinkHtml = 'Like what you see? Visit the ' +\n",
              "            '<a target=\"_blank\" href=https://colab.research.google.com/notebooks/data_table.ipynb>data table notebook</a>'\n",
              "            + ' to learn more about interactive tables.';\n",
              "          element.innerHTML = '';\n",
              "          dataTable['output_type'] = 'display_data';\n",
              "          await google.colab.output.renderOutput(dataTable, element);\n",
              "          const docLink = document.createElement('div');\n",
              "          docLink.innerHTML = docLinkHtml;\n",
              "          element.appendChild(docLink);\n",
              "        }\n",
              "      </script>\n",
              "    </div>\n",
              "  </div>\n",
              "  "
            ],
            "text/plain": [
              "   Sl  lot_no.  warp_count  ...  Total Prod Yds  Short/Ex. Yds  Total loss%\n",
              "0   1    12207          40  ...         34969.0         1671.0     8.665974\n",
              "1   2    12213          40  ...         59524.0          815.0    14.519973\n",
              "2   3    12313          40  ...         70954.0         1368.0    14.054488\n",
              "3   4    12315          40  ...         27820.0          401.0    14.011231\n",
              "4   5    12317          50  ...         23000.0          500.0     7.696047\n",
              "\n",
              "[5 rows x 18 columns]"
            ]
          },
          "metadata": {},
          "execution_count": 4
        }
      ],
      "source": [
        "df.head()"
      ],
      "id": "22dcedb1"
    },
    {
      "cell_type": "markdown",
      "metadata": {
        "id": "AC931Zp7LY8I"
      },
      "source": [
        "It seems the dataset has a lot of unnecessay columns, such as: lot no., required grey quantity, delivered yds, rejection yards and so on. we will make a list of some essential parameters and add some features by feature engineering"
      ],
      "id": "AC931Zp7LY8I"
    },
    {
      "cell_type": "code",
      "execution_count": null,
      "metadata": {
        "colab": {
          "base_uri": "https://localhost:8080/"
        },
        "id": "JwfHOi0Qr7Yd",
        "outputId": "0c1c4664-f958-4397-b2bb-13150ba30e6c"
      },
      "outputs": [
        {
          "output_type": "execute_result",
          "data": {
            "text/plain": [
              "(409, 18)"
            ]
          },
          "metadata": {},
          "execution_count": 39
        }
      ],
      "source": [
        "df.shape"
      ],
      "id": "JwfHOi0Qr7Yd"
    },
    {
      "cell_type": "code",
      "source": [
        "#rename some feature's name to make it more pythonic\n",
        "df= df.rename(columns= {'Delivery': 'Allowance', 'remark':'beam_type', 'F.Ord.(Yds)':'Finish_order_yds', 'Shrin%': 'shrinkage' })"
      ],
      "metadata": {
        "id": "DQ_CnQSGGrmh"
      },
      "id": "DQ_CnQSGGrmh",
      "execution_count": null,
      "outputs": []
    },
    {
      "cell_type": "code",
      "source": [
        "df.head()"
      ],
      "metadata": {
        "colab": {
          "base_uri": "https://localhost:8080/",
          "height": 340
        },
        "id": "VBdcbXZZHUR3",
        "outputId": "b3bfaab1-5a55-44b8-b419-9902b30990cc"
      },
      "id": "VBdcbXZZHUR3",
      "execution_count": null,
      "outputs": [
        {
          "output_type": "execute_result",
          "data": {
            "text/html": [
              "\n",
              "  <div id=\"df-f654b6b5-3472-43bf-8f04-030f792bcb8f\">\n",
              "    <div class=\"colab-df-container\">\n",
              "      <div>\n",
              "<style scoped>\n",
              "    .dataframe tbody tr th:only-of-type {\n",
              "        vertical-align: middle;\n",
              "    }\n",
              "\n",
              "    .dataframe tbody tr th {\n",
              "        vertical-align: top;\n",
              "    }\n",
              "\n",
              "    .dataframe thead th {\n",
              "        text-align: right;\n",
              "    }\n",
              "</style>\n",
              "<table border=\"1\" class=\"dataframe\">\n",
              "  <thead>\n",
              "    <tr style=\"text-align: right;\">\n",
              "      <th></th>\n",
              "      <th>Sl</th>\n",
              "      <th>lot_no.</th>\n",
              "      <th>warp_count</th>\n",
              "      <th>weft_count</th>\n",
              "      <th>epi</th>\n",
              "      <th>ppi</th>\n",
              "      <th>beam_type</th>\n",
              "      <th>Finish_order_yds</th>\n",
              "      <th>Allowance</th>\n",
              "      <th>Req. Grey Qtv (Yds)</th>\n",
              "      <th>shrinkage</th>\n",
              "      <th>Req. Beam L(yds)</th>\n",
              "      <th>Recv. Beam L(Yds)</th>\n",
              "      <th>Deliverd Yds</th>\n",
              "      <th>Rej.Yds</th>\n",
              "      <th>Total Prod Yds</th>\n",
              "      <th>Short/Ex. Yds</th>\n",
              "      <th>Total loss%</th>\n",
              "    </tr>\n",
              "  </thead>\n",
              "  <tbody>\n",
              "    <tr>\n",
              "      <th>0</th>\n",
              "      <td>1</td>\n",
              "      <td>12207</td>\n",
              "      <td>40</td>\n",
              "      <td>40</td>\n",
              "      <td>110</td>\n",
              "      <td>80</td>\n",
              "      <td>double beam</td>\n",
              "      <td>31300</td>\n",
              "      <td>6.000360</td>\n",
              "      <td>33298</td>\n",
              "      <td>12.500542</td>\n",
              "      <td>38055.0928</td>\n",
              "      <td>38286.9360</td>\n",
              "      <td>34668</td>\n",
              "      <td>301.0</td>\n",
              "      <td>34969.0</td>\n",
              "      <td>1671.0</td>\n",
              "      <td>8.665974</td>\n",
              "    </tr>\n",
              "    <tr>\n",
              "      <th>1</th>\n",
              "      <td>2</td>\n",
              "      <td>12213</td>\n",
              "      <td>40</td>\n",
              "      <td>40</td>\n",
              "      <td>110</td>\n",
              "      <td>90</td>\n",
              "      <td>normal</td>\n",
              "      <td>54600</td>\n",
              "      <td>6.998927</td>\n",
              "      <td>58709</td>\n",
              "      <td>14.500689</td>\n",
              "      <td>68666.0504</td>\n",
              "      <td>69634.9800</td>\n",
              "      <td>59019</td>\n",
              "      <td>505.0</td>\n",
              "      <td>59524.0</td>\n",
              "      <td>815.0</td>\n",
              "      <td>14.519973</td>\n",
              "    </tr>\n",
              "    <tr>\n",
              "      <th>2</th>\n",
              "      <td>3</td>\n",
              "      <td>12313</td>\n",
              "      <td>40</td>\n",
              "      <td>40</td>\n",
              "      <td>110</td>\n",
              "      <td>90</td>\n",
              "      <td>normal</td>\n",
              "      <td>64715</td>\n",
              "      <td>6.999971</td>\n",
              "      <td>69586</td>\n",
              "      <td>14.499654</td>\n",
              "      <td>81386.8056</td>\n",
              "      <td>82556.9576</td>\n",
              "      <td>70613</td>\n",
              "      <td>341.0</td>\n",
              "      <td>70954.0</td>\n",
              "      <td>1368.0</td>\n",
              "      <td>14.054488</td>\n",
              "    </tr>\n",
              "    <tr>\n",
              "      <th>3</th>\n",
              "      <td>4</td>\n",
              "      <td>12315</td>\n",
              "      <td>40</td>\n",
              "      <td>40</td>\n",
              "      <td>110</td>\n",
              "      <td>90</td>\n",
              "      <td>normal</td>\n",
              "      <td>25500</td>\n",
              "      <td>6.998796</td>\n",
              "      <td>27419</td>\n",
              "      <td>14.502171</td>\n",
              "      <td>32069.8200</td>\n",
              "      <td>32353.0624</td>\n",
              "      <td>27820</td>\n",
              "      <td>0.0</td>\n",
              "      <td>27820.0</td>\n",
              "      <td>401.0</td>\n",
              "      <td>14.011231</td>\n",
              "    </tr>\n",
              "    <tr>\n",
              "      <th>4</th>\n",
              "      <td>5</td>\n",
              "      <td>12317</td>\n",
              "      <td>50</td>\n",
              "      <td>50</td>\n",
              "      <td>140</td>\n",
              "      <td>70</td>\n",
              "      <td>normal</td>\n",
              "      <td>20700</td>\n",
              "      <td>8.000000</td>\n",
              "      <td>22500</td>\n",
              "      <td>8.999734</td>\n",
              "      <td>24725.2024</td>\n",
              "      <td>24917.6760</td>\n",
              "      <td>22631</td>\n",
              "      <td>369.0</td>\n",
              "      <td>23000.0</td>\n",
              "      <td>500.0</td>\n",
              "      <td>7.696047</td>\n",
              "    </tr>\n",
              "  </tbody>\n",
              "</table>\n",
              "</div>\n",
              "      <button class=\"colab-df-convert\" onclick=\"convertToInteractive('df-f654b6b5-3472-43bf-8f04-030f792bcb8f')\"\n",
              "              title=\"Convert this dataframe to an interactive table.\"\n",
              "              style=\"display:none;\">\n",
              "        \n",
              "  <svg xmlns=\"http://www.w3.org/2000/svg\" height=\"24px\"viewBox=\"0 0 24 24\"\n",
              "       width=\"24px\">\n",
              "    <path d=\"M0 0h24v24H0V0z\" fill=\"none\"/>\n",
              "    <path d=\"M18.56 5.44l.94 2.06.94-2.06 2.06-.94-2.06-.94-.94-2.06-.94 2.06-2.06.94zm-11 1L8.5 8.5l.94-2.06 2.06-.94-2.06-.94L8.5 2.5l-.94 2.06-2.06.94zm10 10l.94 2.06.94-2.06 2.06-.94-2.06-.94-.94-2.06-.94 2.06-2.06.94z\"/><path d=\"M17.41 7.96l-1.37-1.37c-.4-.4-.92-.59-1.43-.59-.52 0-1.04.2-1.43.59L10.3 9.45l-7.72 7.72c-.78.78-.78 2.05 0 2.83L4 21.41c.39.39.9.59 1.41.59.51 0 1.02-.2 1.41-.59l7.78-7.78 2.81-2.81c.8-.78.8-2.07 0-2.86zM5.41 20L4 18.59l7.72-7.72 1.47 1.35L5.41 20z\"/>\n",
              "  </svg>\n",
              "      </button>\n",
              "      \n",
              "  <style>\n",
              "    .colab-df-container {\n",
              "      display:flex;\n",
              "      flex-wrap:wrap;\n",
              "      gap: 12px;\n",
              "    }\n",
              "\n",
              "    .colab-df-convert {\n",
              "      background-color: #E8F0FE;\n",
              "      border: none;\n",
              "      border-radius: 50%;\n",
              "      cursor: pointer;\n",
              "      display: none;\n",
              "      fill: #1967D2;\n",
              "      height: 32px;\n",
              "      padding: 0 0 0 0;\n",
              "      width: 32px;\n",
              "    }\n",
              "\n",
              "    .colab-df-convert:hover {\n",
              "      background-color: #E2EBFA;\n",
              "      box-shadow: 0px 1px 2px rgba(60, 64, 67, 0.3), 0px 1px 3px 1px rgba(60, 64, 67, 0.15);\n",
              "      fill: #174EA6;\n",
              "    }\n",
              "\n",
              "    [theme=dark] .colab-df-convert {\n",
              "      background-color: #3B4455;\n",
              "      fill: #D2E3FC;\n",
              "    }\n",
              "\n",
              "    [theme=dark] .colab-df-convert:hover {\n",
              "      background-color: #434B5C;\n",
              "      box-shadow: 0px 1px 3px 1px rgba(0, 0, 0, 0.15);\n",
              "      filter: drop-shadow(0px 1px 2px rgba(0, 0, 0, 0.3));\n",
              "      fill: #FFFFFF;\n",
              "    }\n",
              "  </style>\n",
              "\n",
              "      <script>\n",
              "        const buttonEl =\n",
              "          document.querySelector('#df-f654b6b5-3472-43bf-8f04-030f792bcb8f button.colab-df-convert');\n",
              "        buttonEl.style.display =\n",
              "          google.colab.kernel.accessAllowed ? 'block' : 'none';\n",
              "\n",
              "        async function convertToInteractive(key) {\n",
              "          const element = document.querySelector('#df-f654b6b5-3472-43bf-8f04-030f792bcb8f');\n",
              "          const dataTable =\n",
              "            await google.colab.kernel.invokeFunction('convertToInteractive',\n",
              "                                                     [key], {});\n",
              "          if (!dataTable) return;\n",
              "\n",
              "          const docLinkHtml = 'Like what you see? Visit the ' +\n",
              "            '<a target=\"_blank\" href=https://colab.research.google.com/notebooks/data_table.ipynb>data table notebook</a>'\n",
              "            + ' to learn more about interactive tables.';\n",
              "          element.innerHTML = '';\n",
              "          dataTable['output_type'] = 'display_data';\n",
              "          await google.colab.output.renderOutput(dataTable, element);\n",
              "          const docLink = document.createElement('div');\n",
              "          docLink.innerHTML = docLinkHtml;\n",
              "          element.appendChild(docLink);\n",
              "        }\n",
              "      </script>\n",
              "    </div>\n",
              "  </div>\n",
              "  "
            ],
            "text/plain": [
              "   Sl  lot_no.  warp_count  ...  Total Prod Yds  Short/Ex. Yds  Total loss%\n",
              "0   1    12207          40  ...         34969.0         1671.0     8.665974\n",
              "1   2    12213          40  ...         59524.0          815.0    14.519973\n",
              "2   3    12313          40  ...         70954.0         1368.0    14.054488\n",
              "3   4    12315          40  ...         27820.0          401.0    14.011231\n",
              "4   5    12317          50  ...         23000.0          500.0     7.696047\n",
              "\n",
              "[5 rows x 18 columns]"
            ]
          },
          "metadata": {},
          "execution_count": 41
        }
      ]
    },
    {
      "cell_type": "code",
      "source": [
        "df['Grey_Fabric_yds']= (df['Finish_order_yds']*100)/(100-df['Allowance'])\n",
        "df['Req_Beam_length_yds']= (df['Grey_Fabric_yds']*100)/(100-df['shrinkage'])"
      ],
      "metadata": {
        "id": "xnmnGnt_H0_d"
      },
      "id": "xnmnGnt_H0_d",
      "execution_count": null,
      "outputs": []
    },
    {
      "cell_type": "code",
      "source": [
        "use_cols = ['warp_count', 'weft_count', 'epi', 'ppi', 'beam_type', 'Finish_order_yds', 'Deliverd Yds', 'shrinkage','Total loss%']"
      ],
      "metadata": {
        "id": "RbNcS5E4C6pe"
      },
      "id": "RbNcS5E4C6pe",
      "execution_count": null,
      "outputs": []
    },
    {
      "cell_type": "code",
      "source": [
        "data = df[use_cols]"
      ],
      "metadata": {
        "id": "CqKNUcnGGAV4"
      },
      "id": "CqKNUcnGGAV4",
      "execution_count": null,
      "outputs": []
    },
    {
      "cell_type": "markdown",
      "source": [
        "**Exploratory Data Analysis**"
      ],
      "metadata": {
        "id": "nNWjC9CooXPT"
      },
      "id": "nNWjC9CooXPT"
    },
    {
      "cell_type": "code",
      "source": [
        "data.describe()"
      ],
      "metadata": {
        "colab": {
          "base_uri": "https://localhost:8080/",
          "height": 300
        },
        "id": "LEX3MpoMoWN2",
        "outputId": "8852431a-41b6-4a42-e752-83c3192f5316"
      },
      "id": "LEX3MpoMoWN2",
      "execution_count": null,
      "outputs": [
        {
          "output_type": "execute_result",
          "data": {
            "text/html": [
              "\n",
              "  <div id=\"df-0be74882-854c-41ad-a912-51e64ee6c38d\">\n",
              "    <div class=\"colab-df-container\">\n",
              "      <div>\n",
              "<style scoped>\n",
              "    .dataframe tbody tr th:only-of-type {\n",
              "        vertical-align: middle;\n",
              "    }\n",
              "\n",
              "    .dataframe tbody tr th {\n",
              "        vertical-align: top;\n",
              "    }\n",
              "\n",
              "    .dataframe thead th {\n",
              "        text-align: right;\n",
              "    }\n",
              "</style>\n",
              "<table border=\"1\" class=\"dataframe\">\n",
              "  <thead>\n",
              "    <tr style=\"text-align: right;\">\n",
              "      <th></th>\n",
              "      <th>warp_count</th>\n",
              "      <th>weft_count</th>\n",
              "      <th>epi</th>\n",
              "      <th>ppi</th>\n",
              "      <th>Finish_order_yds</th>\n",
              "      <th>Deliverd Yds</th>\n",
              "      <th>shrinkage</th>\n",
              "      <th>Total loss%</th>\n",
              "    </tr>\n",
              "  </thead>\n",
              "  <tbody>\n",
              "    <tr>\n",
              "      <th>count</th>\n",
              "      <td>409.000000</td>\n",
              "      <td>409.000000</td>\n",
              "      <td>409.000000</td>\n",
              "      <td>409.000000</td>\n",
              "      <td>409.000000</td>\n",
              "      <td>409.000000</td>\n",
              "      <td>409.000000</td>\n",
              "      <td>409.000000</td>\n",
              "    </tr>\n",
              "    <tr>\n",
              "      <th>mean</th>\n",
              "      <td>40.709046</td>\n",
              "      <td>40.880196</td>\n",
              "      <td>118.828851</td>\n",
              "      <td>80.606357</td>\n",
              "      <td>6928.193154</td>\n",
              "      <td>7417.909535</td>\n",
              "      <td>12.939112</td>\n",
              "      <td>12.795277</td>\n",
              "    </tr>\n",
              "    <tr>\n",
              "      <th>std</th>\n",
              "      <td>6.319588</td>\n",
              "      <td>6.874778</td>\n",
              "      <td>14.638790</td>\n",
              "      <td>8.958732</td>\n",
              "      <td>14015.522773</td>\n",
              "      <td>15060.748940</td>\n",
              "      <td>3.860298</td>\n",
              "      <td>4.089565</td>\n",
              "    </tr>\n",
              "    <tr>\n",
              "      <th>min</th>\n",
              "      <td>20.000000</td>\n",
              "      <td>20.000000</td>\n",
              "      <td>30.000000</td>\n",
              "      <td>44.000000</td>\n",
              "      <td>250.000000</td>\n",
              "      <td>316.000000</td>\n",
              "      <td>1.483345</td>\n",
              "      <td>-8.469815</td>\n",
              "    </tr>\n",
              "    <tr>\n",
              "      <th>25%</th>\n",
              "      <td>40.000000</td>\n",
              "      <td>40.000000</td>\n",
              "      <td>110.000000</td>\n",
              "      <td>80.000000</td>\n",
              "      <td>1450.000000</td>\n",
              "      <td>1621.000000</td>\n",
              "      <td>10.519508</td>\n",
              "      <td>11.068249</td>\n",
              "    </tr>\n",
              "    <tr>\n",
              "      <th>50%</th>\n",
              "      <td>40.000000</td>\n",
              "      <td>40.000000</td>\n",
              "      <td>120.000000</td>\n",
              "      <td>80.000000</td>\n",
              "      <td>2900.000000</td>\n",
              "      <td>3130.000000</td>\n",
              "      <td>12.754421</td>\n",
              "      <td>13.242584</td>\n",
              "    </tr>\n",
              "    <tr>\n",
              "      <th>75%</th>\n",
              "      <td>40.000000</td>\n",
              "      <td>40.000000</td>\n",
              "      <td>130.000000</td>\n",
              "      <td>90.000000</td>\n",
              "      <td>6065.000000</td>\n",
              "      <td>6513.000000</td>\n",
              "      <td>14.445031</td>\n",
              "      <td>14.429823</td>\n",
              "    </tr>\n",
              "    <tr>\n",
              "      <th>max</th>\n",
              "      <td>80.000000</td>\n",
              "      <td>80.000000</td>\n",
              "      <td>160.000000</td>\n",
              "      <td>106.000000</td>\n",
              "      <td>172800.000000</td>\n",
              "      <td>185515.000000</td>\n",
              "      <td>66.165261</td>\n",
              "      <td>65.477430</td>\n",
              "    </tr>\n",
              "  </tbody>\n",
              "</table>\n",
              "</div>\n",
              "      <button class=\"colab-df-convert\" onclick=\"convertToInteractive('df-0be74882-854c-41ad-a912-51e64ee6c38d')\"\n",
              "              title=\"Convert this dataframe to an interactive table.\"\n",
              "              style=\"display:none;\">\n",
              "        \n",
              "  <svg xmlns=\"http://www.w3.org/2000/svg\" height=\"24px\"viewBox=\"0 0 24 24\"\n",
              "       width=\"24px\">\n",
              "    <path d=\"M0 0h24v24H0V0z\" fill=\"none\"/>\n",
              "    <path d=\"M18.56 5.44l.94 2.06.94-2.06 2.06-.94-2.06-.94-.94-2.06-.94 2.06-2.06.94zm-11 1L8.5 8.5l.94-2.06 2.06-.94-2.06-.94L8.5 2.5l-.94 2.06-2.06.94zm10 10l.94 2.06.94-2.06 2.06-.94-2.06-.94-.94-2.06-.94 2.06-2.06.94z\"/><path d=\"M17.41 7.96l-1.37-1.37c-.4-.4-.92-.59-1.43-.59-.52 0-1.04.2-1.43.59L10.3 9.45l-7.72 7.72c-.78.78-.78 2.05 0 2.83L4 21.41c.39.39.9.59 1.41.59.51 0 1.02-.2 1.41-.59l7.78-7.78 2.81-2.81c.8-.78.8-2.07 0-2.86zM5.41 20L4 18.59l7.72-7.72 1.47 1.35L5.41 20z\"/>\n",
              "  </svg>\n",
              "      </button>\n",
              "      \n",
              "  <style>\n",
              "    .colab-df-container {\n",
              "      display:flex;\n",
              "      flex-wrap:wrap;\n",
              "      gap: 12px;\n",
              "    }\n",
              "\n",
              "    .colab-df-convert {\n",
              "      background-color: #E8F0FE;\n",
              "      border: none;\n",
              "      border-radius: 50%;\n",
              "      cursor: pointer;\n",
              "      display: none;\n",
              "      fill: #1967D2;\n",
              "      height: 32px;\n",
              "      padding: 0 0 0 0;\n",
              "      width: 32px;\n",
              "    }\n",
              "\n",
              "    .colab-df-convert:hover {\n",
              "      background-color: #E2EBFA;\n",
              "      box-shadow: 0px 1px 2px rgba(60, 64, 67, 0.3), 0px 1px 3px 1px rgba(60, 64, 67, 0.15);\n",
              "      fill: #174EA6;\n",
              "    }\n",
              "\n",
              "    [theme=dark] .colab-df-convert {\n",
              "      background-color: #3B4455;\n",
              "      fill: #D2E3FC;\n",
              "    }\n",
              "\n",
              "    [theme=dark] .colab-df-convert:hover {\n",
              "      background-color: #434B5C;\n",
              "      box-shadow: 0px 1px 3px 1px rgba(0, 0, 0, 0.15);\n",
              "      filter: drop-shadow(0px 1px 2px rgba(0, 0, 0, 0.3));\n",
              "      fill: #FFFFFF;\n",
              "    }\n",
              "  </style>\n",
              "\n",
              "      <script>\n",
              "        const buttonEl =\n",
              "          document.querySelector('#df-0be74882-854c-41ad-a912-51e64ee6c38d button.colab-df-convert');\n",
              "        buttonEl.style.display =\n",
              "          google.colab.kernel.accessAllowed ? 'block' : 'none';\n",
              "\n",
              "        async function convertToInteractive(key) {\n",
              "          const element = document.querySelector('#df-0be74882-854c-41ad-a912-51e64ee6c38d');\n",
              "          const dataTable =\n",
              "            await google.colab.kernel.invokeFunction('convertToInteractive',\n",
              "                                                     [key], {});\n",
              "          if (!dataTable) return;\n",
              "\n",
              "          const docLinkHtml = 'Like what you see? Visit the ' +\n",
              "            '<a target=\"_blank\" href=https://colab.research.google.com/notebooks/data_table.ipynb>data table notebook</a>'\n",
              "            + ' to learn more about interactive tables.';\n",
              "          element.innerHTML = '';\n",
              "          dataTable['output_type'] = 'display_data';\n",
              "          await google.colab.output.renderOutput(dataTable, element);\n",
              "          const docLink = document.createElement('div');\n",
              "          docLink.innerHTML = docLinkHtml;\n",
              "          element.appendChild(docLink);\n",
              "        }\n",
              "      </script>\n",
              "    </div>\n",
              "  </div>\n",
              "  "
            ],
            "text/plain": [
              "       warp_count  weft_count  ...   shrinkage  Total loss%\n",
              "count  409.000000  409.000000  ...  409.000000   409.000000\n",
              "mean    40.709046   40.880196  ...   12.939112    12.795277\n",
              "std      6.319588    6.874778  ...    3.860298     4.089565\n",
              "min     20.000000   20.000000  ...    1.483345    -8.469815\n",
              "25%     40.000000   40.000000  ...   10.519508    11.068249\n",
              "50%     40.000000   40.000000  ...   12.754421    13.242584\n",
              "75%     40.000000   40.000000  ...   14.445031    14.429823\n",
              "max     80.000000   80.000000  ...   66.165261    65.477430\n",
              "\n",
              "[8 rows x 8 columns]"
            ]
          },
          "metadata": {},
          "execution_count": 9
        }
      ]
    },
    {
      "cell_type": "markdown",
      "source": [
        "**Lets plot all histograms of the numerical columns**"
      ],
      "metadata": {
        "id": "d2OTg8jAISqO"
      },
      "id": "d2OTg8jAISqO"
    },
    {
      "cell_type": "code",
      "source": [
        "import matplotlib.pyplot as plt\n"
      ],
      "metadata": {
        "id": "UROKmGsCIZQA"
      },
      "id": "UROKmGsCIZQA",
      "execution_count": null,
      "outputs": []
    },
    {
      "cell_type": "code",
      "source": [
        "data.shape"
      ],
      "metadata": {
        "colab": {
          "base_uri": "https://localhost:8080/"
        },
        "id": "WiiNIC1WFkkZ",
        "outputId": "e0107ea7-6fc8-4a85-a287-4fc1b0b79db2"
      },
      "id": "WiiNIC1WFkkZ",
      "execution_count": null,
      "outputs": [
        {
          "output_type": "execute_result",
          "data": {
            "text/plain": [
              "(409, 9)"
            ]
          },
          "metadata": {},
          "execution_count": 46
        }
      ]
    },
    {
      "cell_type": "code",
      "source": [
        "figs, axs = plt.subplots(nrows=2,ncols=4, figsize=(10,4))\n",
        "for i, (col, ax) in enumerate(zip(data.select_dtypes(exclude='object').columns, axs.flatten())):\n",
        "  ax.hist(data[col])\n",
        "  ax.set_title(col)\n",
        "plt.tight_layout()"
      ],
      "metadata": {
        "colab": {
          "base_uri": "https://localhost:8080/",
          "height": 297
        },
        "id": "MdcsBehUFbBv",
        "outputId": "44df42e0-3e29-431e-9941-988df6376ac0"
      },
      "id": "MdcsBehUFbBv",
      "execution_count": null,
      "outputs": [
        {
          "output_type": "display_data",
          "data": {
            "image/png": "[encoded data removed]",
            "text/plain": [
              "<Figure size 720x288 with 8 Axes>"
            ]
          },
          "metadata": {
            "needs_background": "light"
          }
        }
      ]
    },
    {
      "cell_type": "markdown",
      "source": [
        "**Removing outliers**"
      ],
      "metadata": {
        "id": "xCRLgsvYMr2T"
      },
      "id": "xCRLgsvYMr2T"
    },
    {
      "cell_type": "code",
      "source": [
        "q1= data['Total loss%'].quantile(0.1)\n",
        "q4 = data['Total loss%'].quantile(0.99)"
      ],
      "metadata": {
        "id": "4dIBQXRKFbD4"
      },
      "id": "4dIBQXRKFbD4",
      "execution_count": null,
      "outputs": []
    },
    {
      "cell_type": "code",
      "source": [
        "data2= data[data['Total loss%']>q1]"
      ],
      "metadata": {
        "id": "IRJb3Q-iFbGu"
      },
      "id": "IRJb3Q-iFbGu",
      "execution_count": null,
      "outputs": []
    },
    {
      "cell_type": "code",
      "source": [
        "df = data2[data2['Total loss%']<q4]"
      ],
      "metadata": {
        "id": "yNnv62gTIPp0"
      },
      "id": "yNnv62gTIPp0",
      "execution_count": null,
      "outputs": []
    },
    {
      "cell_type": "code",
      "source": [
        "figs, axs = plt.subplots(ncols=3, nrows=3, figsize=(12,6))\n",
        "for i, (col, ax) in enumerate(zip(df.columns, axs.flatten())):\n",
        "  ax.hist(df[col])\n",
        "  ax.set_title(col)\n",
        "plt.tight_layout()"
      ],
      "metadata": {
        "colab": {
          "base_uri": "https://localhost:8080/",
          "height": 441
        },
        "id": "99yPDP6HIPsv",
        "outputId": "bd409965-e629-488a-eed8-0b8e1f638b14"
      },
      "id": "99yPDP6HIPsv",
      "execution_count": null,
      "outputs": [
        {
          "output_type": "display_data",
          "data": {
            "image/png": "[encoded data removed]",
            "text/plain": [
              "<Figure size 864x432 with 9 Axes>"
            ]
          },
          "metadata": {
            "needs_background": "light"
          }
        }
      ]
    },
    {
      "cell_type": "code",
      "source": [
        "import seaborn as sns"
      ],
      "metadata": {
        "id": "klFsuOG_Nz6c"
      },
      "id": "klFsuOG_Nz6c",
      "execution_count": null,
      "outputs": []
    },
    {
      "cell_type": "code",
      "source": [
        "fig, axes = plt.subplots(nrows=2, ncols=4, figsize=(10,4))\n",
        "for i, (col, ax) in enumerate(zip(df.select_dtypes(exclude='object').columns, axes.flatten())):\n",
        "  sns.histplot(df[col], kde= True, ax= ax)\n",
        "plt.tight_layout()"
      ],
      "metadata": {
        "colab": {
          "base_uri": "https://localhost:8080/",
          "height": 297
        },
        "id": "esfUb-NkNLRj",
        "outputId": "06b39837-a4d1-4189-9f94-3cf56edeaf1c"
      },
      "id": "esfUb-NkNLRj",
      "execution_count": null,
      "outputs": [
        {
          "output_type": "display_data",
          "data": {
            "image/png": "[encoded data removed]",
            "text/plain": [
              "<Figure size 720x288 with 8 Axes>"
            ]
          },
          "metadata": {
            "needs_background": "light"
          }
        }
      ]
    },
    {
      "cell_type": "code",
      "source": [
        "df['log_finish_order_yds'] = np.log(df['Finish_order_yds'])"
      ],
      "metadata": {
        "colab": {
          "base_uri": "https://localhost:8080/"
        },
        "id": "-ggqM44hOGYC",
        "outputId": "f2236de3-e22b-400f-ab1e-5ed03798220d"
      },
      "id": "-ggqM44hOGYC",
      "execution_count": null,
      "outputs": [
        {
          "output_type": "stream",
          "name": "stderr",
          "text": [
            "/usr/local/lib/python3.7/dist-packages/ipykernel_launcher.py:1: SettingWithCopyWarning: \n",
            "A value is trying to be set on a copy of a slice from a DataFrame.\n",
            "Try using .loc[row_indexer,col_indexer] = value instead\n",
            "\n",
            "See the caveats in the documentation: https://pandas.pydata.org/pandas-docs/stable/user_guide/indexing.html#returning-a-view-versus-a-copy\n",
            "  \"\"\"Entry point for launching an IPython kernel.\n"
          ]
        }
      ]
    },
    {
      "cell_type": "code",
      "source": [
        "fig, axes = plt.subplots(1,2, figsize=(12,4))\n",
        "axes[0].hist(df['Finish_order_yds']);\n",
        "axes[0].set_title('without log transformation')\n",
        "axes[1].hist(df['log_finish_order_yds']);\n",
        "axes[1].set_title('After log transformation')\n"
      ],
      "metadata": {
        "colab": {
          "base_uri": "https://localhost:8080/",
          "height": 298
        },
        "id": "a5uaUT13OacV",
        "outputId": "ba7f83f0-ac40-4eba-923f-4f3e74ec6b28"
      },
      "id": "a5uaUT13OacV",
      "execution_count": null,
      "outputs": [
        {
          "output_type": "execute_result",
          "data": {
            "text/plain": [
              "Text(0.5, 1.0, 'After log transformation')"
            ]
          },
          "metadata": {},
          "execution_count": 29
        },
        {
          "output_type": "display_data",
          "data": {
            "image/png": "[encoded data removed]",
            "text/plain": [
              "<Figure size 864x288 with 2 Axes>"
            ]
          },
          "metadata": {
            "needs_background": "light"
          }
        }
      ]
    },
    {
      "cell_type": "code",
      "source": [
        "df['log_delivered_yds']= np.log(df['Deliverd Yds'])"
      ],
      "metadata": {
        "colab": {
          "base_uri": "https://localhost:8080/"
        },
        "id": "KzR2-7jTOGhV",
        "outputId": "bb982b01-9da8-4dfc-e6a8-4ad0e352b20c"
      },
      "id": "KzR2-7jTOGhV",
      "execution_count": null,
      "outputs": [
        {
          "output_type": "stream",
          "name": "stderr",
          "text": [
            "/usr/local/lib/python3.7/dist-packages/ipykernel_launcher.py:1: SettingWithCopyWarning: \n",
            "A value is trying to be set on a copy of a slice from a DataFrame.\n",
            "Try using .loc[row_indexer,col_indexer] = value instead\n",
            "\n",
            "See the caveats in the documentation: https://pandas.pydata.org/pandas-docs/stable/user_guide/indexing.html#returning-a-view-versus-a-copy\n",
            "  \"\"\"Entry point for launching an IPython kernel.\n"
          ]
        }
      ]
    },
    {
      "cell_type": "code",
      "source": [
        "fig, axes = plt.subplots(1,2, figsize=(12,4))\n",
        "axes[0].hist(df['Deliverd Yds'])\n",
        "axes[0].set_title('without_log_transformation')\n",
        "axes[1].hist(df['log_delivered_yds'])\n",
        "axes[1].set_title('log_delivered_yds')\n"
      ],
      "metadata": {
        "colab": {
          "base_uri": "https://localhost:8080/",
          "height": 298
        },
        "id": "ooHb2ED8PR3d",
        "outputId": "191d854e-6d35-42e5-ffcb-39581218746f"
      },
      "id": "ooHb2ED8PR3d",
      "execution_count": null,
      "outputs": [
        {
          "output_type": "execute_result",
          "data": {
            "text/plain": [
              "Text(0.5, 1.0, 'log_delivered_yds')"
            ]
          },
          "metadata": {},
          "execution_count": 34
        },
        {
          "output_type": "display_data",
          "data": {
            "image/png": "[encoded data removed]",
            "text/plain": [
              "<Figure size 864x288 with 2 Axes>"
            ]
          },
          "metadata": {
            "needs_background": "light"
          }
        }
      ]
    },
    {
      "cell_type": "code",
      "source": [
        "df.shape"
      ],
      "metadata": {
        "colab": {
          "base_uri": "https://localhost:8080/"
        },
        "id": "lAw6weuvPR_X",
        "outputId": "1ddb4162-d819-4001-861a-d1a67b4d32f4"
      },
      "id": "lAw6weuvPR_X",
      "execution_count": null,
      "outputs": [
        {
          "output_type": "execute_result",
          "data": {
            "text/plain": [
              "(363, 11)"
            ]
          },
          "metadata": {},
          "execution_count": 35
        }
      ]
    },
    {
      "cell_type": "markdown",
      "source": [
        "**All the historgrams after log_transformation**"
      ],
      "metadata": {
        "id": "sBMKamKtU9gc"
      },
      "id": "sBMKamKtU9gc"
    },
    {
      "cell_type": "code",
      "source": [
        "fig, axes = plt.subplots(4,3, figsize=(12,6))\n",
        "for col, ax in zip(df.columns, axes.flatten()):\n",
        "  sns.histplot(df[col], ax=ax, kde=True)\n",
        "plt.tight_layout()"
      ],
      "metadata": {
        "colab": {
          "base_uri": "https://localhost:8080/",
          "height": 440
        },
        "id": "Y2y3S64VPxVW",
        "outputId": "d91cd77b-eb97-4e69-9578-abffc142c789"
      },
      "id": "Y2y3S64VPxVW",
      "execution_count": null,
      "outputs": [
        {
          "output_type": "display_data",
          "data": {
            "image/png": "[encoded data removed]",
            "text/plain": [
              "<Figure size 864x432 with 12 Axes>"
            ]
          },
          "metadata": {
            "needs_background": "light"
          }
        }
      ]
    },
    {
      "cell_type": "code",
      "source": [
        "df['log_finish_order_yds'].hist()"
      ],
      "metadata": {
        "colab": {
          "base_uri": "https://localhost:8080/",
          "height": 282
        },
        "id": "TQDdLRtYOGkz",
        "outputId": "4270d355-3917-48a4-ae17-2bbc8629b921"
      },
      "id": "TQDdLRtYOGkz",
      "execution_count": null,
      "outputs": [
        {
          "output_type": "execute_result",
          "data": {
            "text/plain": [
              "<matplotlib.axes._subplots.AxesSubplot at 0x7fbca6ba5050>"
            ]
          },
          "metadata": {},
          "execution_count": 24
        },
        {
          "output_type": "display_data",
          "data": {
            "image/png": "[encoded data removed]",
            "text/plain": [
              "<Figure size 432x288 with 1 Axes>"
            ]
          },
          "metadata": {
            "needs_background": "light"
          }
        }
      ]
    },
    {
      "cell_type": "code",
      "source": [
        "# df.to_csv('ANN_for_textile_no_outliers.csv')"
      ],
      "metadata": {
        "id": "TnMjJl58NTqM"
      },
      "id": "TnMjJl58NTqM",
      "execution_count": null,
      "outputs": []
    },
    {
      "cell_type": "code",
      "source": [
        "# df['log_ppi']= np.log(df['ppi'])"
      ],
      "metadata": {
        "id": "-IMfpg-KNXoD"
      },
      "id": "-IMfpg-KNXoD",
      "execution_count": null,
      "outputs": []
    },
    {
      "cell_type": "code",
      "source": [
        "# df['log_ppi'].hist()"
      ],
      "metadata": {
        "id": "oU5vReeEUSa4"
      },
      "id": "oU5vReeEUSa4",
      "execution_count": null,
      "outputs": []
    },
    {
      "cell_type": "code",
      "source": [
        "df.to_csv('log_transformed_data.csv', index= False)"
      ],
      "metadata": {
        "id": "-nown2PxUd4W"
      },
      "id": "-nown2PxUd4W",
      "execution_count": null,
      "outputs": []
    },
    {
      "cell_type": "code",
      "source": [
        ""
      ],
      "metadata": {
        "id": "0OqfTXgoUd-y"
      },
      "id": "0OqfTXgoUd-y",
      "execution_count": null,
      "outputs": []
    },
    {
      "cell_type": "markdown",
      "source": [
        "Train Test split"
      ],
      "metadata": {
        "id": "jhjHrZeUJiOl"
      },
      "id": "jhjHrZeUJiOl"
    },
    {
      "cell_type": "code",
      "source": [
        "from sklearn.model_selection import train_test_split"
      ],
      "metadata": {
        "id": "TiK9BoQsJfA8"
      },
      "id": "TiK9BoQsJfA8",
      "execution_count": null,
      "outputs": []
    },
    {
      "cell_type": "code",
      "source": [
        "X = df.copy()\n",
        "y= X.pop('Total loss%')"
      ],
      "metadata": {
        "id": "my-luinXJxBO"
      },
      "id": "my-luinXJxBO",
      "execution_count": null,
      "outputs": []
    },
    {
      "cell_type": "code",
      "source": [
        "X_train, X_test, y_train, y_test = train_test_split(X,y, test_size=0.2, random_state=0)"
      ],
      "metadata": {
        "id": "PnbXZdZOJfSb"
      },
      "id": "PnbXZdZOJfSb",
      "execution_count": null,
      "outputs": []
    },
    {
      "cell_type": "code",
      "source": [
        ""
      ],
      "metadata": {
        "id": "izS1KiBuJfVI"
      },
      "id": "izS1KiBuJfVI",
      "execution_count": null,
      "outputs": []
    },
    {
      "cell_type": "markdown",
      "source": [
        "**XGB implement**"
      ],
      "metadata": {
        "id": "6zpmIi_5J7NB"
      },
      "id": "6zpmIi_5J7NB"
    },
    {
      "cell_type": "code",
      "source": [
        "from xgboost import XGBRegressor"
      ],
      "metadata": {
        "id": "gf5Wo7ZhJ-mv"
      },
      "id": "gf5Wo7ZhJ-mv",
      "execution_count": null,
      "outputs": []
    },
    {
      "cell_type": "code",
      "source": [
        "xgb = XGBRegressor()"
      ],
      "metadata": {
        "id": "v-N6Q_fVJ-ph"
      },
      "id": "v-N6Q_fVJ-ph",
      "execution_count": null,
      "outputs": []
    },
    {
      "cell_type": "code",
      "source": [
        "xgb.fit(X_train, y_train)\n",
        "y_pred = xgb.predict(X_test)"
      ],
      "metadata": {
        "colab": {
          "base_uri": "https://localhost:8080/"
        },
        "id": "VP0UyAwVKPpr",
        "outputId": "54b5e98f-5926-426d-a94f-de3c94bccad6"
      },
      "id": "VP0UyAwVKPpr",
      "execution_count": null,
      "outputs": [
        {
          "output_type": "stream",
          "name": "stdout",
          "text": [
            "[05:16:34] WARNING: /workspace/src/objective/regression_obj.cu:152: reg:linear is now deprecated in favor of reg:squarederror.\n"
          ]
        }
      ]
    },
    {
      "cell_type": "code",
      "source": [
        "from sklearn.metrics import r2_score\n"
      ],
      "metadata": {
        "id": "q4v2p39rKPr_"
      },
      "id": "q4v2p39rKPr_",
      "execution_count": null,
      "outputs": []
    },
    {
      "cell_type": "code",
      "source": [
        "r2_score(y_test, y_pred)"
      ],
      "metadata": {
        "colab": {
          "base_uri": "https://localhost:8080/"
        },
        "id": "S78js6ByKfos",
        "outputId": "34855f5a-5b1c-400e-a403-29c83502a514"
      },
      "id": "S78js6ByKfos",
      "execution_count": null,
      "outputs": [
        {
          "output_type": "execute_result",
          "data": {
            "text/plain": [
              "0.44755333127848596"
            ]
          },
          "metadata": {},
          "execution_count": 30
        }
      ]
    },
    {
      "cell_type": "code",
      "source": [
        "plt.scatter(x= range(0, df.shape[0]), y= y )\n",
        "plt.scatter(x=range(0,len(y_pred)), y= y_pred)"
      ],
      "metadata": {
        "colab": {
          "base_uri": "https://localhost:8080/",
          "height": 282
        },
        "id": "nCGg3Oy3KfrK",
        "outputId": "7c14c70e-ca6d-402e-f46c-36c4de3e3fe1"
      },
      "id": "nCGg3Oy3KfrK",
      "execution_count": null,
      "outputs": [
        {
          "output_type": "execute_result",
          "data": {
            "text/plain": [
              "<matplotlib.collections.PathCollection at 0x7fd6cca891d0>"
            ]
          },
          "metadata": {},
          "execution_count": 34
        },
        {
          "output_type": "display_data",
          "data": {
            "image/png": "[encoded data removed]",
            "text/plain": [
              "<Figure size 432x288 with 1 Axes>"
            ]
          },
          "metadata": {
            "needs_background": "light"
          }
        }
      ]
    },
    {
      "cell_type": "code",
      "source": [
        "fig, axes = plt.subplots(nrows=4, ncols=4, figsize=(12,8))\n",
        "for i, (col, ax) in enumerate(zip(df2.select_dtypes(exclude='object').columns[2:], axes.flatten())):\n",
        "  sns.histplot(df2[col], kde= True, ax= ax)\n",
        "plt.tight_layout()"
      ],
      "metadata": {
        "colab": {
          "base_uri": "https://localhost:8080/",
          "height": 585
        },
        "id": "2sW8V3PszC7x",
        "outputId": "b3feedff-898f-486c-ae6a-9a89fc347b25"
      },
      "id": "2sW8V3PszC7x",
      "execution_count": null,
      "outputs": [
        {
          "output_type": "display_data",
          "data": {
            "image/png": "[encoded data removed]",
            "text/plain": [
              "<Figure size 864x576 with 16 Axes>"
            ]
          },
          "metadata": {
            "needs_background": "light"
          }
        }
      ]
    },
    {
      "cell_type": "code",
      "source": [
        "df2.loc[:,'log_F_ords']= np.log1p(df2['F.Ord.(Yds)'])"
      ],
      "metadata": {
        "colab": {
          "base_uri": "https://localhost:8080/"
        },
        "id": "7eM45o-JzC-s",
        "outputId": "2b85f2ac-c735-4ac4-b8b2-c4f27509f921"
      },
      "id": "7eM45o-JzC-s",
      "execution_count": null,
      "outputs": [
        {
          "output_type": "stream",
          "name": "stderr",
          "text": [
            "/usr/local/lib/python3.7/dist-packages/pandas/core/indexing.py:1773: SettingWithCopyWarning: \n",
            "A value is trying to be set on a copy of a slice from a DataFrame.\n",
            "Try using .loc[row_indexer,col_indexer] = value instead\n",
            "\n",
            "See the caveats in the documentation: https://pandas.pydata.org/pandas-docs/stable/user_guide/indexing.html#returning-a-view-versus-a-copy\n",
            "  self._setitem_single_column(ilocs[0], value, pi)\n"
          ]
        }
      ]
    },
    {
      "cell_type": "code",
      "source": [
        "df2['log_F_ords'].hist()\n"
      ],
      "metadata": {
        "colab": {
          "base_uri": "https://localhost:8080/",
          "height": 282
        },
        "id": "enLO-OY1tf7j",
        "outputId": "317243aa-acda-48d5-e433-3f702ca61633"
      },
      "id": "enLO-OY1tf7j",
      "execution_count": null,
      "outputs": [
        {
          "output_type": "execute_result",
          "data": {
            "text/plain": [
              "<matplotlib.axes._subplots.AxesSubplot at 0x7fc8b914be50>"
            ]
          },
          "metadata": {},
          "execution_count": 14
        },
        {
          "output_type": "display_data",
          "data": {
            "image/png": "[encoded data removed]",
            "text/plain": [
              "<Figure size 432x288 with 1 Axes>"
            ]
          },
          "metadata": {
            "needs_background": "light"
          }
        }
      ]
    },
    {
      "cell_type": "markdown",
      "metadata": {
        "id": "xXEDw5_Dr9kq"
      },
      "source": [
        "**Adding features**"
      ],
      "id": "xXEDw5_Dr9kq"
    },
    {
      "cell_type": "code",
      "execution_count": null,
      "metadata": {
        "id": "p9xyxdYHmgCi"
      },
      "outputs": [],
      "source": [
        "dependent_vars = ['warp_count', 'weft_count', 'epi', 'ppi', 'remark', 'F.Ord.(Yds)', 'Delivery', 'Shrin%']\n",
        "independent_var = ['Total loss%']"
      ],
      "id": "p9xyxdYHmgCi"
    },
    {
      "cell_type": "code",
      "execution_count": null,
      "metadata": {
        "id": "3F-BDOM3ouS9"
      },
      "outputs": [],
      "source": [
        "X = df[dependent_vars]\n",
        "#rename some feature's name to make it more pythonic\n",
        "X= X.rename(columns= {'Delivery': 'Allowance', 'remark':'beam_type', 'F.Ord.(Yds)':'Finish_order_yds', 'Shrin%': 'shrinkage' })\n",
        "y = df[independent_var]"
      ],
      "id": "3F-BDOM3ouS9"
    },
    {
      "cell_type": "code",
      "execution_count": null,
      "metadata": {
        "colab": {
          "base_uri": "https://localhost:8080/",
          "height": 206
        },
        "id": "QmQzMzu04Kum",
        "outputId": "d8ee6610-562d-4f86-afaf-afacd76b4b47"
      },
      "outputs": [
        {
          "data": {
            "text/html": [
              "\n",
              "  <div id=\"df-e2bf9da5-0bb1-49d3-99ff-efd949682c43\">\n",
              "    <div class=\"colab-df-container\">\n",
              "      <div>\n",
              "<style scoped>\n",
              "    .dataframe tbody tr th:only-of-type {\n",
              "        vertical-align: middle;\n",
              "    }\n",
              "\n",
              "    .dataframe tbody tr th {\n",
              "        vertical-align: top;\n",
              "    }\n",
              "\n",
              "    .dataframe thead th {\n",
              "        text-align: right;\n",
              "    }\n",
              "</style>\n",
              "<table border=\"1\" class=\"dataframe\">\n",
              "  <thead>\n",
              "    <tr style=\"text-align: right;\">\n",
              "      <th></th>\n",
              "      <th>warp_count</th>\n",
              "      <th>weft_count</th>\n",
              "      <th>epi</th>\n",
              "      <th>ppi</th>\n",
              "      <th>beam_type</th>\n",
              "      <th>Finish_order_yds</th>\n",
              "      <th>Allowance</th>\n",
              "      <th>shrinkage</th>\n",
              "    </tr>\n",
              "  </thead>\n",
              "  <tbody>\n",
              "    <tr>\n",
              "      <th>0</th>\n",
              "      <td>40</td>\n",
              "      <td>40</td>\n",
              "      <td>110</td>\n",
              "      <td>80</td>\n",
              "      <td>double beam</td>\n",
              "      <td>31300</td>\n",
              "      <td>6.000360</td>\n",
              "      <td>12.500542</td>\n",
              "    </tr>\n",
              "    <tr>\n",
              "      <th>1</th>\n",
              "      <td>40</td>\n",
              "      <td>40</td>\n",
              "      <td>110</td>\n",
              "      <td>90</td>\n",
              "      <td>normal</td>\n",
              "      <td>54600</td>\n",
              "      <td>6.998927</td>\n",
              "      <td>14.500689</td>\n",
              "    </tr>\n",
              "    <tr>\n",
              "      <th>2</th>\n",
              "      <td>40</td>\n",
              "      <td>40</td>\n",
              "      <td>110</td>\n",
              "      <td>90</td>\n",
              "      <td>normal</td>\n",
              "      <td>64715</td>\n",
              "      <td>6.999971</td>\n",
              "      <td>14.499654</td>\n",
              "    </tr>\n",
              "    <tr>\n",
              "      <th>3</th>\n",
              "      <td>40</td>\n",
              "      <td>40</td>\n",
              "      <td>110</td>\n",
              "      <td>90</td>\n",
              "      <td>normal</td>\n",
              "      <td>25500</td>\n",
              "      <td>6.998796</td>\n",
              "      <td>14.502171</td>\n",
              "    </tr>\n",
              "    <tr>\n",
              "      <th>4</th>\n",
              "      <td>50</td>\n",
              "      <td>50</td>\n",
              "      <td>140</td>\n",
              "      <td>70</td>\n",
              "      <td>normal</td>\n",
              "      <td>20700</td>\n",
              "      <td>8.000000</td>\n",
              "      <td>8.999734</td>\n",
              "    </tr>\n",
              "  </tbody>\n",
              "</table>\n",
              "</div>\n",
              "      <button class=\"colab-df-convert\" onclick=\"convertToInteractive('df-e2bf9da5-0bb1-49d3-99ff-efd949682c43')\"\n",
              "              title=\"Convert this dataframe to an interactive table.\"\n",
              "              style=\"display:none;\">\n",
              "        \n",
              "  <svg xmlns=\"http://www.w3.org/2000/svg\" height=\"24px\"viewBox=\"0 0 24 24\"\n",
              "       width=\"24px\">\n",
              "    <path d=\"M0 0h24v24H0V0z\" fill=\"none\"/>\n",
              "    <path d=\"M18.56 5.44l.94 2.06.94-2.06 2.06-.94-2.06-.94-.94-2.06-.94 2.06-2.06.94zm-11 1L8.5 8.5l.94-2.06 2.06-.94-2.06-.94L8.5 2.5l-.94 2.06-2.06.94zm10 10l.94 2.06.94-2.06 2.06-.94-2.06-.94-.94-2.06-.94 2.06-2.06.94z\"/><path d=\"M17.41 7.96l-1.37-1.37c-.4-.4-.92-.59-1.43-.59-.52 0-1.04.2-1.43.59L10.3 9.45l-7.72 7.72c-.78.78-.78 2.05 0 2.83L4 21.41c.39.39.9.59 1.41.59.51 0 1.02-.2 1.41-.59l7.78-7.78 2.81-2.81c.8-.78.8-2.07 0-2.86zM5.41 20L4 18.59l7.72-7.72 1.47 1.35L5.41 20z\"/>\n",
              "  </svg>\n",
              "      </button>\n",
              "      \n",
              "  <style>\n",
              "    .colab-df-container {\n",
              "      display:flex;\n",
              "      flex-wrap:wrap;\n",
              "      gap: 12px;\n",
              "    }\n",
              "\n",
              "    .colab-df-convert {\n",
              "      background-color: #E8F0FE;\n",
              "      border: none;\n",
              "      border-radius: 50%;\n",
              "      cursor: pointer;\n",
              "      display: none;\n",
              "      fill: #1967D2;\n",
              "      height: 32px;\n",
              "      padding: 0 0 0 0;\n",
              "      width: 32px;\n",
              "    }\n",
              "\n",
              "    .colab-df-convert:hover {\n",
              "      background-color: #E2EBFA;\n",
              "      box-shadow: 0px 1px 2px rgba(60, 64, 67, 0.3), 0px 1px 3px 1px rgba(60, 64, 67, 0.15);\n",
              "      fill: #174EA6;\n",
              "    }\n",
              "\n",
              "    [theme=dark] .colab-df-convert {\n",
              "      background-color: #3B4455;\n",
              "      fill: #D2E3FC;\n",
              "    }\n",
              "\n",
              "    [theme=dark] .colab-df-convert:hover {\n",
              "      background-color: #434B5C;\n",
              "      box-shadow: 0px 1px 3px 1px rgba(0, 0, 0, 0.15);\n",
              "      filter: drop-shadow(0px 1px 2px rgba(0, 0, 0, 0.3));\n",
              "      fill: #FFFFFF;\n",
              "    }\n",
              "  </style>\n",
              "\n",
              "      <script>\n",
              "        const buttonEl =\n",
              "          document.querySelector('#df-e2bf9da5-0bb1-49d3-99ff-efd949682c43 button.colab-df-convert');\n",
              "        buttonEl.style.display =\n",
              "          google.colab.kernel.accessAllowed ? 'block' : 'none';\n",
              "\n",
              "        async function convertToInteractive(key) {\n",
              "          const element = document.querySelector('#df-e2bf9da5-0bb1-49d3-99ff-efd949682c43');\n",
              "          const dataTable =\n",
              "            await google.colab.kernel.invokeFunction('convertToInteractive',\n",
              "                                                     [key], {});\n",
              "          if (!dataTable) return;\n",
              "\n",
              "          const docLinkHtml = 'Like what you see? Visit the ' +\n",
              "            '<a target=\"_blank\" href=https://colab.research.google.com/notebooks/data_table.ipynb>data table notebook</a>'\n",
              "            + ' to learn more about interactive tables.';\n",
              "          element.innerHTML = '';\n",
              "          dataTable['output_type'] = 'display_data';\n",
              "          await google.colab.output.renderOutput(dataTable, element);\n",
              "          const docLink = document.createElement('div');\n",
              "          docLink.innerHTML = docLinkHtml;\n",
              "          element.appendChild(docLink);\n",
              "        }\n",
              "      </script>\n",
              "    </div>\n",
              "  </div>\n",
              "  "
            ],
            "text/plain": [
              "   warp_count  weft_count  epi  ...  Finish_order_yds Allowance  shrinkage\n",
              "0          40          40  110  ...             31300  6.000360  12.500542\n",
              "1          40          40  110  ...             54600  6.998927  14.500689\n",
              "2          40          40  110  ...             64715  6.999971  14.499654\n",
              "3          40          40  110  ...             25500  6.998796  14.502171\n",
              "4          50          50  140  ...             20700  8.000000   8.999734\n",
              "\n",
              "[5 rows x 8 columns]"
            ]
          },
          "execution_count": 9,
          "metadata": {},
          "output_type": "execute_result"
        }
      ],
      "source": [
        "X.head()"
      ],
      "id": "QmQzMzu04Kum"
    },
    {
      "cell_type": "markdown",
      "metadata": {
        "id": "PsQnyhJYMolT"
      },
      "source": [
        "Now we will add 2 features required grey fabrics and required beam length. the formulla for this is ${grey\\space fabric \\space required} = \\frac {Req \\space Finish \\space Fabrics\\times 100}{100 - warp\\space allowance% ) }$"
      ],
      "id": "PsQnyhJYMolT"
    },
    {
      "cell_type": "code",
      "execution_count": null,
      "metadata": {
        "id": "aaa244dd"
      },
      "outputs": [],
      "source": [
        "X['Grey_Fabric_yds']= (X['Finish_order_yds']*100)/(100-X['Allowance'])\n",
        "X['Req_Beam_length_yds']= (X['Grey_Fabric_yds']*100)/(100-X['shrinkage'])"
      ],
      "id": "aaa244dd"
    },
    {
      "cell_type": "markdown",
      "metadata": {
        "id": "sjyX0Mp2Uz1S"
      },
      "source": [
        "**Train Test split**"
      ],
      "id": "sjyX0Mp2Uz1S"
    },
    {
      "cell_type": "code",
      "execution_count": null,
      "metadata": {
        "id": "lxWp60RZU26U"
      },
      "outputs": [],
      "source": [
        "from sklearn.model_selection import train_test_split"
      ],
      "id": "lxWp60RZU26U"
    },
    {
      "cell_type": "code",
      "execution_count": null,
      "metadata": {
        "id": "lsYC49uVU3KM"
      },
      "outputs": [],
      "source": [
        "X_train, X_test, y_train, y_test = train_test_split(X,y, test_size=0.2, random_state=0)"
      ],
      "id": "lsYC49uVU3KM"
    },
    {
      "cell_type": "code",
      "execution_count": null,
      "metadata": {
        "colab": {
          "base_uri": "https://localhost:8080/"
        },
        "id": "xBh05kdpUa8b",
        "outputId": "8f34065e-a112-4f99-bc08-6ffb169f692c"
      },
      "outputs": [
        {
          "name": "stdout",
          "output_type": "stream",
          "text": [
            "<class 'pandas.core.frame.DataFrame'>\n",
            "RangeIndex: 409 entries, 0 to 408\n",
            "Data columns (total 10 columns):\n",
            " #   Column               Non-Null Count  Dtype  \n",
            "---  ------               --------------  -----  \n",
            " 0   warp_count           409 non-null    int64  \n",
            " 1   weft_count           409 non-null    int64  \n",
            " 2   epi                  409 non-null    int64  \n",
            " 3   ppi                  409 non-null    int64  \n",
            " 4   beam_type            409 non-null    object \n",
            " 5   Finish_order_yds     409 non-null    int64  \n",
            " 6   Allowance            409 non-null    float64\n",
            " 7   shrinkage            409 non-null    float64\n",
            " 8   Grey_Fabric_yds      409 non-null    float64\n",
            " 9   Req_Beam_length_yds  409 non-null    float64\n",
            "dtypes: float64(4), int64(5), object(1)\n",
            "memory usage: 32.1+ KB\n"
          ]
        }
      ],
      "source": [
        "X.info()"
      ],
      "id": "xBh05kdpUa8b"
    },
    {
      "cell_type": "markdown",
      "metadata": {
        "id": "KIsN6rWddis_"
      },
      "source": [
        "**XGBoost**"
      ],
      "id": "KIsN6rWddis_"
    },
    {
      "cell_type": "code",
      "execution_count": null,
      "metadata": {
        "id": "2yye3otqdhYC"
      },
      "outputs": [],
      "source": [
        "from xgboost import XGBRegressor"
      ],
      "id": "2yye3otqdhYC"
    },
    {
      "cell_type": "code",
      "execution_count": null,
      "metadata": {
        "id": "7LGrsFIRd20A"
      },
      "outputs": [],
      "source": [
        "from sklearn.preprocessing import LabelEncoder"
      ],
      "id": "7LGrsFIRd20A"
    },
    {
      "cell_type": "code",
      "execution_count": null,
      "metadata": {
        "id": "2uSfMfMieATh"
      },
      "outputs": [],
      "source": [
        "le = LabelEncoder()\n",
        "X_train['beam_type'] = le.fit_transform(X_train['beam_type'])\n",
        "X_test['beam_type'] = le.transform(X_test['beam_type'])"
      ],
      "id": "2uSfMfMieATh"
    },
    {
      "cell_type": "code",
      "execution_count": null,
      "metadata": {
        "id": "m_u-9UasdhdX"
      },
      "outputs": [],
      "source": [
        "xgb = XGBRegressor()"
      ],
      "id": "m_u-9UasdhdX"
    },
    {
      "cell_type": "code",
      "execution_count": null,
      "metadata": {
        "colab": {
          "base_uri": "https://localhost:8080/"
        },
        "id": "wyQKpqxVdhgq",
        "outputId": "d644e478-d0aa-4aa8-c869-9a4a9e174329"
      },
      "outputs": [
        {
          "name": "stdout",
          "output_type": "stream",
          "text": [
            "[03:27:48] WARNING: /workspace/src/objective/regression_obj.cu:152: reg:linear is now deprecated in favor of reg:squarederror.\n"
          ]
        },
        {
          "data": {
            "text/plain": [
              "XGBRegressor()"
            ]
          },
          "execution_count": 16,
          "metadata": {},
          "output_type": "execute_result"
        }
      ],
      "source": [
        "xgb.fit(X_train, y_train)"
      ],
      "id": "wyQKpqxVdhgq"
    },
    {
      "cell_type": "code",
      "execution_count": null,
      "metadata": {
        "id": "ep8gX-dWdtkW"
      },
      "outputs": [],
      "source": [
        "y_pred = xgb.predict(X_test)"
      ],
      "id": "ep8gX-dWdtkW"
    },
    {
      "cell_type": "code",
      "execution_count": null,
      "metadata": {
        "id": "EFqK-6S_dtnd"
      },
      "outputs": [],
      "source": [
        "from sklearn.metrics import r2_score"
      ],
      "id": "EFqK-6S_dtnd"
    },
    {
      "cell_type": "code",
      "execution_count": null,
      "metadata": {
        "colab": {
          "base_uri": "https://localhost:8080/"
        },
        "id": "pnDgBuQkegDw",
        "outputId": "c36b11d9-c053-4296-bb53-e4feb57c07e4"
      },
      "outputs": [
        {
          "data": {
            "text/plain": [
              "0.3233272853090329"
            ]
          },
          "execution_count": 19,
          "metadata": {},
          "output_type": "execute_result"
        }
      ],
      "source": [
        "r2_score(y_pred, y_test)"
      ],
      "id": "pnDgBuQkegDw"
    },
    {
      "cell_type": "code",
      "execution_count": null,
      "metadata": {
        "id": "O_JFQjkKegGe"
      },
      "outputs": [],
      "source": [
        "error_df = pd.DataFrame()"
      ],
      "id": "O_JFQjkKegGe"
    },
    {
      "cell_type": "code",
      "execution_count": null,
      "metadata": {
        "id": "7X8AFRcqegJS"
      },
      "outputs": [],
      "source": [
        "error_df['actual'] = y_test\n",
        "error_df['prediction'] = y_pred\n",
        "error_df['error'] = error_df['actual']- error_df['prediction']"
      ],
      "id": "7X8AFRcqegJS"
    },
    {
      "cell_type": "code",
      "execution_count": null,
      "metadata": {
        "colab": {
          "base_uri": "https://localhost:8080/",
          "height": 300
        },
        "id": "H6zLF4gPfB9E",
        "outputId": "ea714fe9-145a-4f2e-ca88-d5cadc935765"
      },
      "outputs": [
        {
          "data": {
            "text/html": [
              "\n",
              "  <div id=\"df-729ca65d-40ca-42e0-89e5-defecfc1839d\">\n",
              "    <div class=\"colab-df-container\">\n",
              "      <div>\n",
              "<style scoped>\n",
              "    .dataframe tbody tr th:only-of-type {\n",
              "        vertical-align: middle;\n",
              "    }\n",
              "\n",
              "    .dataframe tbody tr th {\n",
              "        vertical-align: top;\n",
              "    }\n",
              "\n",
              "    .dataframe thead th {\n",
              "        text-align: right;\n",
              "    }\n",
              "</style>\n",
              "<table border=\"1\" class=\"dataframe\">\n",
              "  <thead>\n",
              "    <tr style=\"text-align: right;\">\n",
              "      <th></th>\n",
              "      <th>actual</th>\n",
              "      <th>prediction</th>\n",
              "      <th>error</th>\n",
              "    </tr>\n",
              "  </thead>\n",
              "  <tbody>\n",
              "    <tr>\n",
              "      <th>count</th>\n",
              "      <td>82.000000</td>\n",
              "      <td>82.000000</td>\n",
              "      <td>82.000000</td>\n",
              "    </tr>\n",
              "    <tr>\n",
              "      <th>mean</th>\n",
              "      <td>12.728766</td>\n",
              "      <td>12.839214</td>\n",
              "      <td>-0.110449</td>\n",
              "    </tr>\n",
              "    <tr>\n",
              "      <th>std</th>\n",
              "      <td>2.729427</td>\n",
              "      <td>2.322004</td>\n",
              "      <td>1.906847</td>\n",
              "    </tr>\n",
              "    <tr>\n",
              "      <th>min</th>\n",
              "      <td>6.403242</td>\n",
              "      <td>7.453018</td>\n",
              "      <td>-3.596711</td>\n",
              "    </tr>\n",
              "    <tr>\n",
              "      <th>25%</th>\n",
              "      <td>11.181758</td>\n",
              "      <td>10.932714</td>\n",
              "      <td>-1.192538</td>\n",
              "    </tr>\n",
              "    <tr>\n",
              "      <th>50%</th>\n",
              "      <td>13.460237</td>\n",
              "      <td>13.411165</td>\n",
              "      <td>-0.239931</td>\n",
              "    </tr>\n",
              "    <tr>\n",
              "      <th>75%</th>\n",
              "      <td>14.519367</td>\n",
              "      <td>14.658559</td>\n",
              "      <td>0.702304</td>\n",
              "    </tr>\n",
              "    <tr>\n",
              "      <th>max</th>\n",
              "      <td>18.465009</td>\n",
              "      <td>17.173367</td>\n",
              "      <td>6.864818</td>\n",
              "    </tr>\n",
              "  </tbody>\n",
              "</table>\n",
              "</div>\n",
              "      <button class=\"colab-df-convert\" onclick=\"convertToInteractive('df-729ca65d-40ca-42e0-89e5-defecfc1839d')\"\n",
              "              title=\"Convert this dataframe to an interactive table.\"\n",
              "              style=\"display:none;\">\n",
              "        \n",
              "  <svg xmlns=\"http://www.w3.org/2000/svg\" height=\"24px\"viewBox=\"0 0 24 24\"\n",
              "       width=\"24px\">\n",
              "    <path d=\"M0 0h24v24H0V0z\" fill=\"none\"/>\n",
              "    <path d=\"M18.56 5.44l.94 2.06.94-2.06 2.06-.94-2.06-.94-.94-2.06-.94 2.06-2.06.94zm-11 1L8.5 8.5l.94-2.06 2.06-.94-2.06-.94L8.5 2.5l-.94 2.06-2.06.94zm10 10l.94 2.06.94-2.06 2.06-.94-2.06-.94-.94-2.06-.94 2.06-2.06.94z\"/><path d=\"M17.41 7.96l-1.37-1.37c-.4-.4-.92-.59-1.43-.59-.52 0-1.04.2-1.43.59L10.3 9.45l-7.72 7.72c-.78.78-.78 2.05 0 2.83L4 21.41c.39.39.9.59 1.41.59.51 0 1.02-.2 1.41-.59l7.78-7.78 2.81-2.81c.8-.78.8-2.07 0-2.86zM5.41 20L4 18.59l7.72-7.72 1.47 1.35L5.41 20z\"/>\n",
              "  </svg>\n",
              "      </button>\n",
              "      \n",
              "  <style>\n",
              "    .colab-df-container {\n",
              "      display:flex;\n",
              "      flex-wrap:wrap;\n",
              "      gap: 12px;\n",
              "    }\n",
              "\n",
              "    .colab-df-convert {\n",
              "      background-color: #E8F0FE;\n",
              "      border: none;\n",
              "      border-radius: 50%;\n",
              "      cursor: pointer;\n",
              "      display: none;\n",
              "      fill: #1967D2;\n",
              "      height: 32px;\n",
              "      padding: 0 0 0 0;\n",
              "      width: 32px;\n",
              "    }\n",
              "\n",
              "    .colab-df-convert:hover {\n",
              "      background-color: #E2EBFA;\n",
              "      box-shadow: 0px 1px 2px rgba(60, 64, 67, 0.3), 0px 1px 3px 1px rgba(60, 64, 67, 0.15);\n",
              "      fill: #174EA6;\n",
              "    }\n",
              "\n",
              "    [theme=dark] .colab-df-convert {\n",
              "      background-color: #3B4455;\n",
              "      fill: #D2E3FC;\n",
              "    }\n",
              "\n",
              "    [theme=dark] .colab-df-convert:hover {\n",
              "      background-color: #434B5C;\n",
              "      box-shadow: 0px 1px 3px 1px rgba(0, 0, 0, 0.15);\n",
              "      filter: drop-shadow(0px 1px 2px rgba(0, 0, 0, 0.3));\n",
              "      fill: #FFFFFF;\n",
              "    }\n",
              "  </style>\n",
              "\n",
              "      <script>\n",
              "        const buttonEl =\n",
              "          document.querySelector('#df-729ca65d-40ca-42e0-89e5-defecfc1839d button.colab-df-convert');\n",
              "        buttonEl.style.display =\n",
              "          google.colab.kernel.accessAllowed ? 'block' : 'none';\n",
              "\n",
              "        async function convertToInteractive(key) {\n",
              "          const element = document.querySelector('#df-729ca65d-40ca-42e0-89e5-defecfc1839d');\n",
              "          const dataTable =\n",
              "            await google.colab.kernel.invokeFunction('convertToInteractive',\n",
              "                                                     [key], {});\n",
              "          if (!dataTable) return;\n",
              "\n",
              "          const docLinkHtml = 'Like what you see? Visit the ' +\n",
              "            '<a target=\"_blank\" href=https://colab.research.google.com/notebooks/data_table.ipynb>data table notebook</a>'\n",
              "            + ' to learn more about interactive tables.';\n",
              "          element.innerHTML = '';\n",
              "          dataTable['output_type'] = 'display_data';\n",
              "          await google.colab.output.renderOutput(dataTable, element);\n",
              "          const docLink = document.createElement('div');\n",
              "          docLink.innerHTML = docLinkHtml;\n",
              "          element.appendChild(docLink);\n",
              "        }\n",
              "      </script>\n",
              "    </div>\n",
              "  </div>\n",
              "  "
            ],
            "text/plain": [
              "          actual  prediction      error\n",
              "count  82.000000   82.000000  82.000000\n",
              "mean   12.728766   12.839214  -0.110449\n",
              "std     2.729427    2.322004   1.906847\n",
              "min     6.403242    7.453018  -3.596711\n",
              "25%    11.181758   10.932714  -1.192538\n",
              "50%    13.460237   13.411165  -0.239931\n",
              "75%    14.519367   14.658559   0.702304\n",
              "max    18.465009   17.173367   6.864818"
            ]
          },
          "execution_count": 25,
          "metadata": {},
          "output_type": "execute_result"
        }
      ],
      "source": [
        "error_df.describe()"
      ],
      "id": "H6zLF4gPfB9E"
    },
    {
      "cell_type": "code",
      "execution_count": null,
      "metadata": {
        "id": "yIUPKcVRfb6e"
      },
      "outputs": [],
      "source": [
        "import matplotlib.pyplot as plt\n"
      ],
      "id": "yIUPKcVRfb6e"
    },
    {
      "cell_type": "code",
      "execution_count": null,
      "metadata": {
        "id": "4aT_0KAXp8_G"
      },
      "outputs": [],
      "source": [
        "import seaborn as sns"
      ],
      "id": "4aT_0KAXp8_G"
    },
    {
      "cell_type": "code",
      "execution_count": null,
      "metadata": {
        "colab": {
          "base_uri": "https://localhost:8080/",
          "height": 299
        },
        "id": "Av4jQ21Mp_Rr",
        "outputId": "7411720d-f149-485f-fcfa-8c252c1a07a7"
      },
      "outputs": [
        {
          "data": {
            "text/plain": [
              "<matplotlib.axes._subplots.AxesSubplot at 0x7f4d49721790>"
            ]
          },
          "execution_count": 63,
          "metadata": {},
          "output_type": "execute_result"
        },
        {
          "data": {
            "image/png": "[encoded data removed]",
            "text/plain": [
              "<Figure size 432x288 with 1 Axes>"
            ]
          },
          "metadata": {},
          "output_type": "display_data"
        }
      ],
      "source": [
        "sns.kdeplot(df['Total loss%'])"
      ],
      "id": "Av4jQ21Mp_Rr"
    },
    {
      "cell_type": "code",
      "execution_count": null,
      "metadata": {
        "id": "xyk3jdL9p_UB"
      },
      "outputs": [],
      "source": [
        ""
      ],
      "id": "xyk3jdL9p_UB"
    },
    {
      "cell_type": "code",
      "execution_count": null,
      "metadata": {
        "id": "j86zVkKinJ4L"
      },
      "outputs": [],
      "source": [
        "max_limit = np.quantile(y, q=0.99)"
      ],
      "id": "j86zVkKinJ4L"
    },
    {
      "cell_type": "code",
      "execution_count": null,
      "metadata": {
        "id": "qL2OAUr1ncBG"
      },
      "outputs": [],
      "source": [
        "min_limit= np.quantile(y, q=0.01)"
      ],
      "id": "qL2OAUr1ncBG"
    },
    {
      "cell_type": "code",
      "execution_count": null,
      "metadata": {
        "colab": {
          "base_uri": "https://localhost:8080/"
        },
        "id": "W8lILNU8uXTZ",
        "outputId": "2f60548b-f250-4be8-e77d-8e7cf3556a4e"
      },
      "outputs": [
        {
          "data": {
            "text/plain": [
              "Int64Index([  0,   1,   2,   3,   4,   5,   6,   7,   8,   9,\n",
              "            ...\n",
              "            398, 399, 400, 401, 402, 404, 405, 406, 407, 408],\n",
              "           dtype='int64', length=399)"
            ]
          },
          "execution_count": 78,
          "metadata": {},
          "output_type": "execute_result"
        }
      ],
      "source": [
        "df_no_out['Total loss%'].index"
      ],
      "id": "W8lILNU8uXTZ"
    },
    {
      "cell_type": "code",
      "execution_count": null,
      "metadata": {
        "colab": {
          "base_uri": "https://localhost:8080/"
        },
        "id": "kSi3FTJWu2cf",
        "outputId": "38e3dc25-21b6-4e66-dcbb-3a04ef90f62f"
      },
      "outputs": [
        {
          "data": {
            "text/plain": [
              "RangeIndex(start=0, stop=409, step=1)"
            ]
          },
          "execution_count": 79,
          "metadata": {},
          "output_type": "execute_result"
        }
      ],
      "source": [
        "df.index"
      ],
      "id": "kSi3FTJWu2cf"
    },
    {
      "cell_type": "code",
      "execution_count": null,
      "metadata": {
        "colab": {
          "background_save": true
        },
        "id": "DxojRhe-wMuT"
      },
      "outputs": [],
      "source": [
        "from scipy.stats import "
      ],
      "id": "DxojRhe-wMuT"
    },
    {
      "cell_type": "code",
      "execution_count": null,
      "metadata": {
        "colab": {
          "base_uri": "https://localhost:8080/",
          "height": 224
        },
        "id": "4CzbEj1xrmr9",
        "outputId": "f3bd3356-e2c0-46a1-85c5-5e422c1e6049"
      },
      "outputs": [
        {
          "ename": "TypeError",
          "evalue": "ignored",
          "output_type": "error",
          "traceback": [
            "\u001b[0;31m---------------------------------------------------------------------------\u001b[0m",
            "\u001b[0;31mTypeError\u001b[0m                                 Traceback (most recent call last)",
            "\u001b[0;32m<ipython-input-83-2b7df9a237dc>\u001b[0m in \u001b[0;36m<module>\u001b[0;34m()\u001b[0m\n\u001b[0;32m----> 1\u001b[0;31m \u001b[0mdf\u001b[0m\u001b[0;34m.\u001b[0m\u001b[0mclip\u001b[0m\u001b[0;34m(\u001b[0m\u001b[0mmax_limit\u001b[0m\u001b[0;34m,\u001b[0m \u001b[0mmin_limit\u001b[0m\u001b[0;34m)\u001b[0m\u001b[0;34m\u001b[0m\u001b[0;34m\u001b[0m\u001b[0m\n\u001b[0m",
            "\u001b[0;32m/usr/local/lib/python3.7/dist-packages/pandas/util/_decorators.py\u001b[0m in \u001b[0;36mwrapper\u001b[0;34m(*args, **kwargs)\u001b[0m\n\u001b[1;32m    309\u001b[0m                     \u001b[0mstacklevel\u001b[0m\u001b[0;34m=\u001b[0m\u001b[0mstacklevel\u001b[0m\u001b[0;34m,\u001b[0m\u001b[0;34m\u001b[0m\u001b[0;34m\u001b[0m\u001b[0m\n\u001b[1;32m    310\u001b[0m                 )\n\u001b[0;32m--> 311\u001b[0;31m             \u001b[0;32mreturn\u001b[0m \u001b[0mfunc\u001b[0m\u001b[0;34m(\u001b[0m\u001b[0;34m*\u001b[0m\u001b[0margs\u001b[0m\u001b[0;34m,\u001b[0m \u001b[0;34m**\u001b[0m\u001b[0mkwargs\u001b[0m\u001b[0;34m)\u001b[0m\u001b[0;34m\u001b[0m\u001b[0;34m\u001b[0m\u001b[0m\n\u001b[0m\u001b[1;32m    312\u001b[0m \u001b[0;34m\u001b[0m\u001b[0m\n\u001b[1;32m    313\u001b[0m         \u001b[0;32mreturn\u001b[0m \u001b[0mwrapper\u001b[0m\u001b[0;34m\u001b[0m\u001b[0;34m\u001b[0m\u001b[0m\n",
            "\u001b[0;32m/usr/local/lib/python3.7/dist-packages/pandas/core/frame.py\u001b[0m in \u001b[0;36mclip\u001b[0;34m(self, lower, upper, axis, inplace, *args, **kwargs)\u001b[0m\n\u001b[1;32m  10696\u001b[0m         \u001b[0;34m**\u001b[0m\u001b[0mkwargs\u001b[0m\u001b[0;34m,\u001b[0m\u001b[0;34m\u001b[0m\u001b[0;34m\u001b[0m\u001b[0m\n\u001b[1;32m  10697\u001b[0m     ) -> DataFrame | None:\n\u001b[0;32m> 10698\u001b[0;31m         \u001b[0;32mreturn\u001b[0m \u001b[0msuper\u001b[0m\u001b[0;34m(\u001b[0m\u001b[0;34m)\u001b[0m\u001b[0;34m.\u001b[0m\u001b[0mclip\u001b[0m\u001b[0;34m(\u001b[0m\u001b[0mlower\u001b[0m\u001b[0;34m,\u001b[0m \u001b[0mupper\u001b[0m\u001b[0;34m,\u001b[0m \u001b[0maxis\u001b[0m\u001b[0;34m,\u001b[0m \u001b[0minplace\u001b[0m\u001b[0;34m,\u001b[0m \u001b[0;34m*\u001b[0m\u001b[0margs\u001b[0m\u001b[0;34m,\u001b[0m \u001b[0;34m**\u001b[0m\u001b[0mkwargs\u001b[0m\u001b[0;34m)\u001b[0m\u001b[0;34m\u001b[0m\u001b[0;34m\u001b[0m\u001b[0m\n\u001b[0m\u001b[1;32m  10699\u001b[0m \u001b[0;34m\u001b[0m\u001b[0m\n\u001b[1;32m  10700\u001b[0m     \u001b[0;34m@\u001b[0m\u001b[0mdeprecate_nonkeyword_arguments\u001b[0m\u001b[0;34m(\u001b[0m\u001b[0mversion\u001b[0m\u001b[0;34m=\u001b[0m\u001b[0;32mNone\u001b[0m\u001b[0;34m,\u001b[0m \u001b[0mallowed_args\u001b[0m\u001b[0;34m=\u001b[0m\u001b[0;34m[\u001b[0m\u001b[0;34m\"self\"\u001b[0m\u001b[0;34m,\u001b[0m \u001b[0;34m\"method\"\u001b[0m\u001b[0;34m]\u001b[0m\u001b[0;34m)\u001b[0m\u001b[0;34m\u001b[0m\u001b[0;34m\u001b[0m\u001b[0m\n",
            "\u001b[0;32m/usr/local/lib/python3.7/dist-packages/pandas/core/generic.py\u001b[0m in \u001b[0;36mclip\u001b[0;34m(self, lower, upper, axis, inplace, *args, **kwargs)\u001b[0m\n\u001b[1;32m   7428\u001b[0m             \u001b[0mupper\u001b[0m \u001b[0;32mis\u001b[0m \u001b[0;32mNone\u001b[0m \u001b[0;32mor\u001b[0m \u001b[0;34m(\u001b[0m\u001b[0mis_scalar\u001b[0m\u001b[0;34m(\u001b[0m\u001b[0mupper\u001b[0m\u001b[0;34m)\u001b[0m \u001b[0;32mand\u001b[0m \u001b[0mis_number\u001b[0m\u001b[0;34m(\u001b[0m\u001b[0mupper\u001b[0m\u001b[0;34m)\u001b[0m\u001b[0;34m)\u001b[0m\u001b[0;34m\u001b[0m\u001b[0;34m\u001b[0m\u001b[0m\n\u001b[1;32m   7429\u001b[0m         ):\n\u001b[0;32m-> 7430\u001b[0;31m             \u001b[0;32mreturn\u001b[0m \u001b[0mself\u001b[0m\u001b[0;34m.\u001b[0m\u001b[0m_clip_with_scalar\u001b[0m\u001b[0;34m(\u001b[0m\u001b[0mlower\u001b[0m\u001b[0;34m,\u001b[0m \u001b[0mupper\u001b[0m\u001b[0;34m,\u001b[0m \u001b[0minplace\u001b[0m\u001b[0;34m=\u001b[0m\u001b[0minplace\u001b[0m\u001b[0;34m)\u001b[0m\u001b[0;34m\u001b[0m\u001b[0;34m\u001b[0m\u001b[0m\n\u001b[0m\u001b[1;32m   7431\u001b[0m \u001b[0;34m\u001b[0m\u001b[0m\n\u001b[1;32m   7432\u001b[0m         \u001b[0mresult\u001b[0m \u001b[0;34m=\u001b[0m \u001b[0mself\u001b[0m\u001b[0;34m\u001b[0m\u001b[0;34m\u001b[0m\u001b[0m\n",
            "\u001b[0;32m/usr/local/lib/python3.7/dist-packages/pandas/core/generic.py\u001b[0m in \u001b[0;36m_clip_with_scalar\u001b[0;34m(self, lower, upper, inplace)\u001b[0m\n\u001b[1;32m   7237\u001b[0m         \u001b[0;32mwith\u001b[0m \u001b[0mnp\u001b[0m\u001b[0;34m.\u001b[0m\u001b[0merrstate\u001b[0m\u001b[0;34m(\u001b[0m\u001b[0mall\u001b[0m\u001b[0;34m=\u001b[0m\u001b[0;34m\"ignore\"\u001b[0m\u001b[0;34m)\u001b[0m\u001b[0;34m:\u001b[0m\u001b[0;34m\u001b[0m\u001b[0;34m\u001b[0m\u001b[0m\n\u001b[1;32m   7238\u001b[0m             \u001b[0;32mif\u001b[0m \u001b[0mupper\u001b[0m \u001b[0;32mis\u001b[0m \u001b[0;32mnot\u001b[0m \u001b[0;32mNone\u001b[0m\u001b[0;34m:\u001b[0m\u001b[0;34m\u001b[0m\u001b[0;34m\u001b[0m\u001b[0m\n\u001b[0;32m-> 7239\u001b[0;31m                 \u001b[0msubset\u001b[0m \u001b[0;34m=\u001b[0m \u001b[0mself\u001b[0m \u001b[0;34m<=\u001b[0m \u001b[0mupper\u001b[0m\u001b[0;34m\u001b[0m\u001b[0;34m\u001b[0m\u001b[0m\n\u001b[0m\u001b[1;32m   7240\u001b[0m                 \u001b[0mresult\u001b[0m \u001b[0;34m=\u001b[0m \u001b[0mresult\u001b[0m\u001b[0;34m.\u001b[0m\u001b[0mwhere\u001b[0m\u001b[0;34m(\u001b[0m\u001b[0msubset\u001b[0m\u001b[0;34m,\u001b[0m \u001b[0mupper\u001b[0m\u001b[0;34m,\u001b[0m \u001b[0maxis\u001b[0m\u001b[0;34m=\u001b[0m\u001b[0;32mNone\u001b[0m\u001b[0;34m,\u001b[0m \u001b[0minplace\u001b[0m\u001b[0;34m=\u001b[0m\u001b[0;32mFalse\u001b[0m\u001b[0;34m)\u001b[0m\u001b[0;34m\u001b[0m\u001b[0;34m\u001b[0m\u001b[0m\n\u001b[1;32m   7241\u001b[0m             \u001b[0;32mif\u001b[0m \u001b[0mlower\u001b[0m \u001b[0;32mis\u001b[0m \u001b[0;32mnot\u001b[0m \u001b[0;32mNone\u001b[0m\u001b[0;34m:\u001b[0m\u001b[0;34m\u001b[0m\u001b[0;34m\u001b[0m\u001b[0m\n",
            "\u001b[0;32m/usr/local/lib/python3.7/dist-packages/pandas/core/ops/common.py\u001b[0m in \u001b[0;36mnew_method\u001b[0;34m(self, other)\u001b[0m\n\u001b[1;32m     67\u001b[0m         \u001b[0mother\u001b[0m \u001b[0;34m=\u001b[0m \u001b[0mitem_from_zerodim\u001b[0m\u001b[0;34m(\u001b[0m\u001b[0mother\u001b[0m\u001b[0;34m)\u001b[0m\u001b[0;34m\u001b[0m\u001b[0;34m\u001b[0m\u001b[0m\n\u001b[1;32m     68\u001b[0m \u001b[0;34m\u001b[0m\u001b[0m\n\u001b[0;32m---> 69\u001b[0;31m         \u001b[0;32mreturn\u001b[0m \u001b[0mmethod\u001b[0m\u001b[0;34m(\u001b[0m\u001b[0mself\u001b[0m\u001b[0;34m,\u001b[0m \u001b[0mother\u001b[0m\u001b[0;34m)\u001b[0m\u001b[0;34m\u001b[0m\u001b[0;34m\u001b[0m\u001b[0m\n\u001b[0m\u001b[1;32m     70\u001b[0m \u001b[0;34m\u001b[0m\u001b[0m\n\u001b[1;32m     71\u001b[0m     \u001b[0;32mreturn\u001b[0m \u001b[0mnew_method\u001b[0m\u001b[0;34m\u001b[0m\u001b[0;34m\u001b[0m\u001b[0m\n",
            "\u001b[0;32m/usr/local/lib/python3.7/dist-packages/pandas/core/arraylike.py\u001b[0m in \u001b[0;36m__le__\u001b[0;34m(self, other)\u001b[0m\n\u001b[1;32m     42\u001b[0m     \u001b[0;34m@\u001b[0m\u001b[0munpack_zerodim_and_defer\u001b[0m\u001b[0;34m(\u001b[0m\u001b[0;34m\"__le__\"\u001b[0m\u001b[0;34m)\u001b[0m\u001b[0;34m\u001b[0m\u001b[0;34m\u001b[0m\u001b[0m\n\u001b[1;32m     43\u001b[0m     \u001b[0;32mdef\u001b[0m \u001b[0m__le__\u001b[0m\u001b[0;34m(\u001b[0m\u001b[0mself\u001b[0m\u001b[0;34m,\u001b[0m \u001b[0mother\u001b[0m\u001b[0;34m)\u001b[0m\u001b[0;34m:\u001b[0m\u001b[0;34m\u001b[0m\u001b[0;34m\u001b[0m\u001b[0m\n\u001b[0;32m---> 44\u001b[0;31m         \u001b[0;32mreturn\u001b[0m \u001b[0mself\u001b[0m\u001b[0;34m.\u001b[0m\u001b[0m_cmp_method\u001b[0m\u001b[0;34m(\u001b[0m\u001b[0mother\u001b[0m\u001b[0;34m,\u001b[0m \u001b[0moperator\u001b[0m\u001b[0;34m.\u001b[0m\u001b[0mle\u001b[0m\u001b[0;34m)\u001b[0m\u001b[0;34m\u001b[0m\u001b[0;34m\u001b[0m\u001b[0m\n\u001b[0m\u001b[1;32m     45\u001b[0m \u001b[0;34m\u001b[0m\u001b[0m\n\u001b[1;32m     46\u001b[0m     \u001b[0;34m@\u001b[0m\u001b[0munpack_zerodim_and_defer\u001b[0m\u001b[0;34m(\u001b[0m\u001b[0;34m\"__gt__\"\u001b[0m\u001b[0;34m)\u001b[0m\u001b[0;34m\u001b[0m\u001b[0;34m\u001b[0m\u001b[0m\n",
            "\u001b[0;32m/usr/local/lib/python3.7/dist-packages/pandas/core/frame.py\u001b[0m in \u001b[0;36m_cmp_method\u001b[0;34m(self, other, op)\u001b[0m\n\u001b[1;32m   6852\u001b[0m \u001b[0;34m\u001b[0m\u001b[0m\n\u001b[1;32m   6853\u001b[0m         \u001b[0;31m# See GH#4537 for discussion of scalar op behavior\u001b[0m\u001b[0;34m\u001b[0m\u001b[0;34m\u001b[0m\u001b[0;34m\u001b[0m\u001b[0m\n\u001b[0;32m-> 6854\u001b[0;31m         \u001b[0mnew_data\u001b[0m \u001b[0;34m=\u001b[0m \u001b[0mself\u001b[0m\u001b[0;34m.\u001b[0m\u001b[0m_dispatch_frame_op\u001b[0m\u001b[0;34m(\u001b[0m\u001b[0mother\u001b[0m\u001b[0;34m,\u001b[0m \u001b[0mop\u001b[0m\u001b[0;34m,\u001b[0m \u001b[0maxis\u001b[0m\u001b[0;34m=\u001b[0m\u001b[0maxis\u001b[0m\u001b[0;34m)\u001b[0m\u001b[0;34m\u001b[0m\u001b[0;34m\u001b[0m\u001b[0m\n\u001b[0m\u001b[1;32m   6855\u001b[0m         \u001b[0;32mreturn\u001b[0m \u001b[0mself\u001b[0m\u001b[0;34m.\u001b[0m\u001b[0m_construct_result\u001b[0m\u001b[0;34m(\u001b[0m\u001b[0mnew_data\u001b[0m\u001b[0;34m)\u001b[0m\u001b[0;34m\u001b[0m\u001b[0;34m\u001b[0m\u001b[0m\n\u001b[1;32m   6856\u001b[0m \u001b[0;34m\u001b[0m\u001b[0m\n",
            "\u001b[0;32m/usr/local/lib/python3.7/dist-packages/pandas/core/frame.py\u001b[0m in \u001b[0;36m_dispatch_frame_op\u001b[0;34m(self, right, func, axis)\u001b[0m\n\u001b[1;32m   6891\u001b[0m             \u001b[0;31m# i.e. scalar, faster than checking np.ndim(right) == 0\u001b[0m\u001b[0;34m\u001b[0m\u001b[0;34m\u001b[0m\u001b[0;34m\u001b[0m\u001b[0m\n\u001b[1;32m   6892\u001b[0m             \u001b[0;32mwith\u001b[0m \u001b[0mnp\u001b[0m\u001b[0;34m.\u001b[0m\u001b[0merrstate\u001b[0m\u001b[0;34m(\u001b[0m\u001b[0mall\u001b[0m\u001b[0;34m=\u001b[0m\u001b[0;34m\"ignore\"\u001b[0m\u001b[0;34m)\u001b[0m\u001b[0;34m:\u001b[0m\u001b[0;34m\u001b[0m\u001b[0;34m\u001b[0m\u001b[0m\n\u001b[0;32m-> 6893\u001b[0;31m                 \u001b[0mbm\u001b[0m \u001b[0;34m=\u001b[0m \u001b[0mself\u001b[0m\u001b[0;34m.\u001b[0m\u001b[0m_mgr\u001b[0m\u001b[0;34m.\u001b[0m\u001b[0mapply\u001b[0m\u001b[0;34m(\u001b[0m\u001b[0marray_op\u001b[0m\u001b[0;34m,\u001b[0m \u001b[0mright\u001b[0m\u001b[0;34m=\u001b[0m\u001b[0mright\u001b[0m\u001b[0;34m)\u001b[0m\u001b[0;34m\u001b[0m\u001b[0;34m\u001b[0m\u001b[0m\n\u001b[0m\u001b[1;32m   6894\u001b[0m             \u001b[0;32mreturn\u001b[0m \u001b[0mtype\u001b[0m\u001b[0;34m(\u001b[0m\u001b[0mself\u001b[0m\u001b[0;34m)\u001b[0m\u001b[0;34m(\u001b[0m\u001b[0mbm\u001b[0m\u001b[0;34m)\u001b[0m\u001b[0;34m\u001b[0m\u001b[0;34m\u001b[0m\u001b[0m\n\u001b[1;32m   6895\u001b[0m \u001b[0;34m\u001b[0m\u001b[0m\n",
            "\u001b[0;32m/usr/local/lib/python3.7/dist-packages/pandas/core/internals/managers.py\u001b[0m in \u001b[0;36mapply\u001b[0;34m(self, f, align_keys, ignore_failures, **kwargs)\u001b[0m\n\u001b[1;32m    323\u001b[0m             \u001b[0;32mtry\u001b[0m\u001b[0;34m:\u001b[0m\u001b[0;34m\u001b[0m\u001b[0;34m\u001b[0m\u001b[0m\n\u001b[1;32m    324\u001b[0m                 \u001b[0;32mif\u001b[0m \u001b[0mcallable\u001b[0m\u001b[0;34m(\u001b[0m\u001b[0mf\u001b[0m\u001b[0;34m)\u001b[0m\u001b[0;34m:\u001b[0m\u001b[0;34m\u001b[0m\u001b[0;34m\u001b[0m\u001b[0m\n\u001b[0;32m--> 325\u001b[0;31m                     \u001b[0mapplied\u001b[0m \u001b[0;34m=\u001b[0m \u001b[0mb\u001b[0m\u001b[0;34m.\u001b[0m\u001b[0mapply\u001b[0m\u001b[0;34m(\u001b[0m\u001b[0mf\u001b[0m\u001b[0;34m,\u001b[0m \u001b[0;34m**\u001b[0m\u001b[0mkwargs\u001b[0m\u001b[0;34m)\u001b[0m\u001b[0;34m\u001b[0m\u001b[0;34m\u001b[0m\u001b[0m\n\u001b[0m\u001b[1;32m    326\u001b[0m                 \u001b[0;32melse\u001b[0m\u001b[0;34m:\u001b[0m\u001b[0;34m\u001b[0m\u001b[0;34m\u001b[0m\u001b[0m\n\u001b[1;32m    327\u001b[0m                     \u001b[0mapplied\u001b[0m \u001b[0;34m=\u001b[0m \u001b[0mgetattr\u001b[0m\u001b[0;34m(\u001b[0m\u001b[0mb\u001b[0m\u001b[0;34m,\u001b[0m \u001b[0mf\u001b[0m\u001b[0;34m)\u001b[0m\u001b[0;34m(\u001b[0m\u001b[0;34m**\u001b[0m\u001b[0mkwargs\u001b[0m\u001b[0;34m)\u001b[0m\u001b[0;34m\u001b[0m\u001b[0;34m\u001b[0m\u001b[0m\n",
            "\u001b[0;32m/usr/local/lib/python3.7/dist-packages/pandas/core/internals/blocks.py\u001b[0m in \u001b[0;36mapply\u001b[0;34m(self, func, **kwargs)\u001b[0m\n\u001b[1;32m    379\u001b[0m         \"\"\"\n\u001b[1;32m    380\u001b[0m         \u001b[0;32mwith\u001b[0m \u001b[0mnp\u001b[0m\u001b[0;34m.\u001b[0m\u001b[0merrstate\u001b[0m\u001b[0;34m(\u001b[0m\u001b[0mall\u001b[0m\u001b[0;34m=\u001b[0m\u001b[0;34m\"ignore\"\u001b[0m\u001b[0;34m)\u001b[0m\u001b[0;34m:\u001b[0m\u001b[0;34m\u001b[0m\u001b[0;34m\u001b[0m\u001b[0m\n\u001b[0;32m--> 381\u001b[0;31m             \u001b[0mresult\u001b[0m \u001b[0;34m=\u001b[0m \u001b[0mfunc\u001b[0m\u001b[0;34m(\u001b[0m\u001b[0mself\u001b[0m\u001b[0;34m.\u001b[0m\u001b[0mvalues\u001b[0m\u001b[0;34m,\u001b[0m \u001b[0;34m**\u001b[0m\u001b[0mkwargs\u001b[0m\u001b[0;34m)\u001b[0m\u001b[0;34m\u001b[0m\u001b[0;34m\u001b[0m\u001b[0m\n\u001b[0m\u001b[1;32m    382\u001b[0m \u001b[0;34m\u001b[0m\u001b[0m\n\u001b[1;32m    383\u001b[0m         \u001b[0;32mreturn\u001b[0m \u001b[0mself\u001b[0m\u001b[0;34m.\u001b[0m\u001b[0m_split_op_result\u001b[0m\u001b[0;34m(\u001b[0m\u001b[0mresult\u001b[0m\u001b[0;34m)\u001b[0m\u001b[0;34m\u001b[0m\u001b[0;34m\u001b[0m\u001b[0m\n",
            "\u001b[0;32m/usr/local/lib/python3.7/dist-packages/pandas/core/ops/array_ops.py\u001b[0m in \u001b[0;36mcomparison_op\u001b[0;34m(left, right, op)\u001b[0m\n\u001b[1;32m    282\u001b[0m \u001b[0;34m\u001b[0m\u001b[0m\n\u001b[1;32m    283\u001b[0m     \u001b[0;32melif\u001b[0m \u001b[0mis_object_dtype\u001b[0m\u001b[0;34m(\u001b[0m\u001b[0mlvalues\u001b[0m\u001b[0;34m.\u001b[0m\u001b[0mdtype\u001b[0m\u001b[0;34m)\u001b[0m \u001b[0;32mor\u001b[0m \u001b[0misinstance\u001b[0m\u001b[0;34m(\u001b[0m\u001b[0mrvalues\u001b[0m\u001b[0;34m,\u001b[0m \u001b[0mstr\u001b[0m\u001b[0;34m)\u001b[0m\u001b[0;34m:\u001b[0m\u001b[0;34m\u001b[0m\u001b[0;34m\u001b[0m\u001b[0m\n\u001b[0;32m--> 284\u001b[0;31m         \u001b[0mres_values\u001b[0m \u001b[0;34m=\u001b[0m \u001b[0mcomp_method_OBJECT_ARRAY\u001b[0m\u001b[0;34m(\u001b[0m\u001b[0mop\u001b[0m\u001b[0;34m,\u001b[0m \u001b[0mlvalues\u001b[0m\u001b[0;34m,\u001b[0m \u001b[0mrvalues\u001b[0m\u001b[0;34m)\u001b[0m\u001b[0;34m\u001b[0m\u001b[0;34m\u001b[0m\u001b[0m\n\u001b[0m\u001b[1;32m    285\u001b[0m \u001b[0;34m\u001b[0m\u001b[0m\n\u001b[1;32m    286\u001b[0m     \u001b[0;32melse\u001b[0m\u001b[0;34m:\u001b[0m\u001b[0;34m\u001b[0m\u001b[0;34m\u001b[0m\u001b[0m\n",
            "\u001b[0;32m/usr/local/lib/python3.7/dist-packages/pandas/core/ops/array_ops.py\u001b[0m in \u001b[0;36mcomp_method_OBJECT_ARRAY\u001b[0;34m(op, x, y)\u001b[0m\n\u001b[1;32m     71\u001b[0m         \u001b[0mresult\u001b[0m \u001b[0;34m=\u001b[0m \u001b[0mlibops\u001b[0m\u001b[0;34m.\u001b[0m\u001b[0mvec_compare\u001b[0m\u001b[0;34m(\u001b[0m\u001b[0mx\u001b[0m\u001b[0;34m.\u001b[0m\u001b[0mravel\u001b[0m\u001b[0;34m(\u001b[0m\u001b[0;34m)\u001b[0m\u001b[0;34m,\u001b[0m \u001b[0my\u001b[0m\u001b[0;34m.\u001b[0m\u001b[0mravel\u001b[0m\u001b[0;34m(\u001b[0m\u001b[0;34m)\u001b[0m\u001b[0;34m,\u001b[0m \u001b[0mop\u001b[0m\u001b[0;34m)\u001b[0m\u001b[0;34m\u001b[0m\u001b[0;34m\u001b[0m\u001b[0m\n\u001b[1;32m     72\u001b[0m     \u001b[0;32melse\u001b[0m\u001b[0;34m:\u001b[0m\u001b[0;34m\u001b[0m\u001b[0;34m\u001b[0m\u001b[0m\n\u001b[0;32m---> 73\u001b[0;31m         \u001b[0mresult\u001b[0m \u001b[0;34m=\u001b[0m \u001b[0mlibops\u001b[0m\u001b[0;34m.\u001b[0m\u001b[0mscalar_compare\u001b[0m\u001b[0;34m(\u001b[0m\u001b[0mx\u001b[0m\u001b[0;34m.\u001b[0m\u001b[0mravel\u001b[0m\u001b[0;34m(\u001b[0m\u001b[0;34m)\u001b[0m\u001b[0;34m,\u001b[0m \u001b[0my\u001b[0m\u001b[0;34m,\u001b[0m \u001b[0mop\u001b[0m\u001b[0;34m)\u001b[0m\u001b[0;34m\u001b[0m\u001b[0;34m\u001b[0m\u001b[0m\n\u001b[0m\u001b[1;32m     74\u001b[0m     \u001b[0;32mreturn\u001b[0m \u001b[0mresult\u001b[0m\u001b[0;34m.\u001b[0m\u001b[0mreshape\u001b[0m\u001b[0;34m(\u001b[0m\u001b[0mx\u001b[0m\u001b[0;34m.\u001b[0m\u001b[0mshape\u001b[0m\u001b[0;34m)\u001b[0m\u001b[0;34m\u001b[0m\u001b[0;34m\u001b[0m\u001b[0m\n\u001b[1;32m     75\u001b[0m \u001b[0;34m\u001b[0m\u001b[0m\n",
            "\u001b[0;32m/usr/local/lib/python3.7/dist-packages/pandas/_libs/ops.pyx\u001b[0m in \u001b[0;36mpandas._libs.ops.scalar_compare\u001b[0;34m()\u001b[0m\n",
            "\u001b[0;31mTypeError\u001b[0m: '>=' not supported between instances of 'numpy.ndarray' and 'str'"
          ]
        }
      ],
      "source": [
        "df.clip(max_limit, min_limit)"
      ],
      "id": "4CzbEj1xrmr9"
    },
    {
      "cell_type": "code",
      "execution_count": null,
      "metadata": {
        "colab": {
          "base_uri": "https://localhost:8080/"
        },
        "id": "x8M7VMQyuhTk",
        "outputId": "fa63b070-8763-4597-f7d4-c4d050434809"
      },
      "outputs": [
        {
          "data": {
            "text/plain": [
              "(409,)"
            ]
          },
          "execution_count": 80,
          "metadata": {},
          "output_type": "execute_result"
        }
      ],
      "source": [
        "y_no_out.shape"
      ],
      "id": "x8M7VMQyuhTk"
    },
    {
      "cell_type": "code",
      "execution_count": null,
      "metadata": {
        "colab": {
          "base_uri": "https://localhost:8080/"
        },
        "id": "AkmWONxAtgA7",
        "outputId": "22280d31-060d-4961-fb9f-79a27a9d13c6"
      },
      "outputs": [
        {
          "data": {
            "text/plain": [
              "(409, 18)"
            ]
          },
          "execution_count": 81,
          "metadata": {},
          "output_type": "execute_result"
        }
      ],
      "source": [
        "df.shape"
      ],
      "id": "AkmWONxAtgA7"
    },
    {
      "cell_type": "code",
      "execution_count": null,
      "metadata": {
        "id": "oEbGMNwwtgDu"
      },
      "outputs": [],
      "source": [
        ""
      ],
      "id": "oEbGMNwwtgDu"
    },
    {
      "cell_type": "code",
      "execution_count": null,
      "metadata": {
        "id": "YKK8cdLVrmuq"
      },
      "outputs": [],
      "source": [
        ""
      ],
      "id": "YKK8cdLVrmuq"
    },
    {
      "cell_type": "code",
      "execution_count": null,
      "metadata": {
        "id": "zj5icgJuoP7c"
      },
      "outputs": [],
      "source": [
        "df_no_max = df[df['Total loss%']<max_limit]"
      ],
      "id": "zj5icgJuoP7c"
    },
    {
      "cell_type": "code",
      "execution_count": null,
      "metadata": {
        "colab": {
          "base_uri": "https://localhost:8080/",
          "height": 296
        },
        "id": "EEDtIctAqOlq",
        "outputId": "a16ebb9c-feb9-4273-a09f-96c0b53dd26b"
      },
      "outputs": [
        {
          "data": {
            "text/plain": [
              "<matplotlib.axes._subplots.AxesSubplot at 0x7f4d496aef10>"
            ]
          },
          "execution_count": 62,
          "metadata": {},
          "output_type": "execute_result"
        },
        {
          "data": {
            "image/png": "[encoded data removed]",
            "text/plain": [
              "<Figure size 432x288 with 1 Axes>"
            ]
          },
          "metadata": {},
          "output_type": "display_data"
        }
      ],
      "source": [
        "sns.kdeplot(df_no_max['Total loss%'])"
      ],
      "id": "EEDtIctAqOlq"
    },
    {
      "cell_type": "code",
      "execution_count": null,
      "metadata": {
        "id": "Gv5haBIpqfi8"
      },
      "outputs": [],
      "source": [
        "df_no_out = df_no_max[df_no_max['Total loss%']>min_limit]"
      ],
      "id": "Gv5haBIpqfi8"
    },
    {
      "cell_type": "code",
      "execution_count": null,
      "metadata": {
        "colab": {
          "base_uri": "https://localhost:8080/",
          "height": 296
        },
        "id": "b3Auyz5BqprI",
        "outputId": "88b105ed-f15d-45f4-c1ea-0afcf097d467"
      },
      "outputs": [
        {
          "data": {
            "text/plain": [
              "<matplotlib.axes._subplots.AxesSubplot at 0x7f4d4999aa10>"
            ]
          },
          "execution_count": 67,
          "metadata": {},
          "output_type": "execute_result"
        },
        {
          "data": {
            "image/png": "[encoded data removed]",
            "text/plain": [
              "<Figure size 432x288 with 1 Axes>"
            ]
          },
          "metadata": {},
          "output_type": "display_data"
        }
      ],
      "source": [
        "sns.kdeplot(df_no_out['Total loss%'])"
      ],
      "id": "b3Auyz5BqprI"
    },
    {
      "cell_type": "code",
      "execution_count": null,
      "metadata": {
        "id": "XJbvDVQUqqCQ"
      },
      "outputs": [],
      "source": [
        ""
      ],
      "id": "XJbvDVQUqqCQ"
    },
    {
      "cell_type": "code",
      "execution_count": null,
      "metadata": {
        "id": "ffZlHPF8nsXb"
      },
      "outputs": [],
      "source": [
        "# y.head(2)"
      ],
      "id": "ffZlHPF8nsXb"
    },
    {
      "cell_type": "code",
      "execution_count": null,
      "metadata": {
        "colab": {
          "base_uri": "https://localhost:8080/",
          "height": 424
        },
        "id": "SurEFE1WnWmt",
        "outputId": "ce721d63-5cfa-4039-dec5-0ac296db2296"
      },
      "outputs": [
        {
          "data": {
            "text/html": [
              "\n",
              "  <div id=\"df-712d4399-5825-4279-bdb5-32b3b3a37556\">\n",
              "    <div class=\"colab-df-container\">\n",
              "      <div>\n",
              "<style scoped>\n",
              "    .dataframe tbody tr th:only-of-type {\n",
              "        vertical-align: middle;\n",
              "    }\n",
              "\n",
              "    .dataframe tbody tr th {\n",
              "        vertical-align: top;\n",
              "    }\n",
              "\n",
              "    .dataframe thead th {\n",
              "        text-align: right;\n",
              "    }\n",
              "</style>\n",
              "<table border=\"1\" class=\"dataframe\">\n",
              "  <thead>\n",
              "    <tr style=\"text-align: right;\">\n",
              "      <th></th>\n",
              "      <th>Total loss%</th>\n",
              "    </tr>\n",
              "  </thead>\n",
              "  <tbody>\n",
              "    <tr>\n",
              "      <th>36</th>\n",
              "      <td>-8.469815</td>\n",
              "    </tr>\n",
              "    <tr>\n",
              "      <th>66</th>\n",
              "      <td>-6.134073</td>\n",
              "    </tr>\n",
              "    <tr>\n",
              "      <th>51</th>\n",
              "      <td>5.027369</td>\n",
              "    </tr>\n",
              "    <tr>\n",
              "      <th>189</th>\n",
              "      <td>5.669349</td>\n",
              "    </tr>\n",
              "    <tr>\n",
              "      <th>381</th>\n",
              "      <td>5.882995</td>\n",
              "    </tr>\n",
              "    <tr>\n",
              "      <th>...</th>\n",
              "      <td>...</td>\n",
              "    </tr>\n",
              "    <tr>\n",
              "      <th>341</th>\n",
              "      <td>19.787319</td>\n",
              "    </tr>\n",
              "    <tr>\n",
              "      <th>335</th>\n",
              "      <td>20.553112</td>\n",
              "    </tr>\n",
              "    <tr>\n",
              "      <th>403</th>\n",
              "      <td>22.928206</td>\n",
              "    </tr>\n",
              "    <tr>\n",
              "      <th>87</th>\n",
              "      <td>25.793862</td>\n",
              "    </tr>\n",
              "    <tr>\n",
              "      <th>184</th>\n",
              "      <td>65.477430</td>\n",
              "    </tr>\n",
              "  </tbody>\n",
              "</table>\n",
              "<p>409 rows × 1 columns</p>\n",
              "</div>\n",
              "      <button class=\"colab-df-convert\" onclick=\"convertToInteractive('df-712d4399-5825-4279-bdb5-32b3b3a37556')\"\n",
              "              title=\"Convert this dataframe to an interactive table.\"\n",
              "              style=\"display:none;\">\n",
              "        \n",
              "  <svg xmlns=\"http://www.w3.org/2000/svg\" height=\"24px\"viewBox=\"0 0 24 24\"\n",
              "       width=\"24px\">\n",
              "    <path d=\"M0 0h24v24H0V0z\" fill=\"none\"/>\n",
              "    <path d=\"M18.56 5.44l.94 2.06.94-2.06 2.06-.94-2.06-.94-.94-2.06-.94 2.06-2.06.94zm-11 1L8.5 8.5l.94-2.06 2.06-.94-2.06-.94L8.5 2.5l-.94 2.06-2.06.94zm10 10l.94 2.06.94-2.06 2.06-.94-2.06-.94-.94-2.06-.94 2.06-2.06.94z\"/><path d=\"M17.41 7.96l-1.37-1.37c-.4-.4-.92-.59-1.43-.59-.52 0-1.04.2-1.43.59L10.3 9.45l-7.72 7.72c-.78.78-.78 2.05 0 2.83L4 21.41c.39.39.9.59 1.41.59.51 0 1.02-.2 1.41-.59l7.78-7.78 2.81-2.81c.8-.78.8-2.07 0-2.86zM5.41 20L4 18.59l7.72-7.72 1.47 1.35L5.41 20z\"/>\n",
              "  </svg>\n",
              "      </button>\n",
              "      \n",
              "  <style>\n",
              "    .colab-df-container {\n",
              "      display:flex;\n",
              "      flex-wrap:wrap;\n",
              "      gap: 12px;\n",
              "    }\n",
              "\n",
              "    .colab-df-convert {\n",
              "      background-color: #E8F0FE;\n",
              "      border: none;\n",
              "      border-radius: 50%;\n",
              "      cursor: pointer;\n",
              "      display: none;\n",
              "      fill: #1967D2;\n",
              "      height: 32px;\n",
              "      padding: 0 0 0 0;\n",
              "      width: 32px;\n",
              "    }\n",
              "\n",
              "    .colab-df-convert:hover {\n",
              "      background-color: #E2EBFA;\n",
              "      box-shadow: 0px 1px 2px rgba(60, 64, 67, 0.3), 0px 1px 3px 1px rgba(60, 64, 67, 0.15);\n",
              "      fill: #174EA6;\n",
              "    }\n",
              "\n",
              "    [theme=dark] .colab-df-convert {\n",
              "      background-color: #3B4455;\n",
              "      fill: #D2E3FC;\n",
              "    }\n",
              "\n",
              "    [theme=dark] .colab-df-convert:hover {\n",
              "      background-color: #434B5C;\n",
              "      box-shadow: 0px 1px 3px 1px rgba(0, 0, 0, 0.15);\n",
              "      filter: drop-shadow(0px 1px 2px rgba(0, 0, 0, 0.3));\n",
              "      fill: #FFFFFF;\n",
              "    }\n",
              "  </style>\n",
              "\n",
              "      <script>\n",
              "        const buttonEl =\n",
              "          document.querySelector('#df-712d4399-5825-4279-bdb5-32b3b3a37556 button.colab-df-convert');\n",
              "        buttonEl.style.display =\n",
              "          google.colab.kernel.accessAllowed ? 'block' : 'none';\n",
              "\n",
              "        async function convertToInteractive(key) {\n",
              "          const element = document.querySelector('#df-712d4399-5825-4279-bdb5-32b3b3a37556');\n",
              "          const dataTable =\n",
              "            await google.colab.kernel.invokeFunction('convertToInteractive',\n",
              "                                                     [key], {});\n",
              "          if (!dataTable) return;\n",
              "\n",
              "          const docLinkHtml = 'Like what you see? Visit the ' +\n",
              "            '<a target=\"_blank\" href=https://colab.research.google.com/notebooks/data_table.ipynb>data table notebook</a>'\n",
              "            + ' to learn more about interactive tables.';\n",
              "          element.innerHTML = '';\n",
              "          dataTable['output_type'] = 'display_data';\n",
              "          await google.colab.output.renderOutput(dataTable, element);\n",
              "          const docLink = document.createElement('div');\n",
              "          docLink.innerHTML = docLinkHtml;\n",
              "          element.appendChild(docLink);\n",
              "        }\n",
              "      </script>\n",
              "    </div>\n",
              "  </div>\n",
              "  "
            ],
            "text/plain": [
              "     Total loss%\n",
              "36     -8.469815\n",
              "66     -6.134073\n",
              "51      5.027369\n",
              "189     5.669349\n",
              "381     5.882995\n",
              "..           ...\n",
              "341    19.787319\n",
              "335    20.553112\n",
              "403    22.928206\n",
              "87     25.793862\n",
              "184    65.477430\n",
              "\n",
              "[409 rows x 1 columns]"
            ]
          },
          "execution_count": 53,
          "metadata": {},
          "output_type": "execute_result"
        }
      ],
      "source": [
        "y.sort_values(by=['Total loss%'])"
      ],
      "id": "SurEFE1WnWmt"
    },
    {
      "cell_type": "code",
      "execution_count": null,
      "metadata": {
        "colab": {
          "base_uri": "https://localhost:8080/",
          "height": 282
        },
        "id": "I3mRC4LPmZc3",
        "outputId": "169ac6a9-c8c6-402a-e5b1-6a8a6fc625bd"
      },
      "outputs": [
        {
          "data": {
            "text/plain": [
              "<matplotlib.collections.PathCollection at 0x7f4d495bf790>"
            ]
          },
          "execution_count": 39,
          "metadata": {},
          "output_type": "execute_result"
        },
        {
          "data": {
            "image/png": "[encoded data removed]",
            "text/plain": [
              "<Figure size 432x288 with 1 Axes>"
            ]
          },
          "metadata": {},
          "output_type": "display_data"
        }
      ],
      "source": [
        "plt.scatter(x=range(0,df.shape[0]),y=y )\n",
        "plt.scatter(x=range(0,y_pred.shape[0]),y=y_pred)"
      ],
      "id": "I3mRC4LPmZc3"
    },
    {
      "cell_type": "code",
      "execution_count": null,
      "metadata": {
        "colab": {
          "base_uri": "https://localhost:8080/",
          "height": 282
        },
        "id": "MtC4pOChfcvv",
        "outputId": "d1c63f4c-daf3-446d-b877-c93a792b0421"
      },
      "outputs": [
        {
          "data": {
            "text/plain": [
              "<matplotlib.collections.PathCollection at 0x7f4d498b87d0>"
            ]
          },
          "execution_count": 33,
          "metadata": {},
          "output_type": "execute_result"
        },
        {
          "data": {
            "image/png": "[encoded data removed]",
            "text/plain": [
              "<Figure size 432x288 with 1 Axes>"
            ]
          },
          "metadata": {},
          "output_type": "display_data"
        }
      ],
      "source": [
        "plt.scatter(x= range(0,error_df.shape[0]) ,y= error_df['actual'])\n",
        "plt.scatter(x=range(0,error_df.shape[0]), y= error_df['prediction'])"
      ],
      "id": "MtC4pOChfcvv"
    },
    {
      "cell_type": "markdown",
      "metadata": {
        "id": "DKBkwi3zXwt8"
      },
      "source": [
        "# For ANN one hot encoding is better. Hence, we will do one hot encoding for converting object to numerical values"
      ],
      "id": "DKBkwi3zXwt8"
    },
    {
      "cell_type": "markdown",
      "metadata": {
        "id": "bd0_toA9UrFW"
      },
      "source": [
        "only the beam_type is object here"
      ],
      "id": "bd0_toA9UrFW"
    },
    {
      "cell_type": "code",
      "execution_count": null,
      "metadata": {
        "id": "TTcgvX1jUPAn"
      },
      "outputs": [],
      "source": [
        "from sklearn.preprocessing import OneHotEncoder"
      ],
      "id": "TTcgvX1jUPAn"
    },
    {
      "cell_type": "code",
      "execution_count": null,
      "metadata": {
        "id": "OWcRCUnfUTx4"
      },
      "outputs": [],
      "source": [
        "ohe = OneHotEncoder(handle_unknown ='ignore')"
      ],
      "id": "OWcRCUnfUTx4"
    },
    {
      "cell_type": "code",
      "execution_count": null,
      "metadata": {
        "id": "6Bwf1hriOEXv"
      },
      "outputs": [],
      "source": [
        "ohe_beam_type = ohe.fit_transform(X_train[['beam_type']])\n",
        "ohe_beam_type_test = ohe.transform(X_test[['beam_type']])\n",
        "ohe_beam_type_train = pd.DataFrame(ohe_beam_type.toarray(), columns=['double_yran', 'double_beam', 'normal'] )\n",
        "ohe_beam_type_test = pd.DataFrame(ohe_beam_type_test.toarray(), columns=['double_yran', 'double_beam', 'normal'] ) \n",
        "ohe_beam_type_train.index = X_train.index\n",
        "ohe_beam_type_test.index = X_test.index\n",
        "\n",
        "X_train= X_train.drop('beam_type', axis=1)\n",
        "X_test = X_test.drop('beam_type', axis=1)\n",
        "\n",
        "X_train = pd.concat([X_train, ohe_beam_type_train], axis=1)\n",
        "X_test = pd.concat([X_test, ohe_beam_type_test], axis=1)"
      ],
      "id": "6Bwf1hriOEXv"
    },
    {
      "cell_type": "code",
      "execution_count": null,
      "metadata": {
        "id": "PoYMIlP3JEaR"
      },
      "outputs": [],
      "source": [
        "# X_train = ohe_transfrom_train(X_train)\n",
        "# X_test = ohe_transfrom_test(X_test)"
      ],
      "id": "PoYMIlP3JEaR"
    },
    {
      "cell_type": "code",
      "execution_count": null,
      "metadata": {
        "colab": {
          "base_uri": "https://localhost:8080/",
          "height": 250
        },
        "id": "4zhXq2gNJO6P",
        "outputId": "69a53903-9a2d-4a05-9ed1-b79119763601"
      },
      "outputs": [
        {
          "data": {
            "text/html": [
              "\n",
              "  <div id=\"df-ea528019-9218-4d4a-bf60-3337c9947092\">\n",
              "    <div class=\"colab-df-container\">\n",
              "      <div>\n",
              "<style scoped>\n",
              "    .dataframe tbody tr th:only-of-type {\n",
              "        vertical-align: middle;\n",
              "    }\n",
              "\n",
              "    .dataframe tbody tr th {\n",
              "        vertical-align: top;\n",
              "    }\n",
              "\n",
              "    .dataframe thead th {\n",
              "        text-align: right;\n",
              "    }\n",
              "</style>\n",
              "<table border=\"1\" class=\"dataframe\">\n",
              "  <thead>\n",
              "    <tr style=\"text-align: right;\">\n",
              "      <th></th>\n",
              "      <th>warp_count</th>\n",
              "      <th>weft_count</th>\n",
              "      <th>epi</th>\n",
              "      <th>ppi</th>\n",
              "      <th>Finish_order_yds</th>\n",
              "      <th>Allowance</th>\n",
              "      <th>shrinkage</th>\n",
              "      <th>Grey_Fabric_yds</th>\n",
              "      <th>Req_Beam_length_yds</th>\n",
              "      <th>double_yran</th>\n",
              "      <th>double_beam</th>\n",
              "      <th>normal</th>\n",
              "    </tr>\n",
              "  </thead>\n",
              "  <tbody>\n",
              "    <tr>\n",
              "      <th>68</th>\n",
              "      <td>40</td>\n",
              "      <td>40</td>\n",
              "      <td>110</td>\n",
              "      <td>70</td>\n",
              "      <td>18329</td>\n",
              "      <td>7.001877</td>\n",
              "      <td>9.997359</td>\n",
              "      <td>19709.0</td>\n",
              "      <td>21898.2464</td>\n",
              "      <td>0.0</td>\n",
              "      <td>0.0</td>\n",
              "      <td>1.0</td>\n",
              "    </tr>\n",
              "    <tr>\n",
              "      <th>20</th>\n",
              "      <td>40</td>\n",
              "      <td>40</td>\n",
              "      <td>110</td>\n",
              "      <td>90</td>\n",
              "      <td>33900</td>\n",
              "      <td>7.021393</td>\n",
              "      <td>14.529624</td>\n",
              "      <td>36460.0</td>\n",
              "      <td>42658.0552</td>\n",
              "      <td>0.0</td>\n",
              "      <td>0.0</td>\n",
              "      <td>1.0</td>\n",
              "    </tr>\n",
              "    <tr>\n",
              "      <th>153</th>\n",
              "      <td>30</td>\n",
              "      <td>30</td>\n",
              "      <td>110</td>\n",
              "      <td>80</td>\n",
              "      <td>1700</td>\n",
              "      <td>9.574468</td>\n",
              "      <td>15.730740</td>\n",
              "      <td>1880.0</td>\n",
              "      <td>2230.9440</td>\n",
              "      <td>0.0</td>\n",
              "      <td>0.0</td>\n",
              "      <td>1.0</td>\n",
              "    </tr>\n",
              "    <tr>\n",
              "      <th>14</th>\n",
              "      <td>40</td>\n",
              "      <td>40</td>\n",
              "      <td>110</td>\n",
              "      <td>90</td>\n",
              "      <td>28968</td>\n",
              "      <td>8.000127</td>\n",
              "      <td>13.571090</td>\n",
              "      <td>31487.0</td>\n",
              "      <td>36431.0968</td>\n",
              "      <td>0.0</td>\n",
              "      <td>0.0</td>\n",
              "      <td>1.0</td>\n",
              "    </tr>\n",
              "    <tr>\n",
              "      <th>398</th>\n",
              "      <td>40</td>\n",
              "      <td>40</td>\n",
              "      <td>110</td>\n",
              "      <td>90</td>\n",
              "      <td>1050</td>\n",
              "      <td>9.482759</td>\n",
              "      <td>16.544697</td>\n",
              "      <td>1160.0</td>\n",
              "      <td>1389.9656</td>\n",
              "      <td>0.0</td>\n",
              "      <td>0.0</td>\n",
              "      <td>1.0</td>\n",
              "    </tr>\n",
              "  </tbody>\n",
              "</table>\n",
              "</div>\n",
              "      <button class=\"colab-df-convert\" onclick=\"convertToInteractive('df-ea528019-9218-4d4a-bf60-3337c9947092')\"\n",
              "              title=\"Convert this dataframe to an interactive table.\"\n",
              "              style=\"display:none;\">\n",
              "        \n",
              "  <svg xmlns=\"http://www.w3.org/2000/svg\" height=\"24px\"viewBox=\"0 0 24 24\"\n",
              "       width=\"24px\">\n",
              "    <path d=\"M0 0h24v24H0V0z\" fill=\"none\"/>\n",
              "    <path d=\"M18.56 5.44l.94 2.06.94-2.06 2.06-.94-2.06-.94-.94-2.06-.94 2.06-2.06.94zm-11 1L8.5 8.5l.94-2.06 2.06-.94-2.06-.94L8.5 2.5l-.94 2.06-2.06.94zm10 10l.94 2.06.94-2.06 2.06-.94-2.06-.94-.94-2.06-.94 2.06-2.06.94z\"/><path d=\"M17.41 7.96l-1.37-1.37c-.4-.4-.92-.59-1.43-.59-.52 0-1.04.2-1.43.59L10.3 9.45l-7.72 7.72c-.78.78-.78 2.05 0 2.83L4 21.41c.39.39.9.59 1.41.59.51 0 1.02-.2 1.41-.59l7.78-7.78 2.81-2.81c.8-.78.8-2.07 0-2.86zM5.41 20L4 18.59l7.72-7.72 1.47 1.35L5.41 20z\"/>\n",
              "  </svg>\n",
              "      </button>\n",
              "      \n",
              "  <style>\n",
              "    .colab-df-container {\n",
              "      display:flex;\n",
              "      flex-wrap:wrap;\n",
              "      gap: 12px;\n",
              "    }\n",
              "\n",
              "    .colab-df-convert {\n",
              "      background-color: #E8F0FE;\n",
              "      border: none;\n",
              "      border-radius: 50%;\n",
              "      cursor: pointer;\n",
              "      display: none;\n",
              "      fill: #1967D2;\n",
              "      height: 32px;\n",
              "      padding: 0 0 0 0;\n",
              "      width: 32px;\n",
              "    }\n",
              "\n",
              "    .colab-df-convert:hover {\n",
              "      background-color: #E2EBFA;\n",
              "      box-shadow: 0px 1px 2px rgba(60, 64, 67, 0.3), 0px 1px 3px 1px rgba(60, 64, 67, 0.15);\n",
              "      fill: #174EA6;\n",
              "    }\n",
              "\n",
              "    [theme=dark] .colab-df-convert {\n",
              "      background-color: #3B4455;\n",
              "      fill: #D2E3FC;\n",
              "    }\n",
              "\n",
              "    [theme=dark] .colab-df-convert:hover {\n",
              "      background-color: #434B5C;\n",
              "      box-shadow: 0px 1px 3px 1px rgba(0, 0, 0, 0.15);\n",
              "      filter: drop-shadow(0px 1px 2px rgba(0, 0, 0, 0.3));\n",
              "      fill: #FFFFFF;\n",
              "    }\n",
              "  </style>\n",
              "\n",
              "      <script>\n",
              "        const buttonEl =\n",
              "          document.querySelector('#df-ea528019-9218-4d4a-bf60-3337c9947092 button.colab-df-convert');\n",
              "        buttonEl.style.display =\n",
              "          google.colab.kernel.accessAllowed ? 'block' : 'none';\n",
              "\n",
              "        async function convertToInteractive(key) {\n",
              "          const element = document.querySelector('#df-ea528019-9218-4d4a-bf60-3337c9947092');\n",
              "          const dataTable =\n",
              "            await google.colab.kernel.invokeFunction('convertToInteractive',\n",
              "                                                     [key], {});\n",
              "          if (!dataTable) return;\n",
              "\n",
              "          const docLinkHtml = 'Like what you see? Visit the ' +\n",
              "            '<a target=\"_blank\" href=https://colab.research.google.com/notebooks/data_table.ipynb>data table notebook</a>'\n",
              "            + ' to learn more about interactive tables.';\n",
              "          element.innerHTML = '';\n",
              "          dataTable['output_type'] = 'display_data';\n",
              "          await google.colab.output.renderOutput(dataTable, element);\n",
              "          const docLink = document.createElement('div');\n",
              "          docLink.innerHTML = docLinkHtml;\n",
              "          element.appendChild(docLink);\n",
              "        }\n",
              "      </script>\n",
              "    </div>\n",
              "  </div>\n",
              "  "
            ],
            "text/plain": [
              "     warp_count  weft_count  epi  ...  double_yran  double_beam  normal\n",
              "68           40          40  110  ...          0.0          0.0     1.0\n",
              "20           40          40  110  ...          0.0          0.0     1.0\n",
              "153          30          30  110  ...          0.0          0.0     1.0\n",
              "14           40          40  110  ...          0.0          0.0     1.0\n",
              "398          40          40  110  ...          0.0          0.0     1.0\n",
              "\n",
              "[5 rows x 12 columns]"
            ]
          },
          "execution_count": 21,
          "metadata": {},
          "output_type": "execute_result"
        }
      ],
      "source": [
        "X_test.tail()"
      ],
      "id": "4zhXq2gNJO6P"
    },
    {
      "cell_type": "markdown",
      "metadata": {
        "id": "rG4g33XNYKPp"
      },
      "source": [
        "For ANN scaling is a must"
      ],
      "id": "rG4g33XNYKPp"
    },
    {
      "cell_type": "code",
      "execution_count": null,
      "metadata": {
        "id": "a11d8b7e"
      },
      "outputs": [],
      "source": [
        "from sklearn.preprocessing import MinMaxScaler"
      ],
      "id": "a11d8b7e"
    },
    {
      "cell_type": "code",
      "execution_count": null,
      "metadata": {
        "id": "58e7031b"
      },
      "outputs": [],
      "source": [
        "sc = MinMaxScaler()"
      ],
      "id": "58e7031b"
    },
    {
      "cell_type": "markdown",
      "metadata": {
        "id": "KGrFBQMSYQFH"
      },
      "source": [
        "Tensorflow works better with array rather than dataframe hence we convert the dataframe to array to scales them. Besides, we will use the array form to predict from our input data.."
      ],
      "id": "KGrFBQMSYQFH"
    },
    {
      "cell_type": "code",
      "execution_count": null,
      "metadata": {
        "id": "84f48ae8"
      },
      "outputs": [],
      "source": [
        "X_train_sc = sc.fit_transform(X_train)\n",
        "X_test_sc = sc.transform(X_test)"
      ],
      "id": "84f48ae8"
    },
    {
      "cell_type": "code",
      "execution_count": null,
      "metadata": {
        "id": "w11vzga8uDNB"
      },
      "outputs": [],
      "source": [
        "import tensorflow as tf\n",
        "from tensorflow import keras\n",
        "from tensorflow.keras import layers"
      ],
      "id": "w11vzga8uDNB"
    },
    {
      "cell_type": "markdown",
      "metadata": {
        "id": "Baeh-Mj3Yjs_"
      },
      "source": [
        "**Instead of Squential Model we prefer to use Functional api model**"
      ],
      "id": "Baeh-Mj3Yjs_"
    },
    {
      "cell_type": "code",
      "execution_count": null,
      "metadata": {
        "colab": {
          "base_uri": "https://localhost:8080/"
        },
        "id": "eGqtBw8huDQ3",
        "outputId": "36d96d97-0902-4c68-9628-6cdb9aabbecb"
      },
      "outputs": [
        {
          "name": "stdout",
          "output_type": "stream",
          "text": [
            "Model: \"Ann_model\"\n",
            "_________________________________________________________________\n",
            " Layer (type)                Output Shape              Param #   \n",
            "=================================================================\n",
            " input_1 (InputLayer)        [(None, 12)]              0         \n",
            "                                                                 \n",
            " dense (Dense)               (None, 128)               1664      \n",
            "                                                                 \n",
            " dense_1 (Dense)             (None, 256)               33024     \n",
            "                                                                 \n",
            " dense_2 (Dense)             (None, 128)               32896     \n",
            "                                                                 \n",
            " dense_3 (Dense)             (None, 1)                 129       \n",
            "                                                                 \n",
            "=================================================================\n",
            "Total params: 67,713\n",
            "Trainable params: 67,713\n",
            "Non-trainable params: 0\n",
            "_________________________________________________________________\n"
          ]
        }
      ],
      "source": [
        "from tensorflow.python.keras import activations\n",
        "input_layer = keras.Input(shape=(X_test_sc.shape[1],))\n",
        "dense_layer = layers.Dense(128,kernel_initializer='normal', activation='relu')\n",
        "x = dense_layer(input_layer)\n",
        "x = layers.Dense(256,kernel_initializer= 'normal' ,  activation='relu')(x) \n",
        "x = layers.Dense(128,kernel_initializer= 'normal' ,activation='relu')(x)\n",
        "output_layer = layers.Dense(1,kernel_initializer= 'normal', activation='linear')(x)\n",
        "model = keras.Model(inputs=input_layer, outputs=output_layer, name='Ann_model')\n",
        "model.summary()"
      ],
      "id": "eGqtBw8huDQ3"
    },
    {
      "cell_type": "code",
      "execution_count": null,
      "metadata": {
        "id": "RNmJC_QEuDT6"
      },
      "outputs": [],
      "source": [
        "model.compile(loss='mae', optimizer='adam', metrics='mae')"
      ],
      "id": "RNmJC_QEuDT6"
    },
    {
      "cell_type": "markdown",
      "metadata": {
        "id": "1dZn7MX_ZHAA"
      },
      "source": [
        "**For early stopping**"
      ],
      "id": "1dZn7MX_ZHAA"
    },
    {
      "cell_type": "code",
      "execution_count": null,
      "metadata": {
        "id": "CqxYy35vxTYb"
      },
      "outputs": [],
      "source": [
        "from tensorflow.keras.callbacks import EarlyStopping"
      ],
      "id": "CqxYy35vxTYb"
    },
    {
      "cell_type": "code",
      "execution_count": null,
      "metadata": {
        "id": "mjZs7CLvxuRk"
      },
      "outputs": [],
      "source": [
        "early_stop = EarlyStopping(monitor='val_loss', mode='min', patience=25)"
      ],
      "id": "mjZs7CLvxuRk"
    },
    {
      "cell_type": "code",
      "execution_count": null,
      "metadata": {
        "id": "TKZYINL2w9Qc"
      },
      "outputs": [],
      "source": [
        "history= model.fit(X_train_sc, y_train,epochs=600, validation_split=0.2, batch_size=20, callbacks=[early_stop], verbose=0)"
      ],
      "id": "TKZYINL2w9Qc"
    },
    {
      "cell_type": "code",
      "execution_count": null,
      "metadata": {
        "id": "_T6S-55lzvWu"
      },
      "outputs": [],
      "source": [
        "from sklearn.metrics import r2_score"
      ],
      "id": "_T6S-55lzvWu"
    },
    {
      "cell_type": "code",
      "execution_count": null,
      "metadata": {
        "colab": {
          "base_uri": "https://localhost:8080/"
        },
        "id": "o-olXnhLzuSE",
        "outputId": "a629e2f7-1738-4348-89cd-0f8c05f2e31a"
      },
      "outputs": [
        {
          "data": {
            "text/plain": [
              "0.44142542646879124"
            ]
          },
          "execution_count": 32,
          "metadata": {},
          "output_type": "execute_result"
        }
      ],
      "source": [
        "y_pred = model.predict(X_test_sc)\n",
        "r2_score(y_test, y_pred)"
      ],
      "id": "o-olXnhLzuSE"
    },
    {
      "cell_type": "code",
      "execution_count": null,
      "metadata": {
        "id": "xnTwuxuNzuUu"
      },
      "outputs": [],
      "source": [
        "loss= history.history['loss']\n",
        "val_loss= history.history['val_loss']\n"
      ],
      "id": "xnTwuxuNzuUu"
    },
    {
      "cell_type": "code",
      "execution_count": null,
      "metadata": {
        "id": "ygmrrughzuXi"
      },
      "outputs": [],
      "source": [
        "import matplotlib.pyplot as plt"
      ],
      "id": "ygmrrughzuXi"
    },
    {
      "cell_type": "code",
      "execution_count": null,
      "metadata": {
        "colab": {
          "base_uri": "https://localhost:8080/",
          "height": 282
        },
        "id": "WXzC7TkJ08yy",
        "outputId": "abb88d0d-4557-4860-d30e-68fdb861d821"
      },
      "outputs": [
        {
          "data": {
            "text/plain": [
              "[<matplotlib.lines.Line2D at 0x7f5442161350>]"
            ]
          },
          "execution_count": 35,
          "metadata": {},
          "output_type": "execute_result"
        },
        {
          "data": {
            "image/png": "[encoded data removed]",
            "text/plain": [
              "<Figure size 432x288 with 1 Axes>"
            ]
          },
          "metadata": {},
          "output_type": "display_data"
        }
      ],
      "source": [
        "plt.plot(loss)\n",
        "plt.plot(val_loss)"
      ],
      "id": "WXzC7TkJ08yy"
    },
    {
      "cell_type": "markdown",
      "metadata": {
        "id": "v0LsWIy-7Y7S"
      },
      "source": [
        "# **For a new value:**"
      ],
      "id": "v0LsWIy-7Y7S"
    },
    {
      "cell_type": "code",
      "execution_count": null,
      "metadata": {
        "id": "7NiNFrs9kulr"
      },
      "outputs": [],
      "source": [
        "epi = 100\n",
        "ppi = 80\n",
        "warp_count = 40\n",
        "weft_count = 40\n",
        "beam_type = 'normal'\n",
        "# beam_type = ohe.transform(beam_type)\n",
        "Finish_order_yds = 32000\n",
        "Allowance=7\n",
        "shrinkage = 12\n"
      ],
      "id": "7NiNFrs9kulr"
    },
    {
      "cell_type": "code",
      "execution_count": null,
      "metadata": {
        "id": "4sXekMEKkPCa"
      },
      "outputs": [],
      "source": [
        "new_df = pd.DataFrame({'warp_count':[warp_count],\n",
        "              'weft_count':[weft_count],\n",
        "              'epi':[epi],\n",
        "              'ppi':[ppi],\n",
        "              'beam_type':[beam_type],\n",
        "              'Finish_order_yds':[Finish_order_yds],\n",
        "              'Allowance':[Allowance] ,\n",
        "              'shrinkage':[shrinkage] })\n",
        "\n",
        "new_df['Grey_Fabric_yds'] = new_df['Finish_order_yds']*100/(100-new_df['Allowance'])\n",
        "new_df['Req_Beam_length_yds'] = new_df['Grey_Fabric_yds']*100/(100- new_df['shrinkage'])\n",
        "# Grey_Fabric_yds = Finish_order_yds*100/(100- Allowance)\n",
        "# Req_Beam_length_yds = Grey_Fabric_yds*100/(100- shrinkage)"
      ],
      "id": "4sXekMEKkPCa"
    },
    {
      "cell_type": "code",
      "execution_count": null,
      "metadata": {
        "colab": {
          "base_uri": "https://localhost:8080/",
          "height": 81
        },
        "id": "48xWpufEpEl5",
        "outputId": "c75bb3d8-e2e9-40ea-ad97-b2e52bfa9d57"
      },
      "outputs": [
        {
          "data": {
            "text/html": [
              "\n",
              "  <div id=\"df-25d362b2-e2a8-4f25-b84f-bc4a5ef4ad82\">\n",
              "    <div class=\"colab-df-container\">\n",
              "      <div>\n",
              "<style scoped>\n",
              "    .dataframe tbody tr th:only-of-type {\n",
              "        vertical-align: middle;\n",
              "    }\n",
              "\n",
              "    .dataframe tbody tr th {\n",
              "        vertical-align: top;\n",
              "    }\n",
              "\n",
              "    .dataframe thead th {\n",
              "        text-align: right;\n",
              "    }\n",
              "</style>\n",
              "<table border=\"1\" class=\"dataframe\">\n",
              "  <thead>\n",
              "    <tr style=\"text-align: right;\">\n",
              "      <th></th>\n",
              "      <th>warp_count</th>\n",
              "      <th>weft_count</th>\n",
              "      <th>epi</th>\n",
              "      <th>ppi</th>\n",
              "      <th>beam_type</th>\n",
              "      <th>Finish_order_yds</th>\n",
              "      <th>Allowance</th>\n",
              "      <th>shrinkage</th>\n",
              "      <th>Grey_Fabric_yds</th>\n",
              "      <th>Req_Beam_length_yds</th>\n",
              "    </tr>\n",
              "  </thead>\n",
              "  <tbody>\n",
              "    <tr>\n",
              "      <th>0</th>\n",
              "      <td>40</td>\n",
              "      <td>40</td>\n",
              "      <td>100</td>\n",
              "      <td>80</td>\n",
              "      <td>normal</td>\n",
              "      <td>32000</td>\n",
              "      <td>7</td>\n",
              "      <td>12</td>\n",
              "      <td>34408.602151</td>\n",
              "      <td>39100.684262</td>\n",
              "    </tr>\n",
              "  </tbody>\n",
              "</table>\n",
              "</div>\n",
              "      <button class=\"colab-df-convert\" onclick=\"convertToInteractive('df-25d362b2-e2a8-4f25-b84f-bc4a5ef4ad82')\"\n",
              "              title=\"Convert this dataframe to an interactive table.\"\n",
              "              style=\"display:none;\">\n",
              "        \n",
              "  <svg xmlns=\"http://www.w3.org/2000/svg\" height=\"24px\"viewBox=\"0 0 24 24\"\n",
              "       width=\"24px\">\n",
              "    <path d=\"M0 0h24v24H0V0z\" fill=\"none\"/>\n",
              "    <path d=\"M18.56 5.44l.94 2.06.94-2.06 2.06-.94-2.06-.94-.94-2.06-.94 2.06-2.06.94zm-11 1L8.5 8.5l.94-2.06 2.06-.94-2.06-.94L8.5 2.5l-.94 2.06-2.06.94zm10 10l.94 2.06.94-2.06 2.06-.94-2.06-.94-.94-2.06-.94 2.06-2.06.94z\"/><path d=\"M17.41 7.96l-1.37-1.37c-.4-.4-.92-.59-1.43-.59-.52 0-1.04.2-1.43.59L10.3 9.45l-7.72 7.72c-.78.78-.78 2.05 0 2.83L4 21.41c.39.39.9.59 1.41.59.51 0 1.02-.2 1.41-.59l7.78-7.78 2.81-2.81c.8-.78.8-2.07 0-2.86zM5.41 20L4 18.59l7.72-7.72 1.47 1.35L5.41 20z\"/>\n",
              "  </svg>\n",
              "      </button>\n",
              "      \n",
              "  <style>\n",
              "    .colab-df-container {\n",
              "      display:flex;\n",
              "      flex-wrap:wrap;\n",
              "      gap: 12px;\n",
              "    }\n",
              "\n",
              "    .colab-df-convert {\n",
              "      background-color: #E8F0FE;\n",
              "      border: none;\n",
              "      border-radius: 50%;\n",
              "      cursor: pointer;\n",
              "      display: none;\n",
              "      fill: #1967D2;\n",
              "      height: 32px;\n",
              "      padding: 0 0 0 0;\n",
              "      width: 32px;\n",
              "    }\n",
              "\n",
              "    .colab-df-convert:hover {\n",
              "      background-color: #E2EBFA;\n",
              "      box-shadow: 0px 1px 2px rgba(60, 64, 67, 0.3), 0px 1px 3px 1px rgba(60, 64, 67, 0.15);\n",
              "      fill: #174EA6;\n",
              "    }\n",
              "\n",
              "    [theme=dark] .colab-df-convert {\n",
              "      background-color: #3B4455;\n",
              "      fill: #D2E3FC;\n",
              "    }\n",
              "\n",
              "    [theme=dark] .colab-df-convert:hover {\n",
              "      background-color: #434B5C;\n",
              "      box-shadow: 0px 1px 3px 1px rgba(0, 0, 0, 0.15);\n",
              "      filter: drop-shadow(0px 1px 2px rgba(0, 0, 0, 0.3));\n",
              "      fill: #FFFFFF;\n",
              "    }\n",
              "  </style>\n",
              "\n",
              "      <script>\n",
              "        const buttonEl =\n",
              "          document.querySelector('#df-25d362b2-e2a8-4f25-b84f-bc4a5ef4ad82 button.colab-df-convert');\n",
              "        buttonEl.style.display =\n",
              "          google.colab.kernel.accessAllowed ? 'block' : 'none';\n",
              "\n",
              "        async function convertToInteractive(key) {\n",
              "          const element = document.querySelector('#df-25d362b2-e2a8-4f25-b84f-bc4a5ef4ad82');\n",
              "          const dataTable =\n",
              "            await google.colab.kernel.invokeFunction('convertToInteractive',\n",
              "                                                     [key], {});\n",
              "          if (!dataTable) return;\n",
              "\n",
              "          const docLinkHtml = 'Like what you see? Visit the ' +\n",
              "            '<a target=\"_blank\" href=https://colab.research.google.com/notebooks/data_table.ipynb>data table notebook</a>'\n",
              "            + ' to learn more about interactive tables.';\n",
              "          element.innerHTML = '';\n",
              "          dataTable['output_type'] = 'display_data';\n",
              "          await google.colab.output.renderOutput(dataTable, element);\n",
              "          const docLink = document.createElement('div');\n",
              "          docLink.innerHTML = docLinkHtml;\n",
              "          element.appendChild(docLink);\n",
              "        }\n",
              "      </script>\n",
              "    </div>\n",
              "  </div>\n",
              "  "
            ],
            "text/plain": [
              "   warp_count  weft_count  epi  ...  shrinkage Grey_Fabric_yds  Req_Beam_length_yds\n",
              "0          40          40  100  ...         12    34408.602151         39100.684262\n",
              "\n",
              "[1 rows x 10 columns]"
            ]
          },
          "execution_count": 38,
          "metadata": {},
          "output_type": "execute_result"
        }
      ],
      "source": [
        "new_df"
      ],
      "id": "48xWpufEpEl5"
    },
    {
      "cell_type": "code",
      "execution_count": null,
      "metadata": {
        "id": "uU_hIf6kQGe6"
      },
      "outputs": [],
      "source": [
        "def ohe_transfrom_test(X_test): \n",
        "  ohe_beam_type_test = ohe.transform(X_test[['beam_type']])\n",
        "  ohe_beam_type_test = pd.DataFrame(ohe_beam_type_test.toarray(), columns=['double_yran', 'double_beam', 'normal'] ) \n",
        "  ohe_beam_type_test.index = X_test.index\n",
        "  X_test = X_test.drop('beam_type', axis=1)\n",
        "  X_test = pd.concat([X_test, ohe_beam_type_test], axis=1)\n",
        "  return X_test"
      ],
      "id": "uU_hIf6kQGe6"
    },
    {
      "cell_type": "code",
      "execution_count": null,
      "metadata": {
        "id": "7MCiZtOCp2tF"
      },
      "outputs": [],
      "source": [
        "new_df= ohe_transfrom_test(new_df)"
      ],
      "id": "7MCiZtOCp2tF"
    },
    {
      "cell_type": "code",
      "execution_count": null,
      "metadata": {
        "id": "Olm4nZZQM29I"
      },
      "outputs": [],
      "source": [
        "new_df_sc = sc.transform(new_df)"
      ],
      "id": "Olm4nZZQM29I"
    },
    {
      "cell_type": "code",
      "execution_count": null,
      "metadata": {
        "colab": {
          "base_uri": "https://localhost:8080/"
        },
        "id": "SGjpb5TSp2wM",
        "outputId": "9ab588ff-eede-4adb-d44e-583ce6360194"
      },
      "outputs": [
        {
          "data": {
            "text/plain": [
              "array([[12.763369]], dtype=float32)"
            ]
          },
          "execution_count": 43,
          "metadata": {},
          "output_type": "execute_result"
        }
      ],
      "source": [
        "model.predict(new_df_sc)"
      ],
      "id": "SGjpb5TSp2wM"
    }
  ],
  "metadata": {
    "colab": {
      "collapsed_sections": [],
      "name": "log transformation of data.ipynb",
      "provenance": [],
      "include_colab_link": true
    },
    "kernelspec": {
      "display_name": "Python 3 (ipykernel)",
      "language": "python",
      "name": "python3"
    },
    "language_info": {
      "codemirror_mode": {
        "name": "ipython",
        "version": 3
      },
      "file_extension": ".py",
      "mimetype": "text/x-python",
      "name": "python",
      "nbconvert_exporter": "python",
      "pygments_lexer": "ipython3",
      "version": "3.9.2"
    }
  },
  "nbformat": 4,
  "nbformat_minor": 5
}