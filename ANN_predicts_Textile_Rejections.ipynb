{
  "cells": [
    {
      "cell_type": "markdown",
      "metadata": {
        "id": "view-in-github",
        "colab_type": "text"
      },
      "source": [
        "<a href=\"https://colab.research.google.com/github/utopian18/ML_in_Textile/blob/main/ANN_predicts_Textile_Rejections.ipynb\" target=\"_parent\"><img src=\"https://colab.research.google.com/assets/colab-badge.svg\" alt=\"Open In Colab\"/></a>"
      ]
    },
    {
      "cell_type": "code",
      "execution_count": 3,
      "id": "6750376b",
      "metadata": {
        "id": "6750376b"
      },
      "outputs": [],
      "source": [
        "#loading the basic packages\n",
        "import numpy as np\n",
        "import pandas as pd"
      ]
    },
    {
      "cell_type": "code",
      "execution_count": 4,
      "id": "2710182c",
      "metadata": {
        "id": "2710182c"
      },
      "outputs": [],
      "source": [
        "#this data is already cleaned and we will do some processing\n",
        "df = pd.read_csv('textile_rejection_prediction.csv')"
      ]
    },
    {
      "cell_type": "code",
      "execution_count": 5,
      "id": "22dcedb1",
      "metadata": {
        "colab": {
          "base_uri": "https://localhost:8080/",
          "height": 340
        },
        "id": "22dcedb1",
        "outputId": "c46391ca-323b-4d74-8869-c910e857e766"
      },
      "outputs": [
        {
          "output_type": "execute_result",
          "data": {
            "text/html": [
              "\n",
              "  <div id=\"df-8116bd92-ad70-40b0-a46c-12268dd07da1\">\n",
              "    <div class=\"colab-df-container\">\n",
              "      <div>\n",
              "<style scoped>\n",
              "    .dataframe tbody tr th:only-of-type {\n",
              "        vertical-align: middle;\n",
              "    }\n",
              "\n",
              "    .dataframe tbody tr th {\n",
              "        vertical-align: top;\n",
              "    }\n",
              "\n",
              "    .dataframe thead th {\n",
              "        text-align: right;\n",
              "    }\n",
              "</style>\n",
              "<table border=\"1\" class=\"dataframe\">\n",
              "  <thead>\n",
              "    <tr style=\"text-align: right;\">\n",
              "      <th></th>\n",
              "      <th>Sl</th>\n",
              "      <th>lot_no.</th>\n",
              "      <th>warp_count</th>\n",
              "      <th>weft_count</th>\n",
              "      <th>epi</th>\n",
              "      <th>ppi</th>\n",
              "      <th>remark</th>\n",
              "      <th>F.Ord.(Yds)</th>\n",
              "      <th>Delivery</th>\n",
              "      <th>Req. Grey Qtv (Yds)</th>\n",
              "      <th>Shrin%</th>\n",
              "      <th>Req. Beam L(yds)</th>\n",
              "      <th>Recv. Beam L(Yds)</th>\n",
              "      <th>Deliverd Yds</th>\n",
              "      <th>Rej.Yds</th>\n",
              "      <th>Total Prod Yds</th>\n",
              "      <th>Short/Ex. Yds</th>\n",
              "      <th>Total loss%</th>\n",
              "    </tr>\n",
              "  </thead>\n",
              "  <tbody>\n",
              "    <tr>\n",
              "      <th>0</th>\n",
              "      <td>1</td>\n",
              "      <td>12207</td>\n",
              "      <td>40</td>\n",
              "      <td>40</td>\n",
              "      <td>110</td>\n",
              "      <td>80</td>\n",
              "      <td>double beam</td>\n",
              "      <td>31300</td>\n",
              "      <td>6.000360</td>\n",
              "      <td>33298</td>\n",
              "      <td>12.500542</td>\n",
              "      <td>38055.0928</td>\n",
              "      <td>38286.9360</td>\n",
              "      <td>34668</td>\n",
              "      <td>301.0</td>\n",
              "      <td>34969.0</td>\n",
              "      <td>1671.0</td>\n",
              "      <td>8.665974</td>\n",
              "    </tr>\n",
              "    <tr>\n",
              "      <th>1</th>\n",
              "      <td>2</td>\n",
              "      <td>12213</td>\n",
              "      <td>40</td>\n",
              "      <td>40</td>\n",
              "      <td>110</td>\n",
              "      <td>90</td>\n",
              "      <td>normal</td>\n",
              "      <td>54600</td>\n",
              "      <td>6.998927</td>\n",
              "      <td>58709</td>\n",
              "      <td>14.500689</td>\n",
              "      <td>68666.0504</td>\n",
              "      <td>69634.9800</td>\n",
              "      <td>59019</td>\n",
              "      <td>505.0</td>\n",
              "      <td>59524.0</td>\n",
              "      <td>815.0</td>\n",
              "      <td>14.519973</td>\n",
              "    </tr>\n",
              "    <tr>\n",
              "      <th>2</th>\n",
              "      <td>3</td>\n",
              "      <td>12313</td>\n",
              "      <td>40</td>\n",
              "      <td>40</td>\n",
              "      <td>110</td>\n",
              "      <td>90</td>\n",
              "      <td>normal</td>\n",
              "      <td>64715</td>\n",
              "      <td>6.999971</td>\n",
              "      <td>69586</td>\n",
              "      <td>14.499654</td>\n",
              "      <td>81386.8056</td>\n",
              "      <td>82556.9576</td>\n",
              "      <td>70613</td>\n",
              "      <td>341.0</td>\n",
              "      <td>70954.0</td>\n",
              "      <td>1368.0</td>\n",
              "      <td>14.054488</td>\n",
              "    </tr>\n",
              "    <tr>\n",
              "      <th>3</th>\n",
              "      <td>4</td>\n",
              "      <td>12315</td>\n",
              "      <td>40</td>\n",
              "      <td>40</td>\n",
              "      <td>110</td>\n",
              "      <td>90</td>\n",
              "      <td>normal</td>\n",
              "      <td>25500</td>\n",
              "      <td>6.998796</td>\n",
              "      <td>27419</td>\n",
              "      <td>14.502171</td>\n",
              "      <td>32069.8200</td>\n",
              "      <td>32353.0624</td>\n",
              "      <td>27820</td>\n",
              "      <td>0.0</td>\n",
              "      <td>27820.0</td>\n",
              "      <td>401.0</td>\n",
              "      <td>14.011231</td>\n",
              "    </tr>\n",
              "    <tr>\n",
              "      <th>4</th>\n",
              "      <td>5</td>\n",
              "      <td>12317</td>\n",
              "      <td>50</td>\n",
              "      <td>50</td>\n",
              "      <td>140</td>\n",
              "      <td>70</td>\n",
              "      <td>normal</td>\n",
              "      <td>20700</td>\n",
              "      <td>8.000000</td>\n",
              "      <td>22500</td>\n",
              "      <td>8.999734</td>\n",
              "      <td>24725.2024</td>\n",
              "      <td>24917.6760</td>\n",
              "      <td>22631</td>\n",
              "      <td>369.0</td>\n",
              "      <td>23000.0</td>\n",
              "      <td>500.0</td>\n",
              "      <td>7.696047</td>\n",
              "    </tr>\n",
              "  </tbody>\n",
              "</table>\n",
              "</div>\n",
              "      <button class=\"colab-df-convert\" onclick=\"convertToInteractive('df-8116bd92-ad70-40b0-a46c-12268dd07da1')\"\n",
              "              title=\"Convert this dataframe to an interactive table.\"\n",
              "              style=\"display:none;\">\n",
              "        \n",
              "  <svg xmlns=\"http://www.w3.org/2000/svg\" height=\"24px\"viewBox=\"0 0 24 24\"\n",
              "       width=\"24px\">\n",
              "    <path d=\"M0 0h24v24H0V0z\" fill=\"none\"/>\n",
              "    <path d=\"M18.56 5.44l.94 2.06.94-2.06 2.06-.94-2.06-.94-.94-2.06-.94 2.06-2.06.94zm-11 1L8.5 8.5l.94-2.06 2.06-.94-2.06-.94L8.5 2.5l-.94 2.06-2.06.94zm10 10l.94 2.06.94-2.06 2.06-.94-2.06-.94-.94-2.06-.94 2.06-2.06.94z\"/><path d=\"M17.41 7.96l-1.37-1.37c-.4-.4-.92-.59-1.43-.59-.52 0-1.04.2-1.43.59L10.3 9.45l-7.72 7.72c-.78.78-.78 2.05 0 2.83L4 21.41c.39.39.9.59 1.41.59.51 0 1.02-.2 1.41-.59l7.78-7.78 2.81-2.81c.8-.78.8-2.07 0-2.86zM5.41 20L4 18.59l7.72-7.72 1.47 1.35L5.41 20z\"/>\n",
              "  </svg>\n",
              "      </button>\n",
              "      \n",
              "  <style>\n",
              "    .colab-df-container {\n",
              "      display:flex;\n",
              "      flex-wrap:wrap;\n",
              "      gap: 12px;\n",
              "    }\n",
              "\n",
              "    .colab-df-convert {\n",
              "      background-color: #E8F0FE;\n",
              "      border: none;\n",
              "      border-radius: 50%;\n",
              "      cursor: pointer;\n",
              "      display: none;\n",
              "      fill: #1967D2;\n",
              "      height: 32px;\n",
              "      padding: 0 0 0 0;\n",
              "      width: 32px;\n",
              "    }\n",
              "\n",
              "    .colab-df-convert:hover {\n",
              "      background-color: #E2EBFA;\n",
              "      box-shadow: 0px 1px 2px rgba(60, 64, 67, 0.3), 0px 1px 3px 1px rgba(60, 64, 67, 0.15);\n",
              "      fill: #174EA6;\n",
              "    }\n",
              "\n",
              "    [theme=dark] .colab-df-convert {\n",
              "      background-color: #3B4455;\n",
              "      fill: #D2E3FC;\n",
              "    }\n",
              "\n",
              "    [theme=dark] .colab-df-convert:hover {\n",
              "      background-color: #434B5C;\n",
              "      box-shadow: 0px 1px 3px 1px rgba(0, 0, 0, 0.15);\n",
              "      filter: drop-shadow(0px 1px 2px rgba(0, 0, 0, 0.3));\n",
              "      fill: #FFFFFF;\n",
              "    }\n",
              "  </style>\n",
              "\n",
              "      <script>\n",
              "        const buttonEl =\n",
              "          document.querySelector('#df-8116bd92-ad70-40b0-a46c-12268dd07da1 button.colab-df-convert');\n",
              "        buttonEl.style.display =\n",
              "          google.colab.kernel.accessAllowed ? 'block' : 'none';\n",
              "\n",
              "        async function convertToInteractive(key) {\n",
              "          const element = document.querySelector('#df-8116bd92-ad70-40b0-a46c-12268dd07da1');\n",
              "          const dataTable =\n",
              "            await google.colab.kernel.invokeFunction('convertToInteractive',\n",
              "                                                     [key], {});\n",
              "          if (!dataTable) return;\n",
              "\n",
              "          const docLinkHtml = 'Like what you see? Visit the ' +\n",
              "            '<a target=\"_blank\" href=https://colab.research.google.com/notebooks/data_table.ipynb>data table notebook</a>'\n",
              "            + ' to learn more about interactive tables.';\n",
              "          element.innerHTML = '';\n",
              "          dataTable['output_type'] = 'display_data';\n",
              "          await google.colab.output.renderOutput(dataTable, element);\n",
              "          const docLink = document.createElement('div');\n",
              "          docLink.innerHTML = docLinkHtml;\n",
              "          element.appendChild(docLink);\n",
              "        }\n",
              "      </script>\n",
              "    </div>\n",
              "  </div>\n",
              "  "
            ],
            "text/plain": [
              "   Sl  lot_no.  warp_count  ...  Total Prod Yds  Short/Ex. Yds  Total loss%\n",
              "0   1    12207          40  ...         34969.0         1671.0     8.665974\n",
              "1   2    12213          40  ...         59524.0          815.0    14.519973\n",
              "2   3    12313          40  ...         70954.0         1368.0    14.054488\n",
              "3   4    12315          40  ...         27820.0          401.0    14.011231\n",
              "4   5    12317          50  ...         23000.0          500.0     7.696047\n",
              "\n",
              "[5 rows x 18 columns]"
            ]
          },
          "metadata": {},
          "execution_count": 5
        }
      ],
      "source": [
        "df.head()"
      ]
    },
    {
      "cell_type": "markdown",
      "source": [
        "It seems the dataset has a lot of unnecessay columns, such as: lot no., required grey quantity, delivered yds, rejection yards and so on. we will make a list of some essential parameters and add some features by feature engineering"
      ],
      "metadata": {
        "id": "AC931Zp7LY8I"
      },
      "id": "AC931Zp7LY8I"
    },
    {
      "cell_type": "code",
      "source": [
        "df.shape"
      ],
      "metadata": {
        "id": "JwfHOi0Qr7Yd",
        "colab": {
          "base_uri": "https://localhost:8080/"
        },
        "outputId": "bd8895f8-3dd7-4ece-e702-d9a82af7a100"
      },
      "id": "JwfHOi0Qr7Yd",
      "execution_count": 6,
      "outputs": [
        {
          "output_type": "execute_result",
          "data": {
            "text/plain": [
              "(409, 18)"
            ]
          },
          "metadata": {},
          "execution_count": 6
        }
      ]
    },
    {
      "cell_type": "markdown",
      "source": [
        "**Adding features**"
      ],
      "metadata": {
        "id": "xXEDw5_Dr9kq"
      },
      "id": "xXEDw5_Dr9kq"
    },
    {
      "cell_type": "code",
      "source": [
        "dependent_vars = ['warp_count', 'weft_count', 'epi', 'ppi', 'remark', 'F.Ord.(Yds)', 'Delivery', 'Shrin%']\n",
        "independent_var = ['Total loss%']"
      ],
      "metadata": {
        "id": "p9xyxdYHmgCi"
      },
      "id": "p9xyxdYHmgCi",
      "execution_count": 7,
      "outputs": []
    },
    {
      "cell_type": "code",
      "source": [
        "X = df[dependent_vars]\n",
        "#rename some feature's name to make it more pythonic\n",
        "X= X.rename(columns= {'Delivery': 'Allowance', 'remark':'beam_type', 'F.Ord.(Yds)':'Finish_order_yds', 'Shrin%': 'shrinkage' })\n",
        "y = df[independent_var]"
      ],
      "metadata": {
        "id": "3F-BDOM3ouS9"
      },
      "id": "3F-BDOM3ouS9",
      "execution_count": 8,
      "outputs": []
    },
    {
      "cell_type": "code",
      "source": [
        "X.head()"
      ],
      "metadata": {
        "colab": {
          "base_uri": "https://localhost:8080/",
          "height": 206
        },
        "id": "QmQzMzu04Kum",
        "outputId": "d8ee6610-562d-4f86-afaf-afacd76b4b47"
      },
      "id": "QmQzMzu04Kum",
      "execution_count": 9,
      "outputs": [
        {
          "output_type": "execute_result",
          "data": {
            "text/html": [
              "\n",
              "  <div id=\"df-e2bf9da5-0bb1-49d3-99ff-efd949682c43\">\n",
              "    <div class=\"colab-df-container\">\n",
              "      <div>\n",
              "<style scoped>\n",
              "    .dataframe tbody tr th:only-of-type {\n",
              "        vertical-align: middle;\n",
              "    }\n",
              "\n",
              "    .dataframe tbody tr th {\n",
              "        vertical-align: top;\n",
              "    }\n",
              "\n",
              "    .dataframe thead th {\n",
              "        text-align: right;\n",
              "    }\n",
              "</style>\n",
              "<table border=\"1\" class=\"dataframe\">\n",
              "  <thead>\n",
              "    <tr style=\"text-align: right;\">\n",
              "      <th></th>\n",
              "      <th>warp_count</th>\n",
              "      <th>weft_count</th>\n",
              "      <th>epi</th>\n",
              "      <th>ppi</th>\n",
              "      <th>beam_type</th>\n",
              "      <th>Finish_order_yds</th>\n",
              "      <th>Allowance</th>\n",
              "      <th>shrinkage</th>\n",
              "    </tr>\n",
              "  </thead>\n",
              "  <tbody>\n",
              "    <tr>\n",
              "      <th>0</th>\n",
              "      <td>40</td>\n",
              "      <td>40</td>\n",
              "      <td>110</td>\n",
              "      <td>80</td>\n",
              "      <td>double beam</td>\n",
              "      <td>31300</td>\n",
              "      <td>6.000360</td>\n",
              "      <td>12.500542</td>\n",
              "    </tr>\n",
              "    <tr>\n",
              "      <th>1</th>\n",
              "      <td>40</td>\n",
              "      <td>40</td>\n",
              "      <td>110</td>\n",
              "      <td>90</td>\n",
              "      <td>normal</td>\n",
              "      <td>54600</td>\n",
              "      <td>6.998927</td>\n",
              "      <td>14.500689</td>\n",
              "    </tr>\n",
              "    <tr>\n",
              "      <th>2</th>\n",
              "      <td>40</td>\n",
              "      <td>40</td>\n",
              "      <td>110</td>\n",
              "      <td>90</td>\n",
              "      <td>normal</td>\n",
              "      <td>64715</td>\n",
              "      <td>6.999971</td>\n",
              "      <td>14.499654</td>\n",
              "    </tr>\n",
              "    <tr>\n",
              "      <th>3</th>\n",
              "      <td>40</td>\n",
              "      <td>40</td>\n",
              "      <td>110</td>\n",
              "      <td>90</td>\n",
              "      <td>normal</td>\n",
              "      <td>25500</td>\n",
              "      <td>6.998796</td>\n",
              "      <td>14.502171</td>\n",
              "    </tr>\n",
              "    <tr>\n",
              "      <th>4</th>\n",
              "      <td>50</td>\n",
              "      <td>50</td>\n",
              "      <td>140</td>\n",
              "      <td>70</td>\n",
              "      <td>normal</td>\n",
              "      <td>20700</td>\n",
              "      <td>8.000000</td>\n",
              "      <td>8.999734</td>\n",
              "    </tr>\n",
              "  </tbody>\n",
              "</table>\n",
              "</div>\n",
              "      <button class=\"colab-df-convert\" onclick=\"convertToInteractive('df-e2bf9da5-0bb1-49d3-99ff-efd949682c43')\"\n",
              "              title=\"Convert this dataframe to an interactive table.\"\n",
              "              style=\"display:none;\">\n",
              "        \n",
              "  <svg xmlns=\"http://www.w3.org/2000/svg\" height=\"24px\"viewBox=\"0 0 24 24\"\n",
              "       width=\"24px\">\n",
              "    <path d=\"M0 0h24v24H0V0z\" fill=\"none\"/>\n",
              "    <path d=\"M18.56 5.44l.94 2.06.94-2.06 2.06-.94-2.06-.94-.94-2.06-.94 2.06-2.06.94zm-11 1L8.5 8.5l.94-2.06 2.06-.94-2.06-.94L8.5 2.5l-.94 2.06-2.06.94zm10 10l.94 2.06.94-2.06 2.06-.94-2.06-.94-.94-2.06-.94 2.06-2.06.94z\"/><path d=\"M17.41 7.96l-1.37-1.37c-.4-.4-.92-.59-1.43-.59-.52 0-1.04.2-1.43.59L10.3 9.45l-7.72 7.72c-.78.78-.78 2.05 0 2.83L4 21.41c.39.39.9.59 1.41.59.51 0 1.02-.2 1.41-.59l7.78-7.78 2.81-2.81c.8-.78.8-2.07 0-2.86zM5.41 20L4 18.59l7.72-7.72 1.47 1.35L5.41 20z\"/>\n",
              "  </svg>\n",
              "      </button>\n",
              "      \n",
              "  <style>\n",
              "    .colab-df-container {\n",
              "      display:flex;\n",
              "      flex-wrap:wrap;\n",
              "      gap: 12px;\n",
              "    }\n",
              "\n",
              "    .colab-df-convert {\n",
              "      background-color: #E8F0FE;\n",
              "      border: none;\n",
              "      border-radius: 50%;\n",
              "      cursor: pointer;\n",
              "      display: none;\n",
              "      fill: #1967D2;\n",
              "      height: 32px;\n",
              "      padding: 0 0 0 0;\n",
              "      width: 32px;\n",
              "    }\n",
              "\n",
              "    .colab-df-convert:hover {\n",
              "      background-color: #E2EBFA;\n",
              "      box-shadow: 0px 1px 2px rgba(60, 64, 67, 0.3), 0px 1px 3px 1px rgba(60, 64, 67, 0.15);\n",
              "      fill: #174EA6;\n",
              "    }\n",
              "\n",
              "    [theme=dark] .colab-df-convert {\n",
              "      background-color: #3B4455;\n",
              "      fill: #D2E3FC;\n",
              "    }\n",
              "\n",
              "    [theme=dark] .colab-df-convert:hover {\n",
              "      background-color: #434B5C;\n",
              "      box-shadow: 0px 1px 3px 1px rgba(0, 0, 0, 0.15);\n",
              "      filter: drop-shadow(0px 1px 2px rgba(0, 0, 0, 0.3));\n",
              "      fill: #FFFFFF;\n",
              "    }\n",
              "  </style>\n",
              "\n",
              "      <script>\n",
              "        const buttonEl =\n",
              "          document.querySelector('#df-e2bf9da5-0bb1-49d3-99ff-efd949682c43 button.colab-df-convert');\n",
              "        buttonEl.style.display =\n",
              "          google.colab.kernel.accessAllowed ? 'block' : 'none';\n",
              "\n",
              "        async function convertToInteractive(key) {\n",
              "          const element = document.querySelector('#df-e2bf9da5-0bb1-49d3-99ff-efd949682c43');\n",
              "          const dataTable =\n",
              "            await google.colab.kernel.invokeFunction('convertToInteractive',\n",
              "                                                     [key], {});\n",
              "          if (!dataTable) return;\n",
              "\n",
              "          const docLinkHtml = 'Like what you see? Visit the ' +\n",
              "            '<a target=\"_blank\" href=https://colab.research.google.com/notebooks/data_table.ipynb>data table notebook</a>'\n",
              "            + ' to learn more about interactive tables.';\n",
              "          element.innerHTML = '';\n",
              "          dataTable['output_type'] = 'display_data';\n",
              "          await google.colab.output.renderOutput(dataTable, element);\n",
              "          const docLink = document.createElement('div');\n",
              "          docLink.innerHTML = docLinkHtml;\n",
              "          element.appendChild(docLink);\n",
              "        }\n",
              "      </script>\n",
              "    </div>\n",
              "  </div>\n",
              "  "
            ],
            "text/plain": [
              "   warp_count  weft_count  epi  ...  Finish_order_yds Allowance  shrinkage\n",
              "0          40          40  110  ...             31300  6.000360  12.500542\n",
              "1          40          40  110  ...             54600  6.998927  14.500689\n",
              "2          40          40  110  ...             64715  6.999971  14.499654\n",
              "3          40          40  110  ...             25500  6.998796  14.502171\n",
              "4          50          50  140  ...             20700  8.000000   8.999734\n",
              "\n",
              "[5 rows x 8 columns]"
            ]
          },
          "metadata": {},
          "execution_count": 9
        }
      ]
    },
    {
      "cell_type": "markdown",
      "source": [
        "Now we will add 2 features required grey fabrics and required beam length. the formulla for this is ${grey\\space fabric \\space required} = \\frac {Req \\space Finish \\space Fabrics\\times 100}{100 - warp\\space allowance% ) }$"
      ],
      "metadata": {
        "id": "PsQnyhJYMolT"
      },
      "id": "PsQnyhJYMolT"
    },
    {
      "cell_type": "code",
      "execution_count": 10,
      "id": "aaa244dd",
      "metadata": {
        "id": "aaa244dd"
      },
      "outputs": [],
      "source": [
        "X['Grey_Fabric_yds']= (X['Finish_order_yds']*100)/(100-X['Allowance'])\n",
        "X['Req_Beam_length_yds']= (X['Grey_Fabric_yds']*100)/(100-X['shrinkage'])"
      ]
    },
    {
      "cell_type": "markdown",
      "source": [
        "**Train Test split**"
      ],
      "metadata": {
        "id": "sjyX0Mp2Uz1S"
      },
      "id": "sjyX0Mp2Uz1S"
    },
    {
      "cell_type": "code",
      "source": [
        "from sklearn.model_selection import train_test_split"
      ],
      "metadata": {
        "id": "lxWp60RZU26U"
      },
      "id": "lxWp60RZU26U",
      "execution_count": 11,
      "outputs": []
    },
    {
      "cell_type": "code",
      "source": [
        "X_train, X_test, y_train, y_test = train_test_split(X,y, test_size=0.2, random_state=0)"
      ],
      "metadata": {
        "id": "lsYC49uVU3KM"
      },
      "id": "lsYC49uVU3KM",
      "execution_count": 12,
      "outputs": []
    },
    {
      "cell_type": "code",
      "source": [
        "X.info()"
      ],
      "metadata": {
        "colab": {
          "base_uri": "https://localhost:8080/"
        },
        "id": "xBh05kdpUa8b",
        "outputId": "8f34065e-a112-4f99-bc08-6ffb169f692c"
      },
      "id": "xBh05kdpUa8b",
      "execution_count": 13,
      "outputs": [
        {
          "output_type": "stream",
          "name": "stdout",
          "text": [
            "<class 'pandas.core.frame.DataFrame'>\n",
            "RangeIndex: 409 entries, 0 to 408\n",
            "Data columns (total 10 columns):\n",
            " #   Column               Non-Null Count  Dtype  \n",
            "---  ------               --------------  -----  \n",
            " 0   warp_count           409 non-null    int64  \n",
            " 1   weft_count           409 non-null    int64  \n",
            " 2   epi                  409 non-null    int64  \n",
            " 3   ppi                  409 non-null    int64  \n",
            " 4   beam_type            409 non-null    object \n",
            " 5   Finish_order_yds     409 non-null    int64  \n",
            " 6   Allowance            409 non-null    float64\n",
            " 7   shrinkage            409 non-null    float64\n",
            " 8   Grey_Fabric_yds      409 non-null    float64\n",
            " 9   Req_Beam_length_yds  409 non-null    float64\n",
            "dtypes: float64(4), int64(5), object(1)\n",
            "memory usage: 32.1+ KB\n"
          ]
        }
      ]
    },
    {
      "cell_type": "markdown",
      "source": [
        "# For ANN one hot encoding is better. Hence, we will do one hot encoding for converting object to numerical values"
      ],
      "metadata": {
        "id": "DKBkwi3zXwt8"
      },
      "id": "DKBkwi3zXwt8"
    },
    {
      "cell_type": "markdown",
      "source": [
        "only the beam_type is object here"
      ],
      "metadata": {
        "id": "bd0_toA9UrFW"
      },
      "id": "bd0_toA9UrFW"
    },
    {
      "cell_type": "code",
      "source": [
        "from sklearn.preprocessing import OneHotEncoder"
      ],
      "metadata": {
        "id": "TTcgvX1jUPAn"
      },
      "id": "TTcgvX1jUPAn",
      "execution_count": 14,
      "outputs": []
    },
    {
      "cell_type": "code",
      "source": [
        "ohe = OneHotEncoder(handle_unknown ='ignore')"
      ],
      "metadata": {
        "id": "OWcRCUnfUTx4"
      },
      "id": "OWcRCUnfUTx4",
      "execution_count": 15,
      "outputs": []
    },
    {
      "cell_type": "code",
      "source": [
        "ohe_beam_type = ohe.fit_transform(X_train[['beam_type']])\n",
        "ohe_beam_type_test = ohe.transform(X_test[['beam_type']])\n",
        "ohe_beam_type_train = pd.DataFrame(ohe_beam_type.toarray(), columns=['double_yran', 'double_beam', 'normal'] )\n",
        "ohe_beam_type_test = pd.DataFrame(ohe_beam_type_test.toarray(), columns=['double_yran', 'double_beam', 'normal'] ) \n",
        "ohe_beam_type_train.index = X_train.index\n",
        "ohe_beam_type_test.index = X_test.index\n",
        "\n",
        "X_train= X_train.drop('beam_type', axis=1)\n",
        "X_test = X_test.drop('beam_type', axis=1)\n",
        "\n",
        "X_train = pd.concat([X_train, ohe_beam_type_train], axis=1)\n",
        "X_test = pd.concat([X_test, ohe_beam_type_test], axis=1)"
      ],
      "metadata": {
        "id": "6Bwf1hriOEXv"
      },
      "id": "6Bwf1hriOEXv",
      "execution_count": 16,
      "outputs": []
    },
    {
      "cell_type": "code",
      "source": [
        "# X_train = ohe_transfrom_train(X_train)\n",
        "# X_test = ohe_transfrom_test(X_test)"
      ],
      "metadata": {
        "id": "PoYMIlP3JEaR"
      },
      "id": "PoYMIlP3JEaR",
      "execution_count": 20,
      "outputs": []
    },
    {
      "cell_type": "code",
      "source": [
        "X_test.tail()"
      ],
      "metadata": {
        "colab": {
          "base_uri": "https://localhost:8080/",
          "height": 250
        },
        "id": "4zhXq2gNJO6P",
        "outputId": "69a53903-9a2d-4a05-9ed1-b79119763601"
      },
      "id": "4zhXq2gNJO6P",
      "execution_count": 21,
      "outputs": [
        {
          "output_type": "execute_result",
          "data": {
            "text/html": [
              "\n",
              "  <div id=\"df-ea528019-9218-4d4a-bf60-3337c9947092\">\n",
              "    <div class=\"colab-df-container\">\n",
              "      <div>\n",
              "<style scoped>\n",
              "    .dataframe tbody tr th:only-of-type {\n",
              "        vertical-align: middle;\n",
              "    }\n",
              "\n",
              "    .dataframe tbody tr th {\n",
              "        vertical-align: top;\n",
              "    }\n",
              "\n",
              "    .dataframe thead th {\n",
              "        text-align: right;\n",
              "    }\n",
              "</style>\n",
              "<table border=\"1\" class=\"dataframe\">\n",
              "  <thead>\n",
              "    <tr style=\"text-align: right;\">\n",
              "      <th></th>\n",
              "      <th>warp_count</th>\n",
              "      <th>weft_count</th>\n",
              "      <th>epi</th>\n",
              "      <th>ppi</th>\n",
              "      <th>Finish_order_yds</th>\n",
              "      <th>Allowance</th>\n",
              "      <th>shrinkage</th>\n",
              "      <th>Grey_Fabric_yds</th>\n",
              "      <th>Req_Beam_length_yds</th>\n",
              "      <th>double_yran</th>\n",
              "      <th>double_beam</th>\n",
              "      <th>normal</th>\n",
              "    </tr>\n",
              "  </thead>\n",
              "  <tbody>\n",
              "    <tr>\n",
              "      <th>68</th>\n",
              "      <td>40</td>\n",
              "      <td>40</td>\n",
              "      <td>110</td>\n",
              "      <td>70</td>\n",
              "      <td>18329</td>\n",
              "      <td>7.001877</td>\n",
              "      <td>9.997359</td>\n",
              "      <td>19709.0</td>\n",
              "      <td>21898.2464</td>\n",
              "      <td>0.0</td>\n",
              "      <td>0.0</td>\n",
              "      <td>1.0</td>\n",
              "    </tr>\n",
              "    <tr>\n",
              "      <th>20</th>\n",
              "      <td>40</td>\n",
              "      <td>40</td>\n",
              "      <td>110</td>\n",
              "      <td>90</td>\n",
              "      <td>33900</td>\n",
              "      <td>7.021393</td>\n",
              "      <td>14.529624</td>\n",
              "      <td>36460.0</td>\n",
              "      <td>42658.0552</td>\n",
              "      <td>0.0</td>\n",
              "      <td>0.0</td>\n",
              "      <td>1.0</td>\n",
              "    </tr>\n",
              "    <tr>\n",
              "      <th>153</th>\n",
              "      <td>30</td>\n",
              "      <td>30</td>\n",
              "      <td>110</td>\n",
              "      <td>80</td>\n",
              "      <td>1700</td>\n",
              "      <td>9.574468</td>\n",
              "      <td>15.730740</td>\n",
              "      <td>1880.0</td>\n",
              "      <td>2230.9440</td>\n",
              "      <td>0.0</td>\n",
              "      <td>0.0</td>\n",
              "      <td>1.0</td>\n",
              "    </tr>\n",
              "    <tr>\n",
              "      <th>14</th>\n",
              "      <td>40</td>\n",
              "      <td>40</td>\n",
              "      <td>110</td>\n",
              "      <td>90</td>\n",
              "      <td>28968</td>\n",
              "      <td>8.000127</td>\n",
              "      <td>13.571090</td>\n",
              "      <td>31487.0</td>\n",
              "      <td>36431.0968</td>\n",
              "      <td>0.0</td>\n",
              "      <td>0.0</td>\n",
              "      <td>1.0</td>\n",
              "    </tr>\n",
              "    <tr>\n",
              "      <th>398</th>\n",
              "      <td>40</td>\n",
              "      <td>40</td>\n",
              "      <td>110</td>\n",
              "      <td>90</td>\n",
              "      <td>1050</td>\n",
              "      <td>9.482759</td>\n",
              "      <td>16.544697</td>\n",
              "      <td>1160.0</td>\n",
              "      <td>1389.9656</td>\n",
              "      <td>0.0</td>\n",
              "      <td>0.0</td>\n",
              "      <td>1.0</td>\n",
              "    </tr>\n",
              "  </tbody>\n",
              "</table>\n",
              "</div>\n",
              "      <button class=\"colab-df-convert\" onclick=\"convertToInteractive('df-ea528019-9218-4d4a-bf60-3337c9947092')\"\n",
              "              title=\"Convert this dataframe to an interactive table.\"\n",
              "              style=\"display:none;\">\n",
              "        \n",
              "  <svg xmlns=\"http://www.w3.org/2000/svg\" height=\"24px\"viewBox=\"0 0 24 24\"\n",
              "       width=\"24px\">\n",
              "    <path d=\"M0 0h24v24H0V0z\" fill=\"none\"/>\n",
              "    <path d=\"M18.56 5.44l.94 2.06.94-2.06 2.06-.94-2.06-.94-.94-2.06-.94 2.06-2.06.94zm-11 1L8.5 8.5l.94-2.06 2.06-.94-2.06-.94L8.5 2.5l-.94 2.06-2.06.94zm10 10l.94 2.06.94-2.06 2.06-.94-2.06-.94-.94-2.06-.94 2.06-2.06.94z\"/><path d=\"M17.41 7.96l-1.37-1.37c-.4-.4-.92-.59-1.43-.59-.52 0-1.04.2-1.43.59L10.3 9.45l-7.72 7.72c-.78.78-.78 2.05 0 2.83L4 21.41c.39.39.9.59 1.41.59.51 0 1.02-.2 1.41-.59l7.78-7.78 2.81-2.81c.8-.78.8-2.07 0-2.86zM5.41 20L4 18.59l7.72-7.72 1.47 1.35L5.41 20z\"/>\n",
              "  </svg>\n",
              "      </button>\n",
              "      \n",
              "  <style>\n",
              "    .colab-df-container {\n",
              "      display:flex;\n",
              "      flex-wrap:wrap;\n",
              "      gap: 12px;\n",
              "    }\n",
              "\n",
              "    .colab-df-convert {\n",
              "      background-color: #E8F0FE;\n",
              "      border: none;\n",
              "      border-radius: 50%;\n",
              "      cursor: pointer;\n",
              "      display: none;\n",
              "      fill: #1967D2;\n",
              "      height: 32px;\n",
              "      padding: 0 0 0 0;\n",
              "      width: 32px;\n",
              "    }\n",
              "\n",
              "    .colab-df-convert:hover {\n",
              "      background-color: #E2EBFA;\n",
              "      box-shadow: 0px 1px 2px rgba(60, 64, 67, 0.3), 0px 1px 3px 1px rgba(60, 64, 67, 0.15);\n",
              "      fill: #174EA6;\n",
              "    }\n",
              "\n",
              "    [theme=dark] .colab-df-convert {\n",
              "      background-color: #3B4455;\n",
              "      fill: #D2E3FC;\n",
              "    }\n",
              "\n",
              "    [theme=dark] .colab-df-convert:hover {\n",
              "      background-color: #434B5C;\n",
              "      box-shadow: 0px 1px 3px 1px rgba(0, 0, 0, 0.15);\n",
              "      filter: drop-shadow(0px 1px 2px rgba(0, 0, 0, 0.3));\n",
              "      fill: #FFFFFF;\n",
              "    }\n",
              "  </style>\n",
              "\n",
              "      <script>\n",
              "        const buttonEl =\n",
              "          document.querySelector('#df-ea528019-9218-4d4a-bf60-3337c9947092 button.colab-df-convert');\n",
              "        buttonEl.style.display =\n",
              "          google.colab.kernel.accessAllowed ? 'block' : 'none';\n",
              "\n",
              "        async function convertToInteractive(key) {\n",
              "          const element = document.querySelector('#df-ea528019-9218-4d4a-bf60-3337c9947092');\n",
              "          const dataTable =\n",
              "            await google.colab.kernel.invokeFunction('convertToInteractive',\n",
              "                                                     [key], {});\n",
              "          if (!dataTable) return;\n",
              "\n",
              "          const docLinkHtml = 'Like what you see? Visit the ' +\n",
              "            '<a target=\"_blank\" href=https://colab.research.google.com/notebooks/data_table.ipynb>data table notebook</a>'\n",
              "            + ' to learn more about interactive tables.';\n",
              "          element.innerHTML = '';\n",
              "          dataTable['output_type'] = 'display_data';\n",
              "          await google.colab.output.renderOutput(dataTable, element);\n",
              "          const docLink = document.createElement('div');\n",
              "          docLink.innerHTML = docLinkHtml;\n",
              "          element.appendChild(docLink);\n",
              "        }\n",
              "      </script>\n",
              "    </div>\n",
              "  </div>\n",
              "  "
            ],
            "text/plain": [
              "     warp_count  weft_count  epi  ...  double_yran  double_beam  normal\n",
              "68           40          40  110  ...          0.0          0.0     1.0\n",
              "20           40          40  110  ...          0.0          0.0     1.0\n",
              "153          30          30  110  ...          0.0          0.0     1.0\n",
              "14           40          40  110  ...          0.0          0.0     1.0\n",
              "398          40          40  110  ...          0.0          0.0     1.0\n",
              "\n",
              "[5 rows x 12 columns]"
            ]
          },
          "metadata": {},
          "execution_count": 21
        }
      ]
    },
    {
      "cell_type": "markdown",
      "source": [
        "For ANN scaling is a must"
      ],
      "metadata": {
        "id": "rG4g33XNYKPp"
      },
      "id": "rG4g33XNYKPp"
    },
    {
      "cell_type": "code",
      "execution_count": 22,
      "id": "a11d8b7e",
      "metadata": {
        "id": "a11d8b7e"
      },
      "outputs": [],
      "source": [
        "from sklearn.preprocessing import MinMaxScaler"
      ]
    },
    {
      "cell_type": "code",
      "execution_count": 23,
      "id": "58e7031b",
      "metadata": {
        "id": "58e7031b"
      },
      "outputs": [],
      "source": [
        "sc = MinMaxScaler()"
      ]
    },
    {
      "cell_type": "markdown",
      "source": [
        "Tensorflow works better with array rather than dataframe hence we convert the dataframe to array to scales them. Besides, we will use the array form to predict from our input data.."
      ],
      "metadata": {
        "id": "KGrFBQMSYQFH"
      },
      "id": "KGrFBQMSYQFH"
    },
    {
      "cell_type": "code",
      "execution_count": 24,
      "id": "84f48ae8",
      "metadata": {
        "id": "84f48ae8"
      },
      "outputs": [],
      "source": [
        "X_train_sc = sc.fit_transform(X_train)\n",
        "X_test_sc = sc.transform(X_test)"
      ]
    },
    {
      "cell_type": "code",
      "source": [
        "import tensorflow as tf\n",
        "from tensorflow import keras\n",
        "from tensorflow.keras import layers"
      ],
      "metadata": {
        "id": "w11vzga8uDNB"
      },
      "id": "w11vzga8uDNB",
      "execution_count": 25,
      "outputs": []
    },
    {
      "cell_type": "markdown",
      "source": [
        "**Instead of Squential Model we prefer to use Functional api model**"
      ],
      "metadata": {
        "id": "Baeh-Mj3Yjs_"
      },
      "id": "Baeh-Mj3Yjs_"
    },
    {
      "cell_type": "code",
      "source": [
        "from tensorflow.python.keras import activations\n",
        "input_layer = keras.Input(shape=(X_test_sc.shape[1],))\n",
        "dense_layer = layers.Dense(128,kernel_initializer='normal', activation='relu')\n",
        "x = dense_layer(input_layer)\n",
        "x = layers.Dense(256,kernel_initializer= 'normal' ,  activation='relu')(x) \n",
        "x = layers.Dense(128,kernel_initializer= 'normal' ,activation='relu')(x)\n",
        "output_layer = layers.Dense(1,kernel_initializer= 'normal', activation='linear')(x)\n",
        "model = keras.Model(inputs=input_layer, outputs=output_layer, name='Ann_model')\n",
        "model.summary()"
      ],
      "metadata": {
        "colab": {
          "base_uri": "https://localhost:8080/"
        },
        "id": "eGqtBw8huDQ3",
        "outputId": "36d96d97-0902-4c68-9628-6cdb9aabbecb"
      },
      "id": "eGqtBw8huDQ3",
      "execution_count": 26,
      "outputs": [
        {
          "output_type": "stream",
          "name": "stdout",
          "text": [
            "Model: \"Ann_model\"\n",
            "_________________________________________________________________\n",
            " Layer (type)                Output Shape              Param #   \n",
            "=================================================================\n",
            " input_1 (InputLayer)        [(None, 12)]              0         \n",
            "                                                                 \n",
            " dense (Dense)               (None, 128)               1664      \n",
            "                                                                 \n",
            " dense_1 (Dense)             (None, 256)               33024     \n",
            "                                                                 \n",
            " dense_2 (Dense)             (None, 128)               32896     \n",
            "                                                                 \n",
            " dense_3 (Dense)             (None, 1)                 129       \n",
            "                                                                 \n",
            "=================================================================\n",
            "Total params: 67,713\n",
            "Trainable params: 67,713\n",
            "Non-trainable params: 0\n",
            "_________________________________________________________________\n"
          ]
        }
      ]
    },
    {
      "cell_type": "code",
      "source": [
        "model.compile(loss='mae', optimizer='adam', metrics='mae')"
      ],
      "metadata": {
        "id": "RNmJC_QEuDT6"
      },
      "id": "RNmJC_QEuDT6",
      "execution_count": 27,
      "outputs": []
    },
    {
      "cell_type": "markdown",
      "source": [
        "**For early stopping**"
      ],
      "metadata": {
        "id": "1dZn7MX_ZHAA"
      },
      "id": "1dZn7MX_ZHAA"
    },
    {
      "cell_type": "code",
      "source": [
        "from tensorflow.keras.callbacks import EarlyStopping"
      ],
      "metadata": {
        "id": "CqxYy35vxTYb"
      },
      "id": "CqxYy35vxTYb",
      "execution_count": 28,
      "outputs": []
    },
    {
      "cell_type": "code",
      "source": [
        "early_stop = EarlyStopping(monitor='val_loss', mode='min', patience=25)"
      ],
      "metadata": {
        "id": "mjZs7CLvxuRk"
      },
      "id": "mjZs7CLvxuRk",
      "execution_count": 29,
      "outputs": []
    },
    {
      "cell_type": "code",
      "source": [
        "history= model.fit(X_train_sc, y_train,epochs=600, validation_split=0.2, batch_size=20, callbacks=[early_stop], verbose=0)"
      ],
      "metadata": {
        "id": "TKZYINL2w9Qc"
      },
      "id": "TKZYINL2w9Qc",
      "execution_count": 30,
      "outputs": []
    },
    {
      "cell_type": "code",
      "source": [
        "from sklearn.metrics import r2_score"
      ],
      "metadata": {
        "id": "_T6S-55lzvWu"
      },
      "id": "_T6S-55lzvWu",
      "execution_count": 31,
      "outputs": []
    },
    {
      "cell_type": "code",
      "source": [
        "y_pred = model.predict(X_test_sc)\n",
        "r2_score(y_test, y_pred)"
      ],
      "metadata": {
        "colab": {
          "base_uri": "https://localhost:8080/"
        },
        "id": "o-olXnhLzuSE",
        "outputId": "a629e2f7-1738-4348-89cd-0f8c05f2e31a"
      },
      "id": "o-olXnhLzuSE",
      "execution_count": 32,
      "outputs": [
        {
          "output_type": "execute_result",
          "data": {
            "text/plain": [
              "0.44142542646879124"
            ]
          },
          "metadata": {},
          "execution_count": 32
        }
      ]
    },
    {
      "cell_type": "code",
      "source": [
        "loss= history.history['loss']\n",
        "val_loss= history.history['val_loss']\n"
      ],
      "metadata": {
        "id": "xnTwuxuNzuUu"
      },
      "id": "xnTwuxuNzuUu",
      "execution_count": 33,
      "outputs": []
    },
    {
      "cell_type": "code",
      "source": [
        "import matplotlib.pyplot as plt"
      ],
      "metadata": {
        "id": "ygmrrughzuXi"
      },
      "id": "ygmrrughzuXi",
      "execution_count": 34,
      "outputs": []
    },
    {
      "cell_type": "code",
      "source": [
        "plt.plot(loss)\n",
        "plt.plot(val_loss)"
      ],
      "metadata": {
        "colab": {
          "base_uri": "https://localhost:8080/",
          "height": 282
        },
        "id": "WXzC7TkJ08yy",
        "outputId": "abb88d0d-4557-4860-d30e-68fdb861d821"
      },
      "id": "WXzC7TkJ08yy",
      "execution_count": 35,
      "outputs": [
        {
          "output_type": "execute_result",
          "data": {
            "text/plain": [
              "[<matplotlib.lines.Line2D at 0x7f5442161350>]"
            ]
          },
          "metadata": {},
          "execution_count": 35
        },
        {
          "output_type": "display_data",
          "data": {
            "image/png": "[encoded data removed]",
            "text/plain": [
              "<Figure size 432x288 with 1 Axes>"
            ]
          },
          "metadata": {
            "needs_background": "light"
          }
        }
      ]
    },
    {
      "cell_type": "markdown",
      "source": [
        "# **For a new value:**"
      ],
      "metadata": {
        "id": "v0LsWIy-7Y7S"
      },
      "id": "v0LsWIy-7Y7S"
    },
    {
      "cell_type": "code",
      "source": [
        "epi = 100\n",
        "ppi = 80\n",
        "warp_count = 40\n",
        "weft_count = 40\n",
        "beam_type = 'normal'\n",
        "# beam_type = ohe.transform(beam_type)\n",
        "Finish_order_yds = 32000\n",
        "Allowance=7\n",
        "shrinkage = 12\n"
      ],
      "metadata": {
        "id": "7NiNFrs9kulr"
      },
      "id": "7NiNFrs9kulr",
      "execution_count": 36,
      "outputs": []
    },
    {
      "cell_type": "code",
      "source": [
        "new_df = pd.DataFrame({'warp_count':[warp_count],\n",
        "              'weft_count':[weft_count],\n",
        "              'epi':[epi],\n",
        "              'ppi':[ppi],\n",
        "              'beam_type':[beam_type],\n",
        "              'Finish_order_yds':[Finish_order_yds],\n",
        "              'Allowance':[Allowance] ,\n",
        "              'shrinkage':[shrinkage] })\n",
        "\n",
        "new_df['Grey_Fabric_yds'] = new_df['Finish_order_yds']*100/(100-new_df['Allowance'])\n",
        "new_df['Req_Beam_length_yds'] = new_df['Grey_Fabric_yds']*100/(100- new_df['shrinkage'])\n",
        "# Grey_Fabric_yds = Finish_order_yds*100/(100- Allowance)\n",
        "# Req_Beam_length_yds = Grey_Fabric_yds*100/(100- shrinkage)"
      ],
      "metadata": {
        "id": "4sXekMEKkPCa"
      },
      "id": "4sXekMEKkPCa",
      "execution_count": 37,
      "outputs": []
    },
    {
      "cell_type": "code",
      "source": [
        "new_df"
      ],
      "metadata": {
        "colab": {
          "base_uri": "https://localhost:8080/",
          "height": 81
        },
        "id": "48xWpufEpEl5",
        "outputId": "c75bb3d8-e2e9-40ea-ad97-b2e52bfa9d57"
      },
      "id": "48xWpufEpEl5",
      "execution_count": 38,
      "outputs": [
        {
          "output_type": "execute_result",
          "data": {
            "text/html": [
              "\n",
              "  <div id=\"df-25d362b2-e2a8-4f25-b84f-bc4a5ef4ad82\">\n",
              "    <div class=\"colab-df-container\">\n",
              "      <div>\n",
              "<style scoped>\n",
              "    .dataframe tbody tr th:only-of-type {\n",
              "        vertical-align: middle;\n",
              "    }\n",
              "\n",
              "    .dataframe tbody tr th {\n",
              "        vertical-align: top;\n",
              "    }\n",
              "\n",
              "    .dataframe thead th {\n",
              "        text-align: right;\n",
              "    }\n",
              "</style>\n",
              "<table border=\"1\" class=\"dataframe\">\n",
              "  <thead>\n",
              "    <tr style=\"text-align: right;\">\n",
              "      <th></th>\n",
              "      <th>warp_count</th>\n",
              "      <th>weft_count</th>\n",
              "      <th>epi</th>\n",
              "      <th>ppi</th>\n",
              "      <th>beam_type</th>\n",
              "      <th>Finish_order_yds</th>\n",
              "      <th>Allowance</th>\n",
              "      <th>shrinkage</th>\n",
              "      <th>Grey_Fabric_yds</th>\n",
              "      <th>Req_Beam_length_yds</th>\n",
              "    </tr>\n",
              "  </thead>\n",
              "  <tbody>\n",
              "    <tr>\n",
              "      <th>0</th>\n",
              "      <td>40</td>\n",
              "      <td>40</td>\n",
              "      <td>100</td>\n",
              "      <td>80</td>\n",
              "      <td>normal</td>\n",
              "      <td>32000</td>\n",
              "      <td>7</td>\n",
              "      <td>12</td>\n",
              "      <td>34408.602151</td>\n",
              "      <td>39100.684262</td>\n",
              "    </tr>\n",
              "  </tbody>\n",
              "</table>\n",
              "</div>\n",
              "      <button class=\"colab-df-convert\" onclick=\"convertToInteractive('df-25d362b2-e2a8-4f25-b84f-bc4a5ef4ad82')\"\n",
              "              title=\"Convert this dataframe to an interactive table.\"\n",
              "              style=\"display:none;\">\n",
              "        \n",
              "  <svg xmlns=\"http://www.w3.org/2000/svg\" height=\"24px\"viewBox=\"0 0 24 24\"\n",
              "       width=\"24px\">\n",
              "    <path d=\"M0 0h24v24H0V0z\" fill=\"none\"/>\n",
              "    <path d=\"M18.56 5.44l.94 2.06.94-2.06 2.06-.94-2.06-.94-.94-2.06-.94 2.06-2.06.94zm-11 1L8.5 8.5l.94-2.06 2.06-.94-2.06-.94L8.5 2.5l-.94 2.06-2.06.94zm10 10l.94 2.06.94-2.06 2.06-.94-2.06-.94-.94-2.06-.94 2.06-2.06.94z\"/><path d=\"M17.41 7.96l-1.37-1.37c-.4-.4-.92-.59-1.43-.59-.52 0-1.04.2-1.43.59L10.3 9.45l-7.72 7.72c-.78.78-.78 2.05 0 2.83L4 21.41c.39.39.9.59 1.41.59.51 0 1.02-.2 1.41-.59l7.78-7.78 2.81-2.81c.8-.78.8-2.07 0-2.86zM5.41 20L4 18.59l7.72-7.72 1.47 1.35L5.41 20z\"/>\n",
              "  </svg>\n",
              "      </button>\n",
              "      \n",
              "  <style>\n",
              "    .colab-df-container {\n",
              "      display:flex;\n",
              "      flex-wrap:wrap;\n",
              "      gap: 12px;\n",
              "    }\n",
              "\n",
              "    .colab-df-convert {\n",
              "      background-color: #E8F0FE;\n",
              "      border: none;\n",
              "      border-radius: 50%;\n",
              "      cursor: pointer;\n",
              "      display: none;\n",
              "      fill: #1967D2;\n",
              "      height: 32px;\n",
              "      padding: 0 0 0 0;\n",
              "      width: 32px;\n",
              "    }\n",
              "\n",
              "    .colab-df-convert:hover {\n",
              "      background-color: #E2EBFA;\n",
              "      box-shadow: 0px 1px 2px rgba(60, 64, 67, 0.3), 0px 1px 3px 1px rgba(60, 64, 67, 0.15);\n",
              "      fill: #174EA6;\n",
              "    }\n",
              "\n",
              "    [theme=dark] .colab-df-convert {\n",
              "      background-color: #3B4455;\n",
              "      fill: #D2E3FC;\n",
              "    }\n",
              "\n",
              "    [theme=dark] .colab-df-convert:hover {\n",
              "      background-color: #434B5C;\n",
              "      box-shadow: 0px 1px 3px 1px rgba(0, 0, 0, 0.15);\n",
              "      filter: drop-shadow(0px 1px 2px rgba(0, 0, 0, 0.3));\n",
              "      fill: #FFFFFF;\n",
              "    }\n",
              "  </style>\n",
              "\n",
              "      <script>\n",
              "        const buttonEl =\n",
              "          document.querySelector('#df-25d362b2-e2a8-4f25-b84f-bc4a5ef4ad82 button.colab-df-convert');\n",
              "        buttonEl.style.display =\n",
              "          google.colab.kernel.accessAllowed ? 'block' : 'none';\n",
              "\n",
              "        async function convertToInteractive(key) {\n",
              "          const element = document.querySelector('#df-25d362b2-e2a8-4f25-b84f-bc4a5ef4ad82');\n",
              "          const dataTable =\n",
              "            await google.colab.kernel.invokeFunction('convertToInteractive',\n",
              "                                                     [key], {});\n",
              "          if (!dataTable) return;\n",
              "\n",
              "          const docLinkHtml = 'Like what you see? Visit the ' +\n",
              "            '<a target=\"_blank\" href=https://colab.research.google.com/notebooks/data_table.ipynb>data table notebook</a>'\n",
              "            + ' to learn more about interactive tables.';\n",
              "          element.innerHTML = '';\n",
              "          dataTable['output_type'] = 'display_data';\n",
              "          await google.colab.output.renderOutput(dataTable, element);\n",
              "          const docLink = document.createElement('div');\n",
              "          docLink.innerHTML = docLinkHtml;\n",
              "          element.appendChild(docLink);\n",
              "        }\n",
              "      </script>\n",
              "    </div>\n",
              "  </div>\n",
              "  "
            ],
            "text/plain": [
              "   warp_count  weft_count  epi  ...  shrinkage Grey_Fabric_yds  Req_Beam_length_yds\n",
              "0          40          40  100  ...         12    34408.602151         39100.684262\n",
              "\n",
              "[1 rows x 10 columns]"
            ]
          },
          "metadata": {},
          "execution_count": 38
        }
      ]
    },
    {
      "cell_type": "code",
      "source": [
        "def ohe_transfrom_test(X_test): \n",
        "  ohe_beam_type_test = ohe.transform(X_test[['beam_type']])\n",
        "  ohe_beam_type_test = pd.DataFrame(ohe_beam_type_test.toarray(), columns=['double_yran', 'double_beam', 'normal'] ) \n",
        "  ohe_beam_type_test.index = X_test.index\n",
        "  X_test = X_test.drop('beam_type', axis=1)\n",
        "  X_test = pd.concat([X_test, ohe_beam_type_test], axis=1)\n",
        "  return X_test"
      ],
      "metadata": {
        "id": "uU_hIf6kQGe6"
      },
      "id": "uU_hIf6kQGe6",
      "execution_count": 40,
      "outputs": []
    },
    {
      "cell_type": "code",
      "source": [
        "new_df= ohe_transfrom_test(new_df)"
      ],
      "metadata": {
        "id": "7MCiZtOCp2tF"
      },
      "id": "7MCiZtOCp2tF",
      "execution_count": 41,
      "outputs": []
    },
    {
      "cell_type": "code",
      "source": [
        "new_df_sc = sc.transform(new_df)"
      ],
      "metadata": {
        "id": "Olm4nZZQM29I"
      },
      "id": "Olm4nZZQM29I",
      "execution_count": 42,
      "outputs": []
    },
    {
      "cell_type": "code",
      "source": [
        "model.predict(new_df_sc)"
      ],
      "metadata": {
        "colab": {
          "base_uri": "https://localhost:8080/"
        },
        "id": "SGjpb5TSp2wM",
        "outputId": "9ab588ff-eede-4adb-d44e-583ce6360194"
      },
      "id": "SGjpb5TSp2wM",
      "execution_count": 43,
      "outputs": [
        {
          "output_type": "execute_result",
          "data": {
            "text/plain": [
              "array([[12.763369]], dtype=float32)"
            ]
          },
          "metadata": {},
          "execution_count": 43
        }
      ]
    }
  ],
  "metadata": {
    "kernelspec": {
      "display_name": "Python 3 (ipykernel)",
      "language": "python",
      "name": "python3"
    },
    "language_info": {
      "codemirror_mode": {
        "name": "ipython",
        "version": 3
      },
      "file_extension": ".py",
      "mimetype": "text/x-python",
      "name": "python",
      "nbconvert_exporter": "python",
      "pygments_lexer": "ipython3",
      "version": "3.9.2"
    },
    "colab": {
      "name": "ANN_full_in_Textile_Rejection_prediction.ipynb",
      "provenance": [],
      "collapsed_sections": [],
      "include_colab_link": true
    }
  },
  "nbformat": 4,
  "nbformat_minor": 5
}